{
  "nbformat": 4,
  "nbformat_minor": 0,
  "metadata": {
    "colab": {
      "provenance": [],
      "collapsed_sections": [],
      "authorship_tag": "ABX9TyP0gyoX/9DQHGSB+A7br2TG",
      "include_colab_link": true
    },
    "kernelspec": {
      "name": "python3",
      "display_name": "Python 3"
    },
    "language_info": {
      "name": "python"
    }
  },
  "cells": [
    {
      "cell_type": "markdown",
      "metadata": {
        "id": "view-in-github",
        "colab_type": "text"
      },
      "source": [
        "<a href=\"https://colab.research.google.com/github/shubham-k01/SDS_Exps/blob/main/STATS_EXP2.ipynb\" target=\"_parent\"><img src=\"https://colab.research.google.com/assets/colab-badge.svg\" alt=\"Open In Colab\"/></a>"
      ]
    },
    {
      "cell_type": "code",
      "metadata": {
        "id": "t2kXGS5Pfmo7"
      },
      "source": [
        "import numpy as np"
      ],
      "execution_count": null,
      "outputs": []
    },
    {
      "cell_type": "markdown",
      "metadata": {
        "id": "8x3ot9JYg96i"
      },
      "source": [
        "**Solution 1**"
      ]
    },
    {
      "cell_type": "code",
      "metadata": {
        "colab": {
          "base_uri": "https://localhost:8080/"
        },
        "id": "F5iWGO88g6AS",
        "outputId": "65d412b2-c0a2-4228-fff2-8bdd08e8e3b9"
      },
      "source": [
        "a=[20,2,7,1,34]\n",
        "a_mean=np.mean(a)\n",
        "print(\"Arithmetic mean of a is \",a_mean)"
      ],
      "execution_count": null,
      "outputs": [
        {
          "output_type": "stream",
          "name": "stdout",
          "text": [
            "Arithmetic mean of a is  12.8\n"
          ]
        }
      ]
    },
    {
      "cell_type": "markdown",
      "metadata": {
        "id": "0gQPKXRMhu8h"
      },
      "source": [
        "**Solution 2**"
      ]
    },
    {
      "cell_type": "code",
      "metadata": {
        "colab": {
          "base_uri": "https://localhost:8080/"
        },
        "id": "Byf48ucLg6RR",
        "outputId": "a50726af-6415-4b9b-f397-28e82a07d54e"
      },
      "source": [
        "arr=np.array([[14,17,12,33,44],[15,6,27,8,19],[23,2,54,1,4]])\n",
        "print(arr)"
      ],
      "execution_count": null,
      "outputs": [
        {
          "output_type": "stream",
          "name": "stdout",
          "text": [
            "[[14 17 12 33 44]\n",
            " [15  6 27  8 19]\n",
            " [23  2 54  1  4]]\n"
          ]
        }
      ]
    },
    {
      "cell_type": "code",
      "metadata": {
        "colab": {
          "base_uri": "https://localhost:8080/"
        },
        "id": "P60HL8Qlg6T1",
        "outputId": "96310bb0-258a-4bfd-a66f-389dbd8d0cdd"
      },
      "source": [
        " print(\"Arithmetic mean for entire data = \",np.mean(arr))"
      ],
      "execution_count": null,
      "outputs": [
        {
          "output_type": "stream",
          "name": "stdout",
          "text": [
            "Arithmetic mean for entire data =  18.6\n"
          ]
        }
      ]
    },
    {
      "cell_type": "code",
      "metadata": {
        "colab": {
          "base_uri": "https://localhost:8080/"
        },
        "id": "15m_QWtfg6WI",
        "outputId": "2b462cd2-1bc5-4a85-9408-0e30ed52436a"
      },
      "source": [
        "#Column mean\n",
        "print(\"Column wise mean= \",np.mean(arr,axis=0))"
      ],
      "execution_count": null,
      "outputs": [
        {
          "output_type": "stream",
          "name": "stdout",
          "text": [
            "Column wise mean=  [17.33333333  8.33333333 31.         14.         22.33333333]\n"
          ]
        }
      ]
    },
    {
      "cell_type": "code",
      "metadata": {
        "colab": {
          "base_uri": "https://localhost:8080/"
        },
        "id": "Js52Y9GDg6Yq",
        "outputId": "1ec5675c-f0da-47d4-c628-da9ed566d91b"
      },
      "source": [
        "#Row mean\n",
        "print(\"Row wise mean= \",np.mean(arr,axis=1))"
      ],
      "execution_count": null,
      "outputs": [
        {
          "output_type": "stream",
          "name": "stdout",
          "text": [
            "Row wise mean=  [24.  15.  16.8]\n"
          ]
        }
      ]
    },
    {
      "cell_type": "code",
      "metadata": {
        "colab": {
          "base_uri": "https://localhost:8080/"
        },
        "id": "QlujsJDYg6cJ",
        "outputId": "4f915d20-afd0-4854-f2c3-d937c705c69f"
      },
      "source": [
        "out_arr=np.arange(3)\n",
        "print(out_arr)\n",
        "np.mean(arr,axis=1,out=out_arr)"
      ],
      "execution_count": null,
      "outputs": [
        {
          "output_type": "stream",
          "name": "stdout",
          "text": [
            "[0 1 2]\n"
          ]
        },
        {
          "output_type": "execute_result",
          "data": {
            "text/plain": [
              "array([24, 15, 16])"
            ]
          },
          "metadata": {},
          "execution_count": 7
        }
      ]
    },
    {
      "cell_type": "code",
      "metadata": {
        "colab": {
          "base_uri": "https://localhost:8080/"
        },
        "id": "UwyTiEESkh0j",
        "outputId": "aa488c27-04bd-4fff-ed5f-844c033eaf23"
      },
      "source": [
        "type(out_arr)"
      ],
      "execution_count": null,
      "outputs": [
        {
          "output_type": "execute_result",
          "data": {
            "text/plain": [
              "numpy.ndarray"
            ]
          },
          "metadata": {},
          "execution_count": 8
        }
      ]
    },
    {
      "cell_type": "markdown",
      "metadata": {
        "id": "IfQfYOSqkIFT"
      },
      "source": [
        "**Solution 3**"
      ]
    },
    {
      "cell_type": "code",
      "metadata": {
        "colab": {
          "base_uri": "https://localhost:8080/"
        },
        "id": "XKuXOkltkHRL",
        "outputId": "9da7f0dc-69e8-40dc-9fab-c424e40468c5"
      },
      "source": [
        "b=np.array([[3,7,5],[8,4,3],[2,4,9]])\n",
        "print(b)"
      ],
      "execution_count": null,
      "outputs": [
        {
          "output_type": "stream",
          "name": "stdout",
          "text": [
            "[[3 7 5]\n",
            " [8 4 3]\n",
            " [2 4 9]]\n"
          ]
        }
      ]
    },
    {
      "cell_type": "code",
      "metadata": {
        "colab": {
          "base_uri": "https://localhost:8080/"
        },
        "id": "D6SSFwyik8fZ",
        "outputId": "c7273756-54cb-4eff-fd30-428ab1d72de5"
      },
      "source": [
        "print(\"Minimum value for data\",np.amin(b))"
      ],
      "execution_count": null,
      "outputs": [
        {
          "output_type": "stream",
          "name": "stdout",
          "text": [
            "Minimum value for data 2\n"
          ]
        }
      ]
    },
    {
      "cell_type": "code",
      "metadata": {
        "colab": {
          "base_uri": "https://localhost:8080/"
        },
        "id": "S2jYUT1hmwXk",
        "outputId": "6d3701a5-6b75-4d3b-cfc8-f678503cdd79"
      },
      "source": [
        "print(\"Minimum value column wise = \",np.amin(b,axis=0))"
      ],
      "execution_count": null,
      "outputs": [
        {
          "output_type": "stream",
          "name": "stdout",
          "text": [
            "Minimum value column wise =  [2 4 3]\n"
          ]
        }
      ]
    },
    {
      "cell_type": "code",
      "metadata": {
        "colab": {
          "base_uri": "https://localhost:8080/"
        },
        "id": "xZh912bTm5V_",
        "outputId": "481fbc79-6852-4308-efc7-934e3214e1c1"
      },
      "source": [
        "print(\"Minimum value row wise = \",np.amin(b,axis=1))"
      ],
      "execution_count": null,
      "outputs": [
        {
          "output_type": "stream",
          "name": "stdout",
          "text": [
            "Minimum value row wise =  [3 3 2]\n"
          ]
        }
      ]
    },
    {
      "cell_type": "code",
      "metadata": {
        "colab": {
          "base_uri": "https://localhost:8080/"
        },
        "id": "P5Zm2lXPnBJE",
        "outputId": "11f3309a-bcab-4e74-bf1c-8d11dd6dd40a"
      },
      "source": [
        "print(\"Maximum value for data = \",np.amax(b))"
      ],
      "execution_count": null,
      "outputs": [
        {
          "output_type": "stream",
          "name": "stdout",
          "text": [
            "Maximum value for data =  9\n"
          ]
        }
      ]
    },
    {
      "cell_type": "code",
      "metadata": {
        "colab": {
          "base_uri": "https://localhost:8080/"
        },
        "id": "g_1WT-fmnXh6",
        "outputId": "e879ecca-1b28-4d00-ee18-15bb9f137178"
      },
      "source": [
        "print(\"Maximum value column wise = \",np.amax(b,axis=0))"
      ],
      "execution_count": null,
      "outputs": [
        {
          "output_type": "stream",
          "name": "stdout",
          "text": [
            "Maximum value column wise =  [8 7 9]\n"
          ]
        }
      ]
    },
    {
      "cell_type": "code",
      "metadata": {
        "colab": {
          "base_uri": "https://localhost:8080/"
        },
        "id": "2E1crhlnnc2B",
        "outputId": "c9a31812-c944-4225-e3de-e6f7f829e584"
      },
      "source": [
        "print(\"Maximum value row wise = \",np.amax(b,axis=1))"
      ],
      "execution_count": null,
      "outputs": [
        {
          "output_type": "stream",
          "name": "stdout",
          "text": [
            "Maximum value row wise =  [7 8 9]\n"
          ]
        }
      ]
    },
    {
      "cell_type": "code",
      "metadata": {
        "colab": {
          "base_uri": "https://localhost:8080/"
        },
        "id": "IaIkVr27nwRi",
        "outputId": "8da18896-ef31-400a-8619-b420d9ac6719"
      },
      "source": [
        "print(\"Range for data = \",np.ptp(b))"
      ],
      "execution_count": null,
      "outputs": [
        {
          "output_type": "stream",
          "name": "stdout",
          "text": [
            "Range for data =  7\n"
          ]
        }
      ]
    },
    {
      "cell_type": "code",
      "metadata": {
        "colab": {
          "base_uri": "https://localhost:8080/"
        },
        "id": "p7EJfjM-niyG",
        "outputId": "a107a42d-0dc6-4d5e-ed0a-507fb7c60e6b"
      },
      "source": [
        "print(\"Range for data - column wise= \",np.ptp(b,axis=0))"
      ],
      "execution_count": null,
      "outputs": [
        {
          "output_type": "stream",
          "name": "stdout",
          "text": [
            "Range for data - column wise=  [6 3 6]\n"
          ]
        }
      ]
    },
    {
      "cell_type": "code",
      "metadata": {
        "colab": {
          "base_uri": "https://localhost:8080/"
        },
        "id": "l6mrY0kYnw4S",
        "outputId": "b963949e-9785-4122-b17e-3784356f30f8"
      },
      "source": [
        "print(\"Range for data - row wise = \",np.ptp(b,axis=1))"
      ],
      "execution_count": null,
      "outputs": [
        {
          "output_type": "stream",
          "name": "stdout",
          "text": [
            "Range for data - row wise =  [4 5 7]\n"
          ]
        }
      ]
    },
    {
      "cell_type": "markdown",
      "metadata": {
        "id": "JxntawgfoB1y"
      },
      "source": [
        "**Solution 4**"
      ]
    },
    {
      "cell_type": "code",
      "metadata": {
        "colab": {
          "base_uri": "https://localhost:8080/"
        },
        "id": "MRi_S46WoD4g",
        "outputId": "f636468b-9d21-4c88-be58-d06812e1839e"
      },
      "source": [
        "x=np.array([1,2,3,4])\n",
        "w=np.array([4,3,2,1])\n",
        "print(\"Weighted average = \",np.average(x,weights=w))"
      ],
      "execution_count": null,
      "outputs": [
        {
          "output_type": "stream",
          "name": "stdout",
          "text": [
            "Weighted average =  2.0\n"
          ]
        }
      ]
    },
    {
      "cell_type": "markdown",
      "metadata": {
        "id": "RpDI3UQroua3"
      },
      "source": [
        "**Solution 5**"
      ]
    },
    {
      "cell_type": "code",
      "metadata": {
        "id": "gI5r4IaIoyxN"
      },
      "source": [
        "speed=[99,86,87,88,111,86,103,87,94,78,77,85,86]"
      ],
      "execution_count": null,
      "outputs": []
    },
    {
      "cell_type": "code",
      "metadata": {
        "colab": {
          "base_uri": "https://localhost:8080/"
        },
        "id": "2ASWBV7-o_Oj",
        "outputId": "54eca216-dcd8-49fa-9dcb-15243f3a2a05"
      },
      "source": [
        "print(\"Mean= \",np.mean(speed))"
      ],
      "execution_count": null,
      "outputs": [
        {
          "output_type": "stream",
          "name": "stdout",
          "text": [
            "Mean=  89.76923076923077\n"
          ]
        }
      ]
    },
    {
      "cell_type": "code",
      "metadata": {
        "colab": {
          "base_uri": "https://localhost:8080/"
        },
        "id": "nxDfdxSlpI-N",
        "outputId": "cd2b783c-9f9c-45d8-fd72-a9d6dd6f472c"
      },
      "source": [
        "print(\"Median= \",np.median(speed))"
      ],
      "execution_count": null,
      "outputs": [
        {
          "output_type": "stream",
          "name": "stdout",
          "text": [
            "Median=  87.0\n"
          ]
        }
      ]
    },
    {
      "cell_type": "code",
      "metadata": {
        "colab": {
          "base_uri": "https://localhost:8080/"
        },
        "id": "RXAatre8pQEr",
        "outputId": "452e8e17-cdc8-4937-975d-9013c1996bfb"
      },
      "source": [
        "from scipy import stats \n",
        "print(\"Mode=\",stats.mode(speed))"
      ],
      "execution_count": null,
      "outputs": [
        {
          "output_type": "stream",
          "name": "stdout",
          "text": [
            "Mode= ModeResult(mode=array([86]), count=array([3]))\n"
          ]
        }
      ]
    },
    {
      "cell_type": "markdown",
      "metadata": {
        "id": "dQjm5a8Opl0J"
      },
      "source": [
        "**Solution 6**"
      ]
    },
    {
      "cell_type": "code",
      "metadata": {
        "id": "VFqaRnOZplS5"
      },
      "source": [
        "from scipy.stats.mstats import gmean"
      ],
      "execution_count": null,
      "outputs": []
    },
    {
      "cell_type": "code",
      "metadata": {
        "colab": {
          "base_uri": "https://localhost:8080/"
        },
        "id": "DOcJsNaJp6xL",
        "outputId": "4abddaf6-4af8-4732-a483-0e3659b18e64"
      },
      "source": [
        "x=[[1,3,27],[3,4,6],[7,6,3],[3,6,8]]\n",
        "print(x)"
      ],
      "execution_count": null,
      "outputs": [
        {
          "output_type": "stream",
          "name": "stdout",
          "text": [
            "[[1, 3, 27], [3, 4, 6], [7, 6, 3], [3, 6, 8]]\n"
          ]
        }
      ]
    },
    {
      "cell_type": "code",
      "metadata": {
        "colab": {
          "base_uri": "https://localhost:8080/"
        },
        "id": "IfZ3Uq5hqX0h",
        "outputId": "1d5799aa-3914-48a7-fedf-102298622b62"
      },
      "source": [
        "print(\"Geometric mean column wise = \",gmean(x,axis=0))"
      ],
      "execution_count": null,
      "outputs": [
        {
          "output_type": "stream",
          "name": "stdout",
          "text": [
            "Geometric mean column wise =  [2.81731325 4.55901411 7.89644408]\n"
          ]
        }
      ]
    },
    {
      "cell_type": "code",
      "metadata": {
        "colab": {
          "base_uri": "https://localhost:8080/"
        },
        "id": "lBDzOLeqqe1y",
        "outputId": "9cfdedfa-82a8-4eeb-8470-2041d90179d5"
      },
      "source": [
        "print(\"Geometric mean row wise = \",gmean(x,axis=1))"
      ],
      "execution_count": null,
      "outputs": [
        {
          "output_type": "stream",
          "name": "stdout",
          "text": [
            "Geometric mean row wise =  [4.32674871 4.16016765 5.01329793 5.24148279]\n"
          ]
        }
      ]
    },
    {
      "cell_type": "code",
      "metadata": {
        "colab": {
          "base_uri": "https://localhost:8080/"
        },
        "id": "TGEdtIXCrgWA",
        "outputId": "bd313dfc-6ee4-4f0c-ae09-ab2f957742c6"
      },
      "source": [
        "x1 = [1 ,3 ,27, 3, 4, 6, 7, 6, 3, 3, 6, 8]\n",
        "print(\"Geometric mean = \",gmean(x1))"
      ],
      "execution_count": null,
      "outputs": [
        {
          "output_type": "stream",
          "name": "stdout",
          "text": [
            "Geometric mean =  4.66350606643965\n"
          ]
        }
      ]
    },
    {
      "cell_type": "markdown",
      "metadata": {
        "id": "2rj29m_6xb9I"
      },
      "source": [
        "**Solution 7**"
      ]
    },
    {
      "cell_type": "code",
      "metadata": {
        "colab": {
          "base_uri": "https://localhost:8080/"
        },
        "id": "KlfyKiwXvM6k",
        "outputId": "3262aff1-0985-4ac8-be2f-6f48497d5ee1"
      },
      "source": [
        "data=[1,3,5,7,9]\n",
        "from scipy.stats.mstats import hmean\n",
        "hmean(data)"
      ],
      "execution_count": null,
      "outputs": [
        {
          "output_type": "execute_result",
          "data": {
            "text/plain": [
              "2.797513321492007"
            ]
          },
          "metadata": {},
          "execution_count": 29
        }
      ]
    },
    {
      "cell_type": "markdown",
      "metadata": {
        "id": "JiQe79JWvumH"
      },
      "source": [
        "**Solution 8**"
      ]
    },
    {
      "cell_type": "code",
      "metadata": {
        "colab": {
          "base_uri": "https://localhost:8080/"
        },
        "id": "8SOFz_s4vW74",
        "outputId": "03d74b58-38a7-4f59-9557-2e1a9314b332"
      },
      "source": [
        "import numpy as np\n",
        "a=np.array([[30,65,70],[80,95,10],[50,90,60]])\n",
        "print(\"Median for entire dataset= \",np.median(a))\n",
        "print(\"Column wise Median= \",np.median(a,axis=0))\n",
        "print(\"Row wise Median= \",np.median(a,axis=1))"
      ],
      "execution_count": null,
      "outputs": [
        {
          "output_type": "stream",
          "name": "stdout",
          "text": [
            "Median for entire dataset=  65.0\n",
            "Column wise Median=  [50. 90. 60.]\n",
            "Row wise Median=  [65. 80. 60.]\n"
          ]
        }
      ]
    },
    {
      "cell_type": "markdown",
      "metadata": {
        "id": "Pm_k5EtPvz4E"
      },
      "source": [
        "**Solution 9**"
      ]
    },
    {
      "cell_type": "code",
      "metadata": {
        "id": "ixMOdE_H1BKH"
      },
      "source": [
        "l=[0,1,2,3,4,5,6]\n",
        "u=[0.99,1.99,2.99,3.99,4.99,5.99,6.99]\n",
        "f=[2,4,6,7,5,3,1]"
      ],
      "execution_count": null,
      "outputs": []
    },
    {
      "cell_type": "code",
      "metadata": {
        "id": "mbbDCrOKxaNd"
      },
      "source": [
        "def gr_mean(lclass,uclass,freq):\n",
        "\n",
        "  x=[]\n",
        "  m=0\n",
        "  d=0\n",
        "  for i in range(len(lclass)):\n",
        "    x.append(lclass[i]+(uclass[i]-lclass[i])/2)\n",
        "  for i in range(len(x)):\n",
        "    m=m+(x[i]*f[i])\n",
        "    d=d+f[i]\n",
        "  return(m/d)"
      ],
      "execution_count": null,
      "outputs": []
    },
    {
      "cell_type": "code",
      "metadata": {
        "colab": {
          "base_uri": "https://localhost:8080/"
        },
        "id": "v4f0EEaz0kuK",
        "outputId": "e99a068d-5566-49ec-d3e9-a41ba413a2d7"
      },
      "source": [
        "print(\"Grouped Mean= \",gr_mean(l,u,f))"
      ],
      "execution_count": null,
      "outputs": [
        {
          "output_type": "stream",
          "name": "stdout",
          "text": [
            "Grouped Mean=  3.2807142857142857\n"
          ]
        }
      ]
    },
    {
      "cell_type": "code",
      "metadata": {
        "id": "MBmt9_QU23gp"
      },
      "source": [
        "\n",
        "def gr_median(l,u,f):\n",
        "  cf=[]\n",
        "  cf.append(f[0])\n",
        "  for i in range(len(f)-1):\n",
        "    cf.append(cf[i]+f[i+1])\n",
        "  for i in range(len(cf)):\n",
        "    if((cf[i]>cf[-1]/2) or (cf[i]==cf[-1]/2)):\n",
        "      index=i\n",
        "      break\n",
        "  st=(u[0]-l[0])/f[index]\n",
        "  return l[index]+(st*((cf[-1]/2)-cf[index-1]))\n"
      ],
      "execution_count": null,
      "outputs": []
    },
    {
      "cell_type": "code",
      "metadata": {
        "colab": {
          "base_uri": "https://localhost:8080/"
        },
        "id": "Zo-iEO-t9nVI",
        "outputId": "0f4ece2b-5d2d-47a4-87bb-237d4ba8f8d4"
      },
      "source": [
        "print(\"Grouped median = \",gr_median(l,u,f))"
      ],
      "execution_count": null,
      "outputs": [
        {
          "output_type": "stream",
          "name": "stdout",
          "text": [
            "Grouped median =  3.282857142857143\n"
          ]
        }
      ]
    },
    {
      "cell_type": "markdown",
      "metadata": {
        "id": "REl85fUA-Id3"
      },
      "source": [
        "**Solution 10**"
      ]
    },
    {
      "cell_type": "code",
      "metadata": {
        "colab": {
          "base_uri": "https://localhost:8080/"
        },
        "id": "XMjmhFSb-F4S",
        "outputId": "c7517e96-589a-4ad3-866d-6025d1dc4632"
      },
      "source": [
        "lp=[30,40,72,83,25,10,50,90,60,15,5,9,34,23,67,80,67,45]\n",
        "print(\"30th percentile= \",np.percentile(lp,30))\n",
        "print(\"50th percentile= \",np.percentile(lp,50))\n",
        "print(\"75th percentile= \",np.percentile(lp,75))\n",
        "print(\"90th percentile= \",np.percentile(lp,90))"
      ],
      "execution_count": null,
      "outputs": [
        {
          "output_type": "stream",
          "name": "stdout",
          "text": [
            "30th percentile=  25.499999999999996\n",
            "50th percentile=  42.5\n",
            "75th percentile=  67.0\n",
            "90th percentile=  80.9\n"
          ]
        }
      ]
    },
    {
      "cell_type": "code",
      "metadata": {
        "id": "zX8btAWV-XOT"
      },
      "source": [
        "import math \n",
        "def m_percentile(data,percentile):\n",
        "  data=np.array([30,40,72,83,25,10,50,90,60,15,5,9,34,23,67,80,67,45])\n",
        "  n=len(data)\n",
        "  p=(n+1)*percentile/100\n",
        "  if p. is_integer():\n",
        "    return sorted(data)[int(p)-1]\n",
        "  else:\n",
        "    ft=sorted(data)[int(math.floor(p)-1)]\n",
        "    st=(p-int(math.floor(p)))*(sorted(data)[int(math.floor(p))]-ft)\n",
        "    return ft+st"
      ],
      "execution_count": null,
      "outputs": []
    },
    {
      "cell_type": "code",
      "metadata": {
        "colab": {
          "base_uri": "https://localhost:8080/"
        },
        "id": "hZPbZx45Dlvz",
        "outputId": "d0a74ad4-f842-45f3-8126-6167be9cdb0c"
      },
      "source": [
        "print(\"30th percentile= \",m_percentile(lp,30))\n",
        "print(\"50th percentile= \",m_percentile(lp,50))\n",
        "print(\"75th percentile= \",m_percentile(lp,75))\n",
        "print(\"90th percentile= \",m_percentile(lp,90))"
      ],
      "execution_count": null,
      "outputs": [
        {
          "output_type": "stream",
          "name": "stdout",
          "text": [
            "30th percentile=  24.4\n",
            "50th percentile=  42.5\n",
            "75th percentile=  68.25\n",
            "90th percentile=  83.70000000000002\n"
          ]
        }
      ]
    },
    {
      "cell_type": "markdown",
      "metadata": {
        "id": "BjBHSAB9xzsQ"
      },
      "source": [
        "**Solution 11**\n"
      ]
    },
    {
      "cell_type": "code",
      "metadata": {
        "id": "CswL-1arxzSi"
      },
      "source": [
        "a=np.array([91 ,79 ,66 ,98 ,127 ,139 ,154 ,147 ,192 ,88 ,97 ,92 ,87 ,142 ,127 ,184 ,145 ,162 ,95 ,89 ,86 ,98 ,145 ,129 ,149 ,158 ,241])\n",
        "import matplotlib.pyplot as plt"
      ],
      "execution_count": null,
      "outputs": []
    },
    {
      "cell_type": "code",
      "metadata": {
        "colab": {
          "base_uri": "https://localhost:8080/",
          "height": 334
        },
        "id": "UYcak1OAyLSn",
        "outputId": "ae382a03-9e16-454e-a498-2319cb68d515"
      },
      "source": [
        "plt.hist(a,8,range=(a.min(),a.max()))"
      ],
      "execution_count": null,
      "outputs": [
        {
          "output_type": "execute_result",
          "data": {
            "text/plain": [
              "(array([4., 8., 3., 6., 3., 2., 0., 1.]),\n",
              " array([ 66.   ,  87.875, 109.75 , 131.625, 153.5  , 175.375, 197.25 ,\n",
              "        219.125, 241.   ]),\n",
              " <a list of 8 Patch objects>)"
            ]
          },
          "metadata": {},
          "execution_count": 40
        },
        {
          "output_type": "display_data",
          "data": {
            "image/png": "[encoded data removed]",
            "text/plain": [
              "<Figure size 432x288 with 1 Axes>"
            ]
          },
          "metadata": {
            "needs_background": "light"
          }
        }
      ]
    },
    {
      "cell_type": "code",
      "metadata": {
        "colab": {
          "base_uri": "https://localhost:8080/"
        },
        "id": "OxxN8B1Ey4MD",
        "outputId": "b8908e4b-7984-4941-d3b7-61c1108aa94a"
      },
      "source": [
        "np.mean(a)"
      ],
      "execution_count": null,
      "outputs": [
        {
          "output_type": "execute_result",
          "data": {
            "text/plain": [
              "126.18518518518519"
            ]
          },
          "metadata": {},
          "execution_count": 41
        }
      ]
    },
    {
      "cell_type": "code",
      "metadata": {
        "colab": {
          "base_uri": "https://localhost:8080/"
        },
        "id": "xPhPDGi9zAVg",
        "outputId": "3ebfebee-b268-41e9-e970-9980e3753b79"
      },
      "source": [
        "from scipy import stats\n",
        "stats.mode(a)"
      ],
      "execution_count": null,
      "outputs": [
        {
          "output_type": "execute_result",
          "data": {
            "text/plain": [
              "ModeResult(mode=array([98]), count=array([2]))"
            ]
          },
          "metadata": {},
          "execution_count": 42
        }
      ]
    },
    {
      "cell_type": "markdown",
      "metadata": {
        "id": "VcHcCqcnzxap"
      },
      "source": [
        "**Solution 12**"
      ]
    },
    {
      "cell_type": "code",
      "metadata": {
        "colab": {
          "base_uri": "https://localhost:8080/"
        },
        "id": "3ziPS3SZzqL6",
        "outputId": "3b5dc065-e996-4575-b750-7179acf5f8fa"
      },
      "source": [
        "a=np.array([51, 38, 79, 46, 57])\n",
        "np.std(a)"
      ],
      "execution_count": null,
      "outputs": [
        {
          "output_type": "execute_result",
          "data": {
            "text/plain": [
              "13.876599006961325"
            ]
          },
          "metadata": {},
          "execution_count": 43
        }
      ]
    },
    {
      "cell_type": "markdown",
      "metadata": {
        "id": "WsGTw7jJ0a_y"
      },
      "source": [
        "**Solution 13**"
      ]
    },
    {
      "cell_type": "code",
      "metadata": {
        "id": "YTmDMC37zzay"
      },
      "source": [
        "a=[3600 , 4200 ,4700, 4900, 5300 , 5700 ,6700, 7300 ,7700 ,8100, 8300 ,8400 ,8700 ,8700 ,8900 ,9300 ,9500 ,9500 , 9700 ,10000 , 10300 , 10500 ,10700 ,10800 ,11000 ,11300 ,11300 ,11800 ,12100 ,12700 ,12900 ,13100 ,13500 ,13800 ,14600, 14900 , 16300 ,17200 ,18500 ,20300]"
      ],
      "execution_count": null,
      "outputs": []
    },
    {
      "cell_type": "code",
      "metadata": {
        "colab": {
          "base_uri": "https://localhost:8080/"
        },
        "id": "Kf5oq-Oh1Lev",
        "outputId": "542a920e-6717-480a-97ee-0ca777ceaeb4"
      },
      "source": [
        "np.ptp(a)"
      ],
      "execution_count": null,
      "outputs": [
        {
          "output_type": "execute_result",
          "data": {
            "text/plain": [
              "16700"
            ]
          },
          "metadata": {},
          "execution_count": 45
        }
      ]
    },
    {
      "cell_type": "code",
      "metadata": {
        "colab": {
          "base_uri": "https://localhost:8080/"
        },
        "id": "lng01hCT1NCa",
        "outputId": "eb3c6ae9-4ea7-4d3f-e8e0-3650c0e02a59"
      },
      "source": [
        "Q1=m_percentile(a,25)\n",
        "Q3=m_percentile(a,75)\n",
        "IQR=Q3-Q1\n",
        "print(IQR)"
      ],
      "execution_count": null,
      "outputs": [
        {
          "output_type": "stream",
          "name": "stdout",
          "text": [
            "47.25\n"
          ]
        }
      ]
    },
    {
      "cell_type": "markdown",
      "metadata": {
        "id": "8-HxmM-m2Cf5"
      },
      "source": [
        "**Solution 14**"
      ]
    },
    {
      "cell_type": "code",
      "metadata": {
        "id": "IXl9YxXy1dBd"
      },
      "source": [
        "a=[6.3, 7.2, 7.3, 8.1, 7.8, 6.8, 7.5, 7.8, 7.2, 7.5, 8.1, 8.2, 8.0, 7.4, 7.6, 7.7, 7.6, 7.4, 7.5, 8.4, 7.4, 7.6, 6.2, 7.4]"
      ],
      "execution_count": null,
      "outputs": []
    },
    {
      "cell_type": "code",
      "metadata": {
        "colab": {
          "base_uri": "https://localhost:8080/"
        },
        "id": "H16RQ7b_2VI9",
        "outputId": "b5408529-99a8-427e-d264-e97e32e37e6d"
      },
      "source": [
        "np.mean(a)"
      ],
      "execution_count": null,
      "outputs": [
        {
          "output_type": "execute_result",
          "data": {
            "text/plain": [
              "7.5"
            ]
          },
          "metadata": {},
          "execution_count": 48
        }
      ]
    },
    {
      "cell_type": "code",
      "metadata": {
        "colab": {
          "base_uri": "https://localhost:8080/"
        },
        "id": "CUfEQ4dY2W1T",
        "outputId": "7d708878-f05e-40d7-af53-aa811e57c39a"
      },
      "source": [
        "np.std(a)"
      ],
      "execution_count": null,
      "outputs": [
        {
          "output_type": "execute_result",
          "data": {
            "text/plain": [
              "0.5163977794943222"
            ]
          },
          "metadata": {},
          "execution_count": 49
        }
      ]
    },
    {
      "cell_type": "markdown",
      "metadata": {
        "id": "xlHVGQAR2asF"
      },
      "source": [
        "Not acceptable as std>0.5"
      ]
    },
    {
      "cell_type": "code",
      "metadata": {
        "id": "gPUMFeuN2ZmE"
      },
      "source": [],
      "execution_count": null,
      "outputs": []
    },
    {
      "cell_type": "markdown",
      "metadata": {
        "id": "E8pUQYeh2epi"
      },
      "source": [
        "** Solution 15  **"
      ]
    },
    {
      "cell_type": "code",
      "metadata": {
        "id": "M5FacCi12n43"
      },
      "source": [
        "CV1= np.sqrt(68.09)/32.11\n",
        "CV2= np.sqrt(71.14)/19.75"
      ],
      "execution_count": null,
      "outputs": []
    },
    {
      "cell_type": "code",
      "metadata": {
        "colab": {
          "base_uri": "https://localhost:8080/"
        },
        "id": "zQM_9o4C3ebe",
        "outputId": "61403e55-f73c-46e3-feaa-c77415a0b78b"
      },
      "source": [
        "print(CV1,CV2)"
      ],
      "execution_count": null,
      "outputs": [
        {
          "output_type": "stream",
          "name": "stdout",
          "text": [
            "0.25698120518064466 0.42706091916880085\n"
          ]
        }
      ]
    },
    {
      "cell_type": "markdown",
      "metadata": {
        "id": "NTr-j1HH3imD"
      },
      "source": [
        "Program A has less relative variability in its performance"
      ]
    },
    {
      "cell_type": "markdown",
      "metadata": {
        "id": "z65cSO5j3rM7"
      },
      "source": [
        "** Solution 16 **"
      ]
    },
    {
      "cell_type": "code",
      "metadata": {
        "id": "0Ilk8WVh3hoH"
      },
      "source": [
        "import matplotlib.pyplot as plt\n"
      ],
      "execution_count": null,
      "outputs": []
    },
    {
      "cell_type": "code",
      "metadata": {
        "colab": {
          "base_uri": "https://localhost:8080/",
          "height": 282
        },
        "id": "1K99HpGI3oR3",
        "outputId": "7645cf73-b1c1-4541-b9e1-b8ca04484458"
      },
      "source": [
        "x=[82,97,112,127,142,157,172,187,202,217]\n",
        "f=[10,11,23,26,31,23,9,9,6,2]\n",
        "plt.bar(x,f,15)"
      ],
      "execution_count": null,
      "outputs": [
        {
          "output_type": "execute_result",
          "data": {
            "text/plain": [
              "<BarContainer object of 10 artists>"
            ]
          },
          "metadata": {},
          "execution_count": 53
        },
        {
          "output_type": "display_data",
          "data": {
            "image/png": "[encoded data removed]",
            "text/plain": [
              "<Figure size 432x288 with 1 Axes>"
            ]
          },
          "metadata": {
            "needs_background": "light"
          }
        }
      ]
    },
    {
      "cell_type": "markdown",
      "metadata": {
        "id": "bVQ0tN0N5dtu"
      },
      "source": [
        "(a)Lower tail of the distribution is heavier than upper tail.\n",
        "(b) As there are few people with weight 180 pounds and above ,operator can afford to pair one heavy weight person with one lighter weight person. This will avoid delay. "
      ]
    },
    {
      "cell_type": "markdown",
      "metadata": {
        "id": "IUQ3Sed_58hT"
      },
      "source": [
        "** Solution 17**"
      ]
    },
    {
      "cell_type": "code",
      "metadata": {
        "id": "shO1adgy58MF"
      },
      "source": [
        "d=[99 ,56, 78, 55.5, 32, 90, 80, 81, 56, 59, 45, 77, 84.5, 84, 70, 72, 68, 32, 79, 90]\n",
        "n=[98 ,78, 68, 83, 81, 89, 88, 76, 65, 45, 98, 90, 80, 84.5, 85, 79, 78, 98, 90, 79, 81, 25.5]\n"
      ],
      "execution_count": null,
      "outputs": []
    },
    {
      "cell_type": "code",
      "metadata": {
        "colab": {
          "base_uri": "https://localhost:8080/"
        },
        "id": "Tb792omo4Yk0",
        "outputId": "4b4a32a8-1fe7-449c-e737-733cd999360c"
      },
      "source": [
        "print(\"For day class\")\n",
        "print(\"Minimum score = \",np.min(d))\n",
        "print(\"Maximum score = \",np.max(d))\n",
        "print(\"Median = \",m_percentile(d,50))\n",
        "print(\"Q1 = \",m_percentile(d,25))\n",
        "print(\"Q3 = \",m_percentile(d,75))"
      ],
      "execution_count": null,
      "outputs": [
        {
          "output_type": "stream",
          "name": "stdout",
          "text": [
            "For day class\n",
            "Minimum score =  32.0\n",
            "Maximum score =  99.0\n",
            "Median =  42.5\n",
            "Q1 =  21.0\n",
            "Q3 =  68.25\n"
          ]
        }
      ]
    },
    {
      "cell_type": "code",
      "metadata": {
        "colab": {
          "base_uri": "https://localhost:8080/"
        },
        "id": "mawoC2b46hPE",
        "outputId": "faaef194-acf5-4f38-d92d-9b61e2e89267"
      },
      "source": [
        "print(\"For evening class\")\n",
        "print(\"Minimum score = \",np.min(n))\n",
        "print(\"Maximum score = \",np.max(n))\n",
        "print(\"Median = \",m_percentile(n,50))\n",
        "print(\"Q1 = \",m_percentile(n,25))\n",
        "print(\"Q3 = \",m_percentile(n,75))"
      ],
      "execution_count": null,
      "outputs": [
        {
          "output_type": "stream",
          "name": "stdout",
          "text": [
            "For evening class\n",
            "Minimum score =  25.5\n",
            "Maximum score =  98.0\n",
            "Median =  42.5\n",
            "Q1 =  21.0\n",
            "Q3 =  68.25\n"
          ]
        }
      ]
    },
    {
      "cell_type": "code",
      "metadata": {
        "colab": {
          "base_uri": "https://localhost:8080/",
          "height": 580
        },
        "id": "7m2-kFlN6jZn",
        "outputId": "06d3ca78-42a6-4575-958e-69e7fc7cf52f"
      },
      "source": [
        "data=[d,n]\n",
        "plt.boxplot(data, vert=0)"
      ],
      "execution_count": null,
      "outputs": [
        {
          "output_type": "stream",
          "name": "stderr",
          "text": [
            "/usr/local/lib/python3.7/dist-packages/numpy/core/_asarray.py:83: VisibleDeprecationWarning: Creating an ndarray from ragged nested sequences (which is a list-or-tuple of lists-or-tuples-or ndarrays with different lengths or shapes) is deprecated. If you meant to do this, you must specify 'dtype=object' when creating the ndarray\n",
            "  return array(a, dtype, copy=False, order=order)\n"
          ]
        },
        {
          "output_type": "execute_result",
          "data": {
            "text/plain": [
              "{'boxes': [<matplotlib.lines.Line2D at 0x7f27bfc74350>,\n",
              "  <matplotlib.lines.Line2D at 0x7f27bfc80890>],\n",
              " 'caps': [<matplotlib.lines.Line2D at 0x7f27bfc7a2d0>,\n",
              "  <matplotlib.lines.Line2D at 0x7f27bfc7a810>,\n",
              "  <matplotlib.lines.Line2D at 0x7f27bfc8a910>,\n",
              "  <matplotlib.lines.Line2D at 0x7f27bfc8ae50>],\n",
              " 'fliers': [<matplotlib.lines.Line2D at 0x7f27bfc80310>,\n",
              "  <matplotlib.lines.Line2D at 0x7f27bfc92910>],\n",
              " 'means': [],\n",
              " 'medians': [<matplotlib.lines.Line2D at 0x7f27bfc7ad90>,\n",
              "  <matplotlib.lines.Line2D at 0x7f27bfc923d0>],\n",
              " 'whiskers': [<matplotlib.lines.Line2D at 0x7f27bfcc2050>,\n",
              "  <matplotlib.lines.Line2D at 0x7f27bfc74d50>,\n",
              "  <matplotlib.lines.Line2D at 0x7f27bfc80e90>,\n",
              "  <matplotlib.lines.Line2D at 0x7f27bfc8a3d0>]}"
            ]
          },
          "metadata": {},
          "execution_count": 57
        },
        {
          "output_type": "display_data",
          "data": {
            "image/png": "[encoded data removed]",
            "text/plain": [
              "<Figure size 432x288 with 1 Axes>"
            ]
          },
          "metadata": {
            "needs_background": "light"
          }
        }
      ]
    },
    {
      "cell_type": "markdown",
      "metadata": {
        "id": "ythe7TTI8YZC"
      },
      "source": [
        "The first box plot has the widest spread for the middle 50% of the data . The variability in the middle 50% of the first dataset is more than the second one."
      ]
    },
    {
      "cell_type": "code",
      "metadata": {
        "id": "ahbUUQU96nUn"
      },
      "source": [],
      "execution_count": null,
      "outputs": []
    }
  ]
}