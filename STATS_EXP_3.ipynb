{
  "nbformat": 4,
  "nbformat_minor": 0,
  "metadata": {
    "colab": {
      "provenance": [],
      "authorship_tag": "ABX9TyNkzs/K4smZBdfoLnHd5N6U",
      "include_colab_link": true
    },
    "kernelspec": {
      "name": "python3",
      "display_name": "Python 3"
    },
    "language_info": {
      "name": "python"
    }
  },
  "cells": [
    {
      "cell_type": "markdown",
      "metadata": {
        "id": "view-in-github",
        "colab_type": "text"
      },
      "source": [
        "<a href=\"https://colab.research.google.com/github/shubham-k01/SDS_Exps/blob/main/STATS_EXP_3.ipynb\" target=\"_parent\"><img src=\"https://colab.research.google.com/assets/colab-badge.svg\" alt=\"Open In Colab\"/></a>"
      ]
    },
    {
      "cell_type": "code",
      "metadata": {
        "id": "655HMLd59IAp"
      },
      "source": [
        "import numpy as np\n",
        "import statistics as st\n",
        "import matplotlib.pyplot as plt\n",
        "import random"
      ],
      "execution_count": null,
      "outputs": []
    },
    {
      "cell_type": "markdown",
      "metadata": {
        "id": "eGuoBsxw94xS"
      },
      "source": [
        "** Solution 1 **"
      ]
    },
    {
      "cell_type": "code",
      "metadata": {
        "id": "bKomI6qW-Dpn"
      },
      "source": [
        "from numpy.random import randint\n",
        "from numpy.random import seed"
      ],
      "execution_count": null,
      "outputs": []
    },
    {
      "cell_type": "code",
      "metadata": {
        "colab": {
          "base_uri": "https://localhost:8080/"
        },
        "id": "4ctXw6Z6-eH3",
        "outputId": "c328bfaf-e44e-44c4-de26-2abdd929fe90"
      },
      "source": [
        "seed(0)\n",
        "randint(0,100)\n"
      ],
      "execution_count": null,
      "outputs": [
        {
          "output_type": "execute_result",
          "data": {
            "text/plain": [
              "44"
            ]
          },
          "metadata": {},
          "execution_count": 4
        }
      ]
    },
    {
      "cell_type": "code",
      "metadata": {
        "colab": {
          "base_uri": "https://localhost:8080/"
        },
        "id": "5Cndacg4-q38",
        "outputId": "039bccdc-66e6-4573-835f-ab7f55ec9ac9"
      },
      "source": [
        "random.random()"
      ],
      "execution_count": null,
      "outputs": [
        {
          "output_type": "execute_result",
          "data": {
            "text/plain": [
              "0.5972000627349388"
            ]
          },
          "metadata": {},
          "execution_count": 5
        }
      ]
    },
    {
      "cell_type": "code",
      "metadata": {
        "colab": {
          "base_uri": "https://localhost:8080/"
        },
        "id": "auriX4o6_k3B",
        "outputId": "5a3f47ed-f50b-49a8-b4d3-171589f194ae"
      },
      "source": [
        "random.sample(range(0,100),10)  "
      ],
      "execution_count": null,
      "outputs": [
        {
          "output_type": "execute_result",
          "data": {
            "text/plain": [
              "[61, 78, 14, 66, 87, 29, 76, 51, 77, 8]"
            ]
          },
          "metadata": {},
          "execution_count": 6
        }
      ]
    },
    {
      "cell_type": "code",
      "metadata": {
        "colab": {
          "base_uri": "https://localhost:8080/"
        },
        "id": "kUS1i-ssAMxC",
        "outputId": "75c5db47-9217-4e1d-ed3b-c33819c7be7b"
      },
      "source": [
        "random.uniform(0,100)"
      ],
      "execution_count": null,
      "outputs": [
        {
          "output_type": "execute_result",
          "data": {
            "text/plain": [
              "4.384965718259492"
            ]
          },
          "metadata": {},
          "execution_count": 7
        }
      ]
    },
    {
      "cell_type": "code",
      "metadata": {
        "colab": {
          "base_uri": "https://localhost:8080/"
        },
        "id": "todvW7cyAdwT",
        "outputId": "62cac06b-f632-4bd8-ebe7-c6dac4dfc72f"
      },
      "source": [
        "np.random.uniform(0,1000,10)"
      ],
      "execution_count": null,
      "outputs": [
        {
          "output_type": "execute_result",
          "data": {
            "text/plain": [
              "array([592.84461823, 844.26574858, 857.94561762, 847.25173878,\n",
              "       623.56369679, 384.38170729, 297.53460654,  56.71297732,\n",
              "       272.65629458, 477.66511732])"
            ]
          },
          "metadata": {},
          "execution_count": 8
        }
      ]
    },
    {
      "cell_type": "markdown",
      "metadata": {
        "id": "WRM7FMtzA7_7"
      },
      "source": [
        "** Solution 3 **"
      ]
    },
    {
      "cell_type": "code",
      "metadata": {
        "colab": {
          "base_uri": "https://localhost:8080/"
        },
        "id": "SsYI0Iq6A2Xc",
        "outputId": "0553ccb7-4b12-4154-cbe0-01018a43890a"
      },
      "source": [
        "seed(1)\n",
        "population=randint(0,100,1000)\n",
        "print(population)"
      ],
      "execution_count": null,
      "outputs": [
        {
          "output_type": "stream",
          "name": "stdout",
          "text": [
            "[37 12 72  9 75  5 79 64 16  1 76 71  6 25 50 20 18 84 11 28 29 14 50 68\n",
            " 87 87 94 96 86 13  9  7 63 61 22 57  1  0 60 81  8 88 13 47 72 30 71  3\n",
            " 70 21 49 57  3 68 24 43 76 26 52 80 41 82 15 64 68 25 98 87  7 26 25 22\n",
            "  9 67 23 27 37 57 83 38  8 32 34 10 23 15 87 25 71 92 74 62 46 32 88 23\n",
            " 55 65 77  3  0 77  6 52 85 70  2 76 91 21 75  7 77 72 75 76 43 20 30 36\n",
            "  7 45 68 57 82 96 13 10 23 81  7 24 74 92 20 32 12 65 94 60 24 82 97  2\n",
            " 92 98 10 54 96 82 86 70 66 71 48 54 15  5 17 42 20 48 22 13 97 53 84 10\n",
            " 96 55 61 56 89 21 96 83 25 14 13 84 43  6 77 56 59 15 24  9 66 71 53 69\n",
            " 36 21 40 77 91 49 47 77 40 78 45 87 16 28 45 67 66 78 46  0 29 63 75 35\n",
            " 53 93 33  2 84 83 48 54 32 28 55 82 31 28 94 74  8 99 32  8 84 77 50 79\n",
            " 41 64 83 24 20 44 15 30 91 14 19 26 86  7 99 53 47 60 34 32 19 67 24 83\n",
            " 94 38 47  5 79 63 87 32 42 74 66 88 98 30 17 68 64 60 78 17 39 35 81 28\n",
            " 22 38 41 74 77 70 25 48 50 62 44 54  0 86 16 19  9 92 51 10 68 23 14 63\n",
            " 21 46  3 56 88 80 46 54 79 71 14 77 15 25 53 84 58 85 29 44 37 22 91 54\n",
            " 76 12 59 26 76 71 87 39 43 76 38 91 69 98 33 43 26 56 69 73 52 89 27 43\n",
            "  1 82 94 96 26 84 30 64 22 98 52  3 70 12 39 83 48 61 70 13 36 23 22 66\n",
            " 92 95 53  9 41 57 88 93 76 82 11 36 16 30 84 57 35 41 81  2 85 93 36 46\n",
            " 80 27 72 28  2 99 13 41 36 40 18 97 38 63 46 89  2 98 28 78 75 58 42 26\n",
            " 21 58 16 92 37 11 22  6 96 14 87 75 35 63 32 91 49  0 22 97 70 36 18 27\n",
            " 28 52 94 50 46  7 85 16 29 11 61 14 30  8 40 48 30 23 66 92 64 12 17 33\n",
            " 10 28 75  5 81  5 42 86 52 57 56 78 87 81 10 72 48 19 12 25 77 16  4 88\n",
            " 27 50 68  3 58 12  2 76 96 96 61 15 74 12 18 30 59  5 16 95 96 60 43 31\n",
            " 99 44 24 62 79 21 19 77 33  4 39 67 34 34 42 78 82 38 48 81  5 91  8 40\n",
            " 69  5  7 78 37 78 33 27 51 77 30 43 46  9 67  3 67 54 97 63 99 80 28 37\n",
            " 64 37 93 18 78 70 92 52 10 32 46 63 93 18 36 29 39 28 54 29 55 90 27 60\n",
            " 12 17 71 91  7 83 56 51 32 76 62 51 96 30 22  5 91 95 22 76 22 18 93 29\n",
            " 18 52 31 49 98 83 93 45 51 86 15 71 48 28 83 27 43 19 79 70 88 86 11 65\n",
            " 93 15 51 98 86 45 63 42 22 82 40 44 16 17 88  0 97 82 71 14 36 26 32  1\n",
            " 48 88 22 34 94 21 68 67 48 18 97 11 11 52 76 68 45 64 89 40  7  7 33 58\n",
            "  7 34  4  5 61 50 76 45 96 21 92 71 92 25 97  1 13 38 85 27 38 84 33  1\n",
            " 31 38 28 75 99 31 51 66 67 32 74 32 97  5  0 37 72 43 24 16 96 96 41 24\n",
            " 21 27 46 35 62 68 62 32 45 88 42 57 25 32 33  6 65 51 31  7 13  3 28 15\n",
            " 29 66 61 83 96 58 82 34 30 57 96 49 46 83 41 20 40 50  4  9  0 90 21 74\n",
            " 21 33 38 37 43 33 95 41 71 69 70 23 86 39 31 37 38 56 87 28 36 66 10 84\n",
            "  0 16 30  3 78 59 53 69 49 74 46 27 33 72 68 39 32 97  7 33 62 14 77 43\n",
            " 61 85 36 12 53 26 82 99 12 99 25  1 41 55 55 64 15 92 40 60 70 49 50 32\n",
            " 90 20 52 38 65 80 57 52 89 19 94 64 42 47 21 97  1 89 38 12 18 77 77 88\n",
            " 90 83 39 98 15 37 96 36 98  1 32 30  7 50 50 32 43 41 69  1 97 51 30 82\n",
            " 49 81 82 95 71 21 18 46 44 91  9  4 77 63 23 95 59 64 82 31  1 84 78 68\n",
            " 54 25 83 27 56 92  8 55 76 46 49 11  8 61 74 23 88 89 82 82  5 42 46 21\n",
            " 51 73 42 13 18 23 45 95 52 33 54 14 57 61 40 72 65 22  2 86  1 72 51 71\n",
            " 87 77 62 48  0 42 39  3 57 43 53 43 74 98 97 75]\n"
          ]
        }
      ]
    },
    {
      "cell_type": "markdown",
      "metadata": {
        "id": "u_rbjlKvBOYX"
      },
      "source": [
        "** Solution 4 **"
      ]
    },
    {
      "cell_type": "code",
      "metadata": {
        "colab": {
          "base_uri": "https://localhost:8080/",
          "height": 1000
        },
        "id": "oru3fVE0BHuw",
        "outputId": "6cdc8521-ca17-4356-885d-a2c72883ea62"
      },
      "source": [
        "fig,a=plt.subplots(figsize=(10,10))\n",
        "a.hist(population,bins=500)\n",
        "\n",
        "# plt.hist(population,bins=500)"
      ],
      "execution_count": null,
      "outputs": [
        {
          "output_type": "execute_result",
          "data": {
            "text/plain": [
              "(array([10.,  0.,  0.,  0.,  0., 12.,  0.,  0.,  0.,  0.,  8.,  0.,  0.,\n",
              "         0.,  0., 10.,  0.,  0.,  0.,  0.,  5.,  0.,  0.,  0.,  0., 12.,\n",
              "         0.,  0.,  0.,  0.,  5.,  0.,  0.,  0.,  0., 15.,  0.,  0.,  0.,\n",
              "         0.,  8.,  0.,  0.,  0.,  0.,  9.,  0.,  0.,  0.,  0.,  9.,  0.,\n",
              "         0.,  0.,  0.,  8.,  0.,  0.,  0.,  0., 12.,  0.,  0.,  0.,  0.,\n",
              "        10.,  0.,  0.,  0.,  0., 10.,  0.,  0.,  0.,  0., 12.,  0.,  0.,\n",
              "         0.,  0., 11.,  0.,  0.,  0.,  0.,  6.,  0.,  0.,  0.,  0., 12.,\n",
              "         0.,  0.,  0.,  0.,  7.,  0.,  0.,  0.,  0.,  0.,  7.,  0.,  0.,\n",
              "         0.,  0., 15.,  0.,  0.,  0.,  0., 15.,  0.,  0.,  0.,  0., 11.,\n",
              "         0.,  0.,  0.,  0.,  9.,  0.,  0.,  0.,  0., 12.,  0.,  0.,  0.,\n",
              "         0.,  9.,  0.,  0.,  0.,  0., 12.,  0.,  0.,  0.,  0., 15.,  0.,\n",
              "         0.,  0.,  0.,  8.,  0.,  0.,  0.,  0., 15.,  0.,  0.,  0.,  0.,\n",
              "         8.,  0.,  0.,  0.,  0., 19.,  0.,  0.,  0.,  0., 13.,  0.,  0.,\n",
              "         0.,  0.,  7.,  0.,  0.,  0.,  0.,  5.,  0.,  0.,  0.,  0., 12.,\n",
              "         0.,  0.,  0.,  0., 11.,  0.,  0.,  0.,  0., 13.,  0.,  0.,  0.,\n",
              "         0.,  9.,  0.,  0.,  0.,  0.,  0., 10.,  0.,  0.,  0.,  0., 11.,\n",
              "         0.,  0.,  0.,  0., 11.,  0.,  0.,  0.,  0., 15.,  0.,  0.,  0.,\n",
              "         0.,  6.,  0.,  0.,  0.,  0.,  9.,  0.,  0.,  0.,  0., 15.,  0.,\n",
              "         0.,  0.,  0.,  5.,  0.,  0.,  0.,  0., 12.,  0.,  0.,  0.,  0.,\n",
              "         9.,  0.,  0.,  0.,  0., 11.,  0.,  0.,  0.,  0., 11.,  0.,  0.,\n",
              "         0.,  0., 12.,  0.,  0.,  0.,  0.,  9.,  0.,  0.,  0.,  0., 10.,\n",
              "         0.,  0.,  0.,  0.,  7.,  0.,  0.,  0.,  0.,  8.,  0.,  0.,  0.,\n",
              "         0., 12.,  0.,  0.,  0.,  0.,  6.,  0.,  0.,  0.,  0.,  5.,  0.,\n",
              "         0.,  0.,  0.,  0.,  7.,  0.,  0.,  0.,  0., 10.,  0.,  0.,  0.,\n",
              "         0.,  8.,  0.,  0.,  0.,  0., 10.,  0.,  0.,  0.,  0., 11.,  0.,\n",
              "         0.,  0.,  0.,  6.,  0.,  0.,  0.,  0.,  9.,  0.,  0.,  0.,  0.,\n",
              "         8.,  0.,  0.,  0.,  0., 12.,  0.,  0.,  0.,  0.,  7.,  0.,  0.,\n",
              "         0.,  0., 11.,  0.,  0.,  0.,  0., 14.,  0.,  0.,  0.,  0.,  9.,\n",
              "         0.,  0.,  0.,  0.,  2.,  0.,  0.,  0.,  0., 11.,  0.,  0.,  0.,\n",
              "         0.,  9.,  0.,  0.,  0.,  0., 14.,  0.,  0.,  0.,  0., 17.,  0.,\n",
              "         0.,  0.,  0., 11.,  0.,  0.,  0.,  0.,  6.,  0.,  0.,  0.,  0.,\n",
              "         0.,  5.,  0.,  0.,  0.,  0.,  8.,  0.,  0.,  0.,  0., 17.,  0.,\n",
              "         0.,  0.,  0., 13.,  0.,  0.,  0.,  0., 11.,  0.,  0.,  0.,  0.,\n",
              "         6.,  0.,  0.,  0.,  0., 10.,  0.,  0.,  0.,  0., 11.,  0.,  0.,\n",
              "         0.,  0., 12.,  0.,  0.,  0.,  0.,  7.,  0.,  0.,  0.,  0.,  4.,\n",
              "         0.,  0.,  0.,  0., 10.,  0.,  0.,  0.,  0., 12.,  0.,  0.,  0.,\n",
              "         0.,  8.,  0.,  0.,  0.,  0.,  8.,  0.,  0.,  0.,  0.,  7.,  0.,\n",
              "         0.,  0.,  0., 17.,  0.,  0.,  0.,  0., 13.,  0.,  0.,  0.,  0.,\n",
              "        11.,  0.,  0.,  0.,  0.,  8.]),\n",
              " array([ 0.   ,  0.198,  0.396,  0.594,  0.792,  0.99 ,  1.188,  1.386,\n",
              "         1.584,  1.782,  1.98 ,  2.178,  2.376,  2.574,  2.772,  2.97 ,\n",
              "         3.168,  3.366,  3.564,  3.762,  3.96 ,  4.158,  4.356,  4.554,\n",
              "         4.752,  4.95 ,  5.148,  5.346,  5.544,  5.742,  5.94 ,  6.138,\n",
              "         6.336,  6.534,  6.732,  6.93 ,  7.128,  7.326,  7.524,  7.722,\n",
              "         7.92 ,  8.118,  8.316,  8.514,  8.712,  8.91 ,  9.108,  9.306,\n",
              "         9.504,  9.702,  9.9  , 10.098, 10.296, 10.494, 10.692, 10.89 ,\n",
              "        11.088, 11.286, 11.484, 11.682, 11.88 , 12.078, 12.276, 12.474,\n",
              "        12.672, 12.87 , 13.068, 13.266, 13.464, 13.662, 13.86 , 14.058,\n",
              "        14.256, 14.454, 14.652, 14.85 , 15.048, 15.246, 15.444, 15.642,\n",
              "        15.84 , 16.038, 16.236, 16.434, 16.632, 16.83 , 17.028, 17.226,\n",
              "        17.424, 17.622, 17.82 , 18.018, 18.216, 18.414, 18.612, 18.81 ,\n",
              "        19.008, 19.206, 19.404, 19.602, 19.8  , 19.998, 20.196, 20.394,\n",
              "        20.592, 20.79 , 20.988, 21.186, 21.384, 21.582, 21.78 , 21.978,\n",
              "        22.176, 22.374, 22.572, 22.77 , 22.968, 23.166, 23.364, 23.562,\n",
              "        23.76 , 23.958, 24.156, 24.354, 24.552, 24.75 , 24.948, 25.146,\n",
              "        25.344, 25.542, 25.74 , 25.938, 26.136, 26.334, 26.532, 26.73 ,\n",
              "        26.928, 27.126, 27.324, 27.522, 27.72 , 27.918, 28.116, 28.314,\n",
              "        28.512, 28.71 , 28.908, 29.106, 29.304, 29.502, 29.7  , 29.898,\n",
              "        30.096, 30.294, 30.492, 30.69 , 30.888, 31.086, 31.284, 31.482,\n",
              "        31.68 , 31.878, 32.076, 32.274, 32.472, 32.67 , 32.868, 33.066,\n",
              "        33.264, 33.462, 33.66 , 33.858, 34.056, 34.254, 34.452, 34.65 ,\n",
              "        34.848, 35.046, 35.244, 35.442, 35.64 , 35.838, 36.036, 36.234,\n",
              "        36.432, 36.63 , 36.828, 37.026, 37.224, 37.422, 37.62 , 37.818,\n",
              "        38.016, 38.214, 38.412, 38.61 , 38.808, 39.006, 39.204, 39.402,\n",
              "        39.6  , 39.798, 39.996, 40.194, 40.392, 40.59 , 40.788, 40.986,\n",
              "        41.184, 41.382, 41.58 , 41.778, 41.976, 42.174, 42.372, 42.57 ,\n",
              "        42.768, 42.966, 43.164, 43.362, 43.56 , 43.758, 43.956, 44.154,\n",
              "        44.352, 44.55 , 44.748, 44.946, 45.144, 45.342, 45.54 , 45.738,\n",
              "        45.936, 46.134, 46.332, 46.53 , 46.728, 46.926, 47.124, 47.322,\n",
              "        47.52 , 47.718, 47.916, 48.114, 48.312, 48.51 , 48.708, 48.906,\n",
              "        49.104, 49.302, 49.5  , 49.698, 49.896, 50.094, 50.292, 50.49 ,\n",
              "        50.688, 50.886, 51.084, 51.282, 51.48 , 51.678, 51.876, 52.074,\n",
              "        52.272, 52.47 , 52.668, 52.866, 53.064, 53.262, 53.46 , 53.658,\n",
              "        53.856, 54.054, 54.252, 54.45 , 54.648, 54.846, 55.044, 55.242,\n",
              "        55.44 , 55.638, 55.836, 56.034, 56.232, 56.43 , 56.628, 56.826,\n",
              "        57.024, 57.222, 57.42 , 57.618, 57.816, 58.014, 58.212, 58.41 ,\n",
              "        58.608, 58.806, 59.004, 59.202, 59.4  , 59.598, 59.796, 59.994,\n",
              "        60.192, 60.39 , 60.588, 60.786, 60.984, 61.182, 61.38 , 61.578,\n",
              "        61.776, 61.974, 62.172, 62.37 , 62.568, 62.766, 62.964, 63.162,\n",
              "        63.36 , 63.558, 63.756, 63.954, 64.152, 64.35 , 64.548, 64.746,\n",
              "        64.944, 65.142, 65.34 , 65.538, 65.736, 65.934, 66.132, 66.33 ,\n",
              "        66.528, 66.726, 66.924, 67.122, 67.32 , 67.518, 67.716, 67.914,\n",
              "        68.112, 68.31 , 68.508, 68.706, 68.904, 69.102, 69.3  , 69.498,\n",
              "        69.696, 69.894, 70.092, 70.29 , 70.488, 70.686, 70.884, 71.082,\n",
              "        71.28 , 71.478, 71.676, 71.874, 72.072, 72.27 , 72.468, 72.666,\n",
              "        72.864, 73.062, 73.26 , 73.458, 73.656, 73.854, 74.052, 74.25 ,\n",
              "        74.448, 74.646, 74.844, 75.042, 75.24 , 75.438, 75.636, 75.834,\n",
              "        76.032, 76.23 , 76.428, 76.626, 76.824, 77.022, 77.22 , 77.418,\n",
              "        77.616, 77.814, 78.012, 78.21 , 78.408, 78.606, 78.804, 79.002,\n",
              "        79.2  , 79.398, 79.596, 79.794, 79.992, 80.19 , 80.388, 80.586,\n",
              "        80.784, 80.982, 81.18 , 81.378, 81.576, 81.774, 81.972, 82.17 ,\n",
              "        82.368, 82.566, 82.764, 82.962, 83.16 , 83.358, 83.556, 83.754,\n",
              "        83.952, 84.15 , 84.348, 84.546, 84.744, 84.942, 85.14 , 85.338,\n",
              "        85.536, 85.734, 85.932, 86.13 , 86.328, 86.526, 86.724, 86.922,\n",
              "        87.12 , 87.318, 87.516, 87.714, 87.912, 88.11 , 88.308, 88.506,\n",
              "        88.704, 88.902, 89.1  , 89.298, 89.496, 89.694, 89.892, 90.09 ,\n",
              "        90.288, 90.486, 90.684, 90.882, 91.08 , 91.278, 91.476, 91.674,\n",
              "        91.872, 92.07 , 92.268, 92.466, 92.664, 92.862, 93.06 , 93.258,\n",
              "        93.456, 93.654, 93.852, 94.05 , 94.248, 94.446, 94.644, 94.842,\n",
              "        95.04 , 95.238, 95.436, 95.634, 95.832, 96.03 , 96.228, 96.426,\n",
              "        96.624, 96.822, 97.02 , 97.218, 97.416, 97.614, 97.812, 98.01 ,\n",
              "        98.208, 98.406, 98.604, 98.802, 99.   ]),\n",
              " <a list of 500 Patch objects>)"
            ]
          },
          "metadata": {},
          "execution_count": 10
        },
        {
          "output_type": "display_data",
          "data": {
            "image/png": "[encoded data removed]",
            "text/plain": [
              "<Figure size 720x720 with 1 Axes>"
            ]
          },
          "metadata": {
            "needs_background": "light"
          }
        }
      ]
    },
    {
      "cell_type": "code",
      "metadata": {
        "colab": {
          "base_uri": "https://localhost:8080/"
        },
        "id": "Y-6PE7zvBuJM",
        "outputId": "db771a60-02f1-4927-9d2a-60c72c9dea00"
      },
      "source": [
        "print(\"Mean of population = \",np.mean(population))\n",
        "print(\" Variance of population =\",np.var(population) )"
      ],
      "execution_count": null,
      "outputs": [
        {
          "output_type": "stream",
          "name": "stdout",
          "text": [
            "Mean of population =  49.074\n",
            " Variance of population = 828.916524\n"
          ]
        }
      ]
    },
    {
      "cell_type": "code",
      "metadata": {
        "colab": {
          "base_uri": "https://localhost:8080/"
        },
        "id": "dXqYDmS5C77Q",
        "outputId": "0e8c3968-335e-4015-9c1a-853e86344caf"
      },
      "source": [
        "st.variance(population)"
      ],
      "execution_count": null,
      "outputs": [
        {
          "output_type": "execute_result",
          "data": {
            "text/plain": [
              "829"
            ]
          },
          "metadata": {},
          "execution_count": 12
        }
      ]
    },
    {
      "cell_type": "markdown",
      "metadata": {
        "id": "RLzrmOdPEVuK"
      },
      "source": [
        "** Solution 6 **"
      ]
    },
    {
      "cell_type": "code",
      "metadata": {
        "colab": {
          "base_uri": "https://localhost:8080/"
        },
        "id": "OJDRwGKHDKMy",
        "outputId": "1f06e3cd-f7ee-4938-a7c7-2969459ca46a"
      },
      "source": [
        "n=int(input(\"Enter size of sample= \"))\n",
        "sample=random.sample(tuple(population),n)\n",
        "print(sample)"
      ],
      "execution_count": null,
      "outputs": [
        {
          "output_type": "stream",
          "name": "stdout",
          "text": [
            "Enter size of sample= 35\n",
            "[87, 62, 91, 18, 66, 88, 18, 45, 57, 44, 67, 42, 54, 72, 52, 94, 83, 3, 76, 86, 86, 50, 38, 76, 1, 40, 16, 42, 88, 86, 52, 42, 33, 55, 34]\n"
          ]
        }
      ]
    },
    {
      "cell_type": "markdown",
      "metadata": {
        "id": "YAHLQf_ZFmXo"
      },
      "source": [
        "** Solution 7**"
      ]
    },
    {
      "cell_type": "code",
      "metadata": {
        "colab": {
          "base_uri": "https://localhost:8080/"
        },
        "id": "3uTMsor9DHMz",
        "outputId": "3bf25c72-20a3-4b0c-b4f8-e5783b162821"
      },
      "source": [
        "n=int(input(\"Enter size of sample= \"))\n",
        "m=int(input(\"Enter number of sample= \"))\n",
        "mean_sample=[]\n",
        "for i in range(m):\n",
        "  sample_data=random.sample(tuple(population),n)\n",
        "  mean=np.mean(sample_data)\n",
        "  mean_sample.append(mean)\n",
        "print(mean_sample)"
      ],
      "execution_count": null,
      "outputs": [
        {
          "output_type": "stream",
          "name": "stdout",
          "text": [
            "Enter size of sample= 50\n",
            "Enter number of sample= 3\n",
            "[49.02, 50.56, 48.04]\n"
          ]
        }
      ]
    },
    {
      "cell_type": "markdown",
      "metadata": {
        "id": "f-t2s1IfGo0h"
      },
      "source": [
        "** Solution 8 **"
      ]
    },
    {
      "cell_type": "code",
      "metadata": {
        "colab": {
          "base_uri": "https://localhost:8080/",
          "height": 800
        },
        "id": "f6iGo55vGXol",
        "outputId": "5a5f3ef0-e183-4894-a566-8bcd21114a34"
      },
      "source": [
        "fig,a=plt.subplots(figsize=(10,10))\n",
        "a.hist(mean_sample,bins=50)"
      ],
      "execution_count": null,
      "outputs": [
        {
          "output_type": "execute_result",
          "data": {
            "text/plain": [
              "(array([1., 0., 0., 0., 0., 0., 0., 0., 0., 0., 0., 0., 0., 0., 0., 0., 0.,\n",
              "        0., 0., 1., 0., 0., 0., 0., 0., 0., 0., 0., 0., 0., 0., 0., 0., 0.,\n",
              "        0., 0., 0., 0., 0., 0., 0., 0., 0., 0., 0., 0., 0., 0., 0., 1.]),\n",
              " array([48.04  , 48.0904, 48.1408, 48.1912, 48.2416, 48.292 , 48.3424,\n",
              "        48.3928, 48.4432, 48.4936, 48.544 , 48.5944, 48.6448, 48.6952,\n",
              "        48.7456, 48.796 , 48.8464, 48.8968, 48.9472, 48.9976, 49.048 ,\n",
              "        49.0984, 49.1488, 49.1992, 49.2496, 49.3   , 49.3504, 49.4008,\n",
              "        49.4512, 49.5016, 49.552 , 49.6024, 49.6528, 49.7032, 49.7536,\n",
              "        49.804 , 49.8544, 49.9048, 49.9552, 50.0056, 50.056 , 50.1064,\n",
              "        50.1568, 50.2072, 50.2576, 50.308 , 50.3584, 50.4088, 50.4592,\n",
              "        50.5096, 50.56  ]),\n",
              " <a list of 50 Patch objects>)"
            ]
          },
          "metadata": {},
          "execution_count": 16
        },
        {
          "output_type": "display_data",
          "data": {
            "image/png": "[encoded data removed]",
            "text/plain": [
              "<Figure size 720x720 with 1 Axes>"
            ]
          },
          "metadata": {
            "needs_background": "light"
          }
        }
      ]
    },
    {
      "cell_type": "code",
      "metadata": {
        "colab": {
          "base_uri": "https://localhost:8080/"
        },
        "id": "G9GkW0fZGjgL",
        "outputId": "0cf963fc-97dd-4828-cd10-ea2826ce059e"
      },
      "source": [
        "print(\"Mean of distribution of sample mean = \",np.mean(mean_sample))"
      ],
      "execution_count": null,
      "outputs": [
        {
          "output_type": "stream",
          "name": "stdout",
          "text": [
            "Mean of distribution of sample mean =  49.20666666666667\n"
          ]
        }
      ]
    },
    {
      "cell_type": "markdown",
      "source": [
        "**Solution 9-13**"
      ],
      "metadata": {
        "id": "Q0Mz6Gz_rUWC"
      }
    },
    {
      "cell_type": "code",
      "source": [
        "\n",
        "population=np.random.uniform(0,100,1000)\n",
        "print(population)"
      ],
      "metadata": {
        "colab": {
          "base_uri": "https://localhost:8080/"
        },
        "id": "d06jMhBzrMPj",
        "outputId": "f0173c43-4076-4391-e423-81fc30c8399e"
      },
      "execution_count": null,
      "outputs": [
        {
          "output_type": "stream",
          "name": "stdout",
          "text": [
            "[57.69778465 87.53887385 60.8565437  25.16595842 29.61299235 53.2922559\n",
            " 96.20782128 18.44956045 50.98983781 34.37881034 76.9725345  80.28664864\n",
            " 42.45599103 20.41225     6.70894603 19.86482644 27.24008501 59.87889179\n",
            " 87.30834973 12.82309388 95.81887417 68.31708439 74.19642357 98.28807859\n",
            " 41.61007726 53.15834659 67.92129502 51.28751426 29.91123447 10.53846727\n",
            " 28.49321457 76.88528483 64.07827045 80.13307032 51.7120532  23.21000218\n",
            " 62.7961927  30.400549    2.95287449 90.33311768 42.03695688 42.61307804\n",
            " 74.12517353 94.84584043  7.2515528  17.27010881 32.23574891 24.84242463\n",
            " 49.54949814 82.44596108 85.39724149 59.58299421 24.01737338 18.64926883\n",
            " 74.33905124 23.72140576 53.94908909 74.92807871 22.82491046 17.45011876\n",
            "  3.97356866 14.75688377 85.14389069 10.46359117 22.36450455  3.27571997\n",
            " 67.63566355 23.17031415 41.35917178 13.93011713 37.72172876 42.44374662\n",
            " 47.29649519 42.2841813  10.27565639 77.25802666 13.72060035 42.42923743\n",
            " 27.19561125 30.10079431 67.24207726 51.77867238 19.00870505 46.91344398\n",
            " 33.95408688 70.44971982 22.60952024 84.49881374 52.62296649 50.06195729\n",
            " 25.36858069 18.61556697 47.18190627 98.18244178 13.29062377 28.34624324\n",
            " 80.06411743 66.47768985 27.87584087 31.46476068 41.99482544 60.27867622\n",
            " 71.93387672 85.73003335 68.11114705 23.69820645 92.57205353 78.11954007\n",
            " 30.73814804 30.49656416 88.11683184 12.60784804 63.34608342 27.77127325\n",
            " 82.72003251 36.45234476 73.33660945 19.24178904 48.14458975 80.35946264\n",
            " 39.69882117 16.15740399 64.89822226 75.33258059 28.01926354 45.13618612\n",
            " 90.04489124 87.19856312 70.71876098 59.09005995 81.73822704 90.76446461\n",
            "  0.25075597 39.72277662 56.14096837 73.39231363  8.74727622 39.97549877\n",
            " 27.96211794 42.35100531 49.79786327 66.00152235 49.6236139  62.04682006\n",
            " 58.24398619 42.8332398   0.49763647 19.45164139 32.02066543 14.69781259\n",
            " 59.86638816 61.14994767 50.00932596 32.08489016 65.3258052  19.02834827\n",
            "  0.58809814 73.49420187 44.35038419 69.7841656  18.50433496  6.2619802\n",
            " 37.81085868 69.59965104 10.28183675 19.58342337 45.39526504 62.11491897\n",
            " 75.01242481 10.97350213 62.46236072 38.73605221 67.00903687 20.35603777\n",
            " 52.79187975 17.2162555   1.8681006  48.69502464 18.41777766 63.834333\n",
            " 53.65748193 77.494538   39.29599026 98.94521308 51.52146962 47.88234012\n",
            " 74.94424708 57.26882933 36.24653173 48.92447855 18.91383749 39.35834143\n",
            "  2.99617525 46.25290603 27.44741128 52.67158604  2.92721214 55.50867665\n",
            " 29.29978836 57.7490681  73.27698533 44.03378268 66.31568229 23.89099549\n",
            " 99.85990886 24.28785216 94.08284144 21.72197504 49.75643846 82.11769649\n",
            " 71.65880468 70.55804121 44.044056   75.41750255 91.9953577  44.13517453\n",
            " 52.79654842  6.6035584  39.07730737 46.72385663 89.51377108 11.05574403\n",
            " 73.11376032 54.54711685 60.65354305  2.97829441 14.67473798 28.39832255\n",
            "  0.4872048  66.91577978 87.02579489 54.69683093 54.31640475 61.57259286\n",
            " 30.21815004 36.67319817 57.49397273 80.92165837 20.15966344 32.75240558\n",
            " 74.29212504 34.09202491  4.76109287 15.63569287 19.38648597 49.51123626\n",
            " 63.51249611 88.02199772 90.25365564 30.71607685 75.33800731 28.24280306\n",
            " 36.85768698 29.27265621 41.36907362 21.47156957 31.89860065 12.19198139\n",
            " 96.30182396 50.39830094 92.31006826 74.61601408 45.77052877 75.46222253\n",
            " 62.80230786 30.37584342 52.16593134 71.23121956 30.53135314  1.25228369\n",
            " 26.82628291 79.67454756 92.9993089  62.53311549 13.28074846 75.75703592\n",
            " 52.6905346  75.38690716 85.86117031 94.75415511 65.45375346 85.42582098\n",
            " 74.25880577 72.71011884 85.87907563 92.30030408 90.20760015 39.57502616\n",
            "  8.40212798 82.95737185 53.89315533 54.20761547 82.51753306  3.19841844\n",
            " 87.79604187  3.46340013 69.31945584 58.74844794 64.17491808 37.40801877\n",
            " 27.54620267 50.94085814 88.58231171 56.52896704 66.31488915 44.1379231\n",
            " 97.21390871 74.25224524 35.49025109 65.35310327 54.26164119 88.40562124\n",
            " 27.50540511 10.80674852 19.12720517 38.70462326 85.40597949 27.08449138\n",
            " 62.63588032 62.3551801  40.80471353  5.03351297 74.4833873  29.57255344\n",
            " 39.84581965 37.72395675 66.36026317  8.63332868 54.98899205  1.54218223\n",
            " 98.30389835 59.84272224 38.4114228  14.67479307 69.68783264 90.58084167\n",
            " 31.81087523 76.64921447 28.7498102  95.72253424 70.23157548 62.50155932\n",
            " 93.07347332 26.90423873 92.36157463 67.80829341 77.13625072 57.16353364\n",
            " 83.39046775 69.82817993 14.66087018 61.24611286 27.93203356 91.58787231\n",
            " 19.82322902 28.57164954  4.7654705  44.75791441 55.75878152 57.35610826\n",
            " 90.537738   34.74139328 44.75283796 85.12376625 57.68293032 65.39929349\n",
            " 27.83593304 48.74713016 62.09523876 13.33940301  3.29087166 11.34110011\n",
            " 47.74610763  2.40267346 62.62089291  9.7582618  25.09615377 42.64929459\n",
            " 11.58267467 27.05519938  2.10796728 98.50455536 61.15736081 37.83538388\n",
            "  2.65283511 38.98387484 45.25586264 93.10031938 27.85041718 61.47818911\n",
            " 66.51683546 18.59609698 50.5763349  78.65007629  9.65790344 60.60352982\n",
            "  2.60599327  0.70467238  5.95286071 48.14004591 92.57041087 40.55573841\n",
            "  7.50326393 86.13524745 51.92975855 31.89358689 96.30323388 93.82617685\n",
            " 26.0018972  20.13918537 58.89087033 84.25182098 33.67210897 58.64294215\n",
            " 16.22449995 19.45937352 76.1335216  15.00984614 26.5907041  68.94948632\n",
            "  1.50893076  3.21944039 28.752594   33.66231805 36.22161055 80.71905755\n",
            "  3.59809677 35.83952446 63.82781333 14.30041095 85.77386145 64.55644083\n",
            " 11.52934255 20.809741   74.54983307 40.34066283 48.44700609 88.74550781\n",
            " 13.74435496 96.43727974  4.26296818  9.94402573 22.32384309 80.65850823\n",
            " 45.58728074 65.32511423 17.43211375 16.67219329 52.08483406 74.02936353\n",
            " 46.24744652 86.96140851 66.04119347 24.90900885 23.49022208 37.40467169\n",
            " 75.66160563 93.79376643 86.19059993 26.16107927 41.2278928  61.15440995\n",
            " 54.68344558 38.92749454 10.14207769 71.22448044  8.81351639 86.60774294\n",
            " 86.34484403 70.84507915 48.64245738 69.91465654 39.49870601 79.74959843\n",
            " 78.64170823 15.55285839 31.78175504 34.39831768 36.41702987 56.66455567\n",
            "  4.16874425 65.9969719  20.16317591 41.64625562 45.08926565 34.87267695\n",
            " 38.32803101 18.03060608  6.81300574 55.12566489 59.58669456 14.54997892\n",
            " 23.09417083 28.63771315 83.07513669 15.34209412 55.21388076 56.81397177\n",
            " 34.34200931 35.06171893 95.91120175 55.33439495 65.27312009 49.07401164\n",
            " 64.66499817 60.52507855 14.51732929 33.46805329 46.04339935 12.78216616\n",
            " 36.30733236 22.81416343 84.75026023 34.147408   22.67893207 40.81814029\n",
            " 68.30640476  6.5621999  18.07292136 69.43069389 75.22566048 61.77542796\n",
            " 87.91985605 16.88001901 70.35477322 91.72601591 15.07396591 24.37639774\n",
            " 54.66845721 34.4119337  69.06390808  5.75676184 16.07641423 71.62383065\n",
            " 97.06186984 92.95503765 90.10669934 12.77433139 14.59289181  7.22647568\n",
            " 54.25402331 88.24861729 53.17919001 78.17152854 18.84537869 86.31112602\n",
            " 18.74247707  5.47641261 42.14910104 55.510443   97.07420095  9.17538334\n",
            " 27.39180932 10.51070691 39.04396367 28.90110832 51.33003495 34.82566818\n",
            " 92.82280183 78.99477964 86.10113686 12.95009459 57.5070167  21.47825359\n",
            " 86.82385714  1.50194218 10.57442151 37.60570755 40.20939061 27.7220083\n",
            "  9.60629988 11.87304051 31.79447538 95.07928341 20.74065648 74.72803211\n",
            " 25.8188664   3.72402556  1.60522092 15.27059312 46.2084193  75.59010975\n",
            " 72.88149319 35.23894425 47.91392788 81.40737534 83.84029064 31.99167004\n",
            "  0.42650184  4.69308432 73.78073776 27.26322811 48.14858122 19.2031266\n",
            " 84.71129161 50.33776096 52.71601757 28.80795881 51.19992307  0.19636454\n",
            " 27.72950403 34.87629835 28.39508863  8.59522276 52.17812092 78.84791334\n",
            " 94.25984356 49.72897921 59.37538584 29.08599378 14.91595089 13.18716907\n",
            " 73.23607759 73.44694353 17.93500166 41.35603798 59.41443279 12.52819462\n",
            " 78.53689499 61.99922033 61.52216915 70.12080919 98.71830821 56.2394456\n",
            " 86.44162617 41.87086751 65.44693512 92.52611879 66.41508156 30.30806759\n",
            " 61.99456939 35.13183204 32.23666751 61.02050587 16.0323232  48.67389358\n",
            " 94.5634285  38.3914242  18.89625932 46.88389496 84.09078315 84.26677226\n",
            " 82.78032395  1.14755126 26.70403099 99.98757876 11.96832772 49.00894961\n",
            " 79.00261506 12.22139101 66.24091807 48.80804455 19.42899821 87.86300266\n",
            " 18.14873976 63.90528593 74.08268782 56.26728866 62.88415686 11.89653966\n",
            " 30.80369871 58.69622072 39.54637163 66.39460814 85.19546448 19.02220893\n",
            " 90.32727009 38.31758504 94.31243307 61.7382313  79.00955211 51.47754284\n",
            " 53.11446944 32.75938988 12.93647072 38.38219119 21.49764808  3.28652559\n",
            " 27.48868298 18.05760527 87.5530315   8.12365624 18.38955991 70.40306955\n",
            " 91.9225891  25.14584522  2.13011315 96.05044728 68.22206405 31.06626961\n",
            " 47.23734422 59.92558739 37.38685721 87.44877966 72.61725883 95.43407046\n",
            " 35.10655228 93.71740887 47.91005742 64.23226386 73.66472048 80.9337969\n",
            " 39.62593673 44.79459785 81.72770261 71.75572031 94.08492094 97.95978714\n",
            " 17.89133364 22.79194118 71.59864473 74.73827347 60.31795542 87.72997642\n",
            " 25.19904621 33.94873943 49.46468481 31.5027089  54.54390893 68.24780793\n",
            " 22.03669012 48.5337454  99.29813576 32.41613032  3.53619195 81.73517293\n",
            " 50.33067836  5.27838561 89.03050272 40.451438   92.92731821 40.20781738\n",
            "  7.68322848 24.53011441 35.02605057 75.07282924 18.47481523 43.09736537\n",
            " 87.32454198 53.37610914 10.31547197  2.45224871 70.58098012 97.9127491\n",
            " 78.5165263  76.47261968 67.54475157 79.55027103  4.00177857 26.46816317\n",
            " 69.5397536  86.69883296 67.46068718 17.6276128  93.63084599 90.33787001\n",
            "  8.66787661 19.30000376 27.51930306 73.84118706 85.93733283 57.83223875\n",
            " 19.96455707 41.50898876 13.78592003 91.73961869 76.45309404 51.02138338\n",
            " 45.35750432  9.78420783 31.86753563 12.06327954 78.23380634 54.48837067\n",
            " 22.72773814 22.42028393 26.03981975 30.88727523 38.77051318 29.75489324\n",
            " 67.95558945  3.50736193 32.81103149 74.52918729 94.28079851 80.27325502\n",
            " 24.08262096 23.29154684 19.03367947 88.24975349 23.78556872 75.81806234\n",
            " 26.10497314  3.30818434 73.34477001 72.62018098  8.8959111  32.67012579\n",
            " 94.83652902 16.29489986  8.66724727 59.46038881 93.09898653 13.37783077\n",
            " 51.30122937 68.39992141 17.18297596  1.12598935 88.76831305  3.52312707\n",
            " 25.74582838 65.16840317 28.57829334  0.97075966 57.54518345 30.77922783\n",
            " 15.15140619 97.12833117 16.49722679 72.72354411 89.07241915 85.87151157\n",
            " 18.42570672 23.68085337  1.83626365 93.14054673 88.71211767 59.5466169\n",
            " 10.93676555 17.35426468 57.69603709 25.16569735 30.01718332 17.09873489\n",
            " 18.95917191 46.34211544 50.98739726 51.15798897 99.71387994 12.95958173\n",
            " 75.61698884 79.37567472 58.48825988 46.27381803 89.34266374 82.81802191\n",
            "  5.0290936  96.29837531  0.73398918 57.31322047 57.24308169 83.43796648\n",
            " 38.47160679  9.1040869  58.16872694  2.48458604 36.17957609 98.53168021\n",
            " 86.87788696 15.24967418 79.88260891 81.09969194 92.82072191 22.4384266\n",
            " 49.89674745 82.74440914 66.7333785  59.39361434 65.19758208 23.85160128\n",
            "  2.55400849 73.62572574 32.67918253 37.67568869 61.26160541 65.71650424\n",
            " 20.28989006 82.60315378 38.02066052 63.17444085 96.64114157 56.47862353\n",
            " 35.89111418 61.89701087 50.17931181 45.23762478 73.22707348 92.451015\n",
            " 47.92714153  8.8230151  56.96535567 24.49508551  3.95779115 78.81402066\n",
            " 27.27682367 77.70704929 48.82089431 31.79358911 31.40254501  4.20247601\n",
            " 53.43998369 82.3551556   8.38953525 10.85587056 52.92559269 66.01418096\n",
            " 69.47459923 31.32216951  3.77777758 41.45628797 22.60441709  0.11148303\n",
            " 68.57165722 95.20625391 39.11517605 30.02984294 55.37518126 85.19762581\n",
            " 79.49674247 68.4756705  43.21070913 69.04340199 21.60253513 28.39434378\n",
            " 77.78206109 92.99801363 19.00495036 29.60632894  0.62102672 43.15622453\n",
            " 21.02950718 64.14247826 70.95892157 11.87777144  8.2144002  90.63350696\n",
            " 38.92387547 53.34034973 96.32415649 75.90540122 32.55402976  8.58493011\n",
            " 53.60240167 33.61254429  2.16854045 77.11523333 38.49091299 57.13211501\n",
            " 75.57428558 94.08474199 61.23223387 31.53961788 11.00765078  7.39188879\n",
            " 31.96907739 66.0839139  69.51520647 20.77180401  8.27959386 30.55106613\n",
            " 54.75745599 75.46696745 52.96573206 28.69837527 62.41797233 26.48366552\n",
            " 65.26929143 84.18980078 63.89478204 56.5631469  30.71421093 87.67770399\n",
            " 98.88218847 77.74794312 57.36438576 14.12793326 31.49290224 36.68593186\n",
            " 29.1895221  44.59528147 61.06325169 21.29145905 24.97597543 11.21504832\n",
            " 30.75885892 49.74482786 48.98077847 99.55772118 98.11085631 43.65627717\n",
            " 97.20206218 21.43979042 54.11208861 45.34353145 96.76088975 83.61762231\n",
            " 21.41469248 43.95391022 16.84769716 52.90872105]\n"
          ]
        }
      ]
    },
    {
      "cell_type": "code",
      "source": [
        "fig,a=plt.subplots(figsize=(10,10))\n",
        "a.hist(population,bins=500)"
      ],
      "metadata": {
        "colab": {
          "base_uri": "https://localhost:8080/",
          "height": 1000
        },
        "id": "_M9NFEaTrMMU",
        "outputId": "df01bb12-bd8f-4b77-f5d0-a3a301be2aa1"
      },
      "execution_count": null,
      "outputs": [
        {
          "output_type": "execute_result",
          "data": {
            "text/plain": [
              "(array([3., 3., 3., 1., 1., 3., 2., 2., 2., 1., 2., 3., 3., 0., 4., 5., 2.,\n",
              "        4., 2., 3., 3., 0., 1., 2., 2., 1., 1., 0., 1., 1., 1., 0., 2., 2.,\n",
              "        0., 2., 1., 2., 0., 0., 3., 2., 5., 4., 0., 2., 0., 2., 2., 1., 3.,\n",
              "        2., 3., 2., 4., 1., 1., 2., 3., 2., 2., 0., 2., 3., 3., 3., 2., 0.,\n",
              "        3., 1., 1., 1., 6., 2., 3., 3., 1., 2., 0., 2., 2., 1., 2., 2., 0.,\n",
              "        4., 3., 1., 0., 5., 1., 5., 4., 2., 8., 3., 5., 1., 2., 1., 3., 3.,\n",
              "        0., 3., 1., 0., 5., 2., 1., 1., 0., 4., 3., 4., 0., 3., 1., 2., 4.,\n",
              "        2., 1., 2., 2., 1., 2., 5., 1., 0., 2., 2., 2., 1., 2., 2., 2., 5.,\n",
              "        2., 4., 6., 3., 1., 4., 4., 4., 1., 3., 1., 3., 1., 3., 2., 3., 3.,\n",
              "        6., 2., 0., 3., 3., 5., 5., 3., 1., 2., 4., 0., 0., 1., 2., 1., 2.,\n",
              "        2., 4., 0., 2., 4., 3., 0., 1., 1., 1., 3., 3., 0., 3., 0., 0., 3.,\n",
              "        1., 5., 1., 0., 5., 2., 3., 4., 2., 2., 4., 3., 1., 2., 2., 1., 2.,\n",
              "        0., 1., 4., 3., 0., 3., 1., 5., 2., 1., 0., 3., 0., 1., 0., 3., 2.,\n",
              "        1., 1., 3., 0., 3., 4., 1., 1., 1., 3., 2., 0., 1., 2., 2., 1., 0.,\n",
              "        1., 4., 3., 1., 2., 5., 3., 1., 0., 4., 4., 2., 2., 3., 1., 0., 4.,\n",
              "        2., 3., 2., 2., 1., 3., 0., 1., 5., 3., 3., 4., 1., 1., 2., 2., 3.,\n",
              "        3., 4., 1., 2., 2., 2., 1., 0., 2., 1., 3., 2., 1., 2., 5., 3., 5.,\n",
              "        0., 1., 1., 1., 3., 1., 1., 3., 4., 0., 4., 0., 2., 2., 1., 2., 5.,\n",
              "        2., 3., 2., 3., 3., 2., 4., 3., 1., 1., 1., 1., 1., 3., 3., 1., 1.,\n",
              "        1., 1., 2., 6., 2., 1., 3., 2., 6., 2., 1., 2., 0., 1., 2., 2., 2.,\n",
              "        2., 4., 2., 0., 1., 2., 1., 5., 2., 2., 1., 3., 3., 1., 2., 0., 2.,\n",
              "        1., 3., 1., 0., 0., 2., 2., 1., 1., 6., 2., 3., 1., 4., 4., 4., 2.,\n",
              "        3., 1., 5., 5., 2., 2., 1., 0., 2., 1., 2., 2., 1., 1., 3., 0., 2.,\n",
              "        1., 2., 2., 5., 0., 1., 2., 2., 1., 2., 3., 0., 2., 2., 1., 1., 0.,\n",
              "        3., 0., 1., 1., 3., 3., 2., 1., 1., 1., 1., 1., 2., 2., 1., 2., 0.,\n",
              "        4., 1., 2., 2., 4., 3., 2., 1., 2., 3., 2., 2., 3., 3., 2., 2., 2.,\n",
              "        2., 3., 0., 2., 1., 1., 0., 0., 2., 5., 2., 2., 0., 0., 0., 1., 2.,\n",
              "        2., 0., 3., 4., 0., 4., 6., 0., 0., 3., 1., 3., 3., 1., 1., 2., 1.,\n",
              "        1., 1., 1., 2., 1., 5., 1., 2., 0., 3., 2., 0., 0., 2., 2., 2., 2.,\n",
              "        1., 2., 0., 1., 1., 1., 2.]),\n",
              " array([ 0.11148303,  0.31123522,  0.51098741,  0.7107396 ,  0.91049179,\n",
              "         1.11024398,  1.30999617,  1.50974837,  1.70950056,  1.90925275,\n",
              "         2.10900494,  2.30875713,  2.50850932,  2.70826151,  2.90801371,\n",
              "         3.1077659 ,  3.30751809,  3.50727028,  3.70702247,  3.90677466,\n",
              "         4.10652685,  4.30627905,  4.50603124,  4.70578343,  4.90553562,\n",
              "         5.10528781,  5.30504   ,  5.50479219,  5.70454439,  5.90429658,\n",
              "         6.10404877,  6.30380096,  6.50355315,  6.70330534,  6.90305754,\n",
              "         7.10280973,  7.30256192,  7.50231411,  7.7020663 ,  7.90181849,\n",
              "         8.10157068,  8.30132288,  8.50107507,  8.70082726,  8.90057945,\n",
              "         9.10033164,  9.30008383,  9.49983602,  9.69958822,  9.89934041,\n",
              "        10.0990926 , 10.29884479, 10.49859698, 10.69834917, 10.89810136,\n",
              "        11.09785356, 11.29760575, 11.49735794, 11.69711013, 11.89686232,\n",
              "        12.09661451, 12.2963667 , 12.4961189 , 12.69587109, 12.89562328,\n",
              "        13.09537547, 13.29512766, 13.49487985, 13.69463204, 13.89438424,\n",
              "        14.09413643, 14.29388862, 14.49364081, 14.693393  , 14.89314519,\n",
              "        15.09289739, 15.29264958, 15.49240177, 15.69215396, 15.89190615,\n",
              "        16.09165834, 16.29141053, 16.49116273, 16.69091492, 16.89066711,\n",
              "        17.0904193 , 17.29017149, 17.48992368, 17.68967587, 17.88942807,\n",
              "        18.08918026, 18.28893245, 18.48868464, 18.68843683, 18.88818902,\n",
              "        19.08794121, 19.28769341, 19.4874456 , 19.68719779, 19.88694998,\n",
              "        20.08670217, 20.28645436, 20.48620655, 20.68595875, 20.88571094,\n",
              "        21.08546313, 21.28521532, 21.48496751, 21.6847197 , 21.88447189,\n",
              "        22.08422409, 22.28397628, 22.48372847, 22.68348066, 22.88323285,\n",
              "        23.08298504, 23.28273724, 23.48248943, 23.68224162, 23.88199381,\n",
              "        24.081746  , 24.28149819, 24.48125038, 24.68100258, 24.88075477,\n",
              "        25.08050696, 25.28025915, 25.48001134, 25.67976353, 25.87951572,\n",
              "        26.07926792, 26.27902011, 26.4787723 , 26.67852449, 26.87827668,\n",
              "        27.07802887, 27.27778106, 27.47753326, 27.67728545, 27.87703764,\n",
              "        28.07678983, 28.27654202, 28.47629421, 28.6760464 , 28.8757986 ,\n",
              "        29.07555079, 29.27530298, 29.47505517, 29.67480736, 29.87455955,\n",
              "        30.07431174, 30.27406394, 30.47381613, 30.67356832, 30.87332051,\n",
              "        31.0730727 , 31.27282489, 31.47257709, 31.67232928, 31.87208147,\n",
              "        32.07183366, 32.27158585, 32.47133804, 32.67109023, 32.87084243,\n",
              "        33.07059462, 33.27034681, 33.470099  , 33.66985119, 33.86960338,\n",
              "        34.06935557, 34.26910777, 34.46885996, 34.66861215, 34.86836434,\n",
              "        35.06811653, 35.26786872, 35.46762091, 35.66737311, 35.8671253 ,\n",
              "        36.06687749, 36.26662968, 36.46638187, 36.66613406, 36.86588625,\n",
              "        37.06563845, 37.26539064, 37.46514283, 37.66489502, 37.86464721,\n",
              "        38.0643994 , 38.26415159, 38.46390379, 38.66365598, 38.86340817,\n",
              "        39.06316036, 39.26291255, 39.46266474, 39.66241694, 39.86216913,\n",
              "        40.06192132, 40.26167351, 40.4614257 , 40.66117789, 40.86093008,\n",
              "        41.06068228, 41.26043447, 41.46018666, 41.65993885, 41.85969104,\n",
              "        42.05944323, 42.25919542, 42.45894762, 42.65869981, 42.858452  ,\n",
              "        43.05820419, 43.25795638, 43.45770857, 43.65746076, 43.85721296,\n",
              "        44.05696515, 44.25671734, 44.45646953, 44.65622172, 44.85597391,\n",
              "        45.0557261 , 45.2554783 , 45.45523049, 45.65498268, 45.85473487,\n",
              "        46.05448706, 46.25423925, 46.45399144, 46.65374364, 46.85349583,\n",
              "        47.05324802, 47.25300021, 47.4527524 , 47.65250459, 47.85225679,\n",
              "        48.05200898, 48.25176117, 48.45151336, 48.65126555, 48.85101774,\n",
              "        49.05076993, 49.25052213, 49.45027432, 49.65002651, 49.8497787 ,\n",
              "        50.04953089, 50.24928308, 50.44903527, 50.64878747, 50.84853966,\n",
              "        51.04829185, 51.24804404, 51.44779623, 51.64754842, 51.84730061,\n",
              "        52.04705281, 52.246805  , 52.44655719, 52.64630938, 52.84606157,\n",
              "        53.04581376, 53.24556595, 53.44531815, 53.64507034, 53.84482253,\n",
              "        54.04457472, 54.24432691, 54.4440791 , 54.6438313 , 54.84358349,\n",
              "        55.04333568, 55.24308787, 55.44284006, 55.64259225, 55.84234444,\n",
              "        56.04209664, 56.24184883, 56.44160102, 56.64135321, 56.8411054 ,\n",
              "        57.04085759, 57.24060978, 57.44036198, 57.64011417, 57.83986636,\n",
              "        58.03961855, 58.23937074, 58.43912293, 58.63887512, 58.83862732,\n",
              "        59.03837951, 59.2381317 , 59.43788389, 59.63763608, 59.83738827,\n",
              "        60.03714046, 60.23689266, 60.43664485, 60.63639704, 60.83614923,\n",
              "        61.03590142, 61.23565361, 61.4354058 , 61.635158  , 61.83491019,\n",
              "        62.03466238, 62.23441457, 62.43416676, 62.63391895, 62.83367115,\n",
              "        63.03342334, 63.23317553, 63.43292772, 63.63267991, 63.8324321 ,\n",
              "        64.03218429, 64.23193649, 64.43168868, 64.63144087, 64.83119306,\n",
              "        65.03094525, 65.23069744, 65.43044963, 65.63020183, 65.82995402,\n",
              "        66.02970621, 66.2294584 , 66.42921059, 66.62896278, 66.82871497,\n",
              "        67.02846717, 67.22821936, 67.42797155, 67.62772374, 67.82747593,\n",
              "        68.02722812, 68.22698031, 68.42673251, 68.6264847 , 68.82623689,\n",
              "        69.02598908, 69.22574127, 69.42549346, 69.62524565, 69.82499785,\n",
              "        70.02475004, 70.22450223, 70.42425442, 70.62400661, 70.8237588 ,\n",
              "        71.023511  , 71.22326319, 71.42301538, 71.62276757, 71.82251976,\n",
              "        72.02227195, 72.22202414, 72.42177634, 72.62152853, 72.82128072,\n",
              "        73.02103291, 73.2207851 , 73.42053729, 73.62028948, 73.82004168,\n",
              "        74.01979387, 74.21954606, 74.41929825, 74.61905044, 74.81880263,\n",
              "        75.01855482, 75.21830702, 75.41805921, 75.6178114 , 75.81756359,\n",
              "        76.01731578, 76.21706797, 76.41682016, 76.61657236, 76.81632455,\n",
              "        77.01607674, 77.21582893, 77.41558112, 77.61533331, 77.8150855 ,\n",
              "        78.0148377 , 78.21458989, 78.41434208, 78.61409427, 78.81384646,\n",
              "        79.01359865, 79.21335085, 79.41310304, 79.61285523, 79.81260742,\n",
              "        80.01235961, 80.2121118 , 80.41186399, 80.61161619, 80.81136838,\n",
              "        81.01112057, 81.21087276, 81.41062495, 81.61037714, 81.81012933,\n",
              "        82.00988153, 82.20963372, 82.40938591, 82.6091381 , 82.80889029,\n",
              "        83.00864248, 83.20839467, 83.40814687, 83.60789906, 83.80765125,\n",
              "        84.00740344, 84.20715563, 84.40690782, 84.60666001, 84.80641221,\n",
              "        85.0061644 , 85.20591659, 85.40566878, 85.60542097, 85.80517316,\n",
              "        86.00492535, 86.20467755, 86.40442974, 86.60418193, 86.80393412,\n",
              "        87.00368631, 87.2034385 , 87.4031907 , 87.60294289, 87.80269508,\n",
              "        88.00244727, 88.20219946, 88.40195165, 88.60170384, 88.80145604,\n",
              "        89.00120823, 89.20096042, 89.40071261, 89.6004648 , 89.80021699,\n",
              "        89.99996918, 90.19972138, 90.39947357, 90.59922576, 90.79897795,\n",
              "        90.99873014, 91.19848233, 91.39823452, 91.59798672, 91.79773891,\n",
              "        91.9974911 , 92.19724329, 92.39699548, 92.59674767, 92.79649986,\n",
              "        92.99625206, 93.19600425, 93.39575644, 93.59550863, 93.79526082,\n",
              "        93.99501301, 94.1947652 , 94.3945174 , 94.59426959, 94.79402178,\n",
              "        94.99377397, 95.19352616, 95.39327835, 95.59303055, 95.79278274,\n",
              "        95.99253493, 96.19228712, 96.39203931, 96.5917915 , 96.79154369,\n",
              "        96.99129589, 97.19104808, 97.39080027, 97.59055246, 97.79030465,\n",
              "        97.99005684, 98.18980903, 98.38956123, 98.58931342, 98.78906561,\n",
              "        98.9888178 , 99.18856999, 99.38832218, 99.58807437, 99.78782657,\n",
              "        99.98757876]),\n",
              " <a list of 500 Patch objects>)"
            ]
          },
          "metadata": {},
          "execution_count": 42
        },
        {
          "output_type": "display_data",
          "data": {
            "image/png": "[encoded data removed]",
            "text/plain": [
              "<Figure size 720x720 with 1 Axes>"
            ]
          },
          "metadata": {
            "needs_background": "light"
          }
        }
      ]
    },
    {
      "cell_type": "code",
      "source": [
        "print(\"Mean of population = \",np.mean(population))\n",
        "print(\" Variance of population =\",np.var(population) )"
      ],
      "metadata": {
        "colab": {
          "base_uri": "https://localhost:8080/"
        },
        "id": "DuJaM2sqrMJj",
        "outputId": "e89b6102-0a20-4654-ab4b-c989a04ef98a"
      },
      "execution_count": null,
      "outputs": [
        {
          "output_type": "stream",
          "name": "stdout",
          "text": [
            "Mean of population =  48.165132833680126\n",
            " Variance of population = 785.7596708066885\n"
          ]
        }
      ]
    },
    {
      "cell_type": "code",
      "source": [
        "n=int(input(\"Enter size of sample= \"))\n",
        "sample=random.sample(tuple(population),n)\n",
        "print(sample)"
      ],
      "metadata": {
        "colab": {
          "base_uri": "https://localhost:8080/"
        },
        "id": "XIU4if2yrMG4",
        "outputId": "1cf8b64e-f2ae-4be1-83c9-d5f9d81280a1"
      },
      "execution_count": null,
      "outputs": [
        {
          "output_type": "stream",
          "name": "stdout",
          "text": [
            "Enter size of sample= 35\n",
            "[51.77867238134145, 67.92129501957186, 55.508676652217446, 85.19546448042983, 66.00152235260511, 54.26164118717204, 54.683445581580834, 28.01926353730937, 68.24780792979443, 82.72003251393062, 38.41142279962266, 65.45375346228315, 58.24398618892226, 47.91392787629136, 52.67158603586157, 42.14910104280981, 18.64926882726853, 54.488370667619456, 87.91985605365954, 27.391809322955496, 74.25880576965469, 92.95503765123406, 85.12376625014974, 10.463591174495857, 3.973568657585125, 94.75415511018242, 92.99801363463565, 82.78032394592222, 55.12566489358516, 28.57829333557622, 51.52146961620737, 94.08474199010458, 11.873040511259358, 31.79447538473339, 49.51123625611782]\n"
          ]
        }
      ]
    },
    {
      "cell_type": "code",
      "source": [
        "n=int(input(\"Enter size of sample= \"))\n",
        "m=int(input(\"Enter number of sample= \"))\n",
        "mean_sample=[]\n",
        "for i in range(m):\n",
        "  sample_data=random.sample(tuple(population),n)\n",
        "  mean=np.mean(sample_data)\n",
        "  mean_sample.append(mean)\n",
        "print(mean_sample)"
      ],
      "metadata": {
        "colab": {
          "base_uri": "https://localhost:8080/"
        },
        "id": "FJxYA6tYrMEe",
        "outputId": "4f226ed0-1a74-451b-9ba3-b5046e3ff1a4"
      },
      "execution_count": null,
      "outputs": [
        {
          "output_type": "stream",
          "name": "stdout",
          "text": [
            "Enter size of sample= 35\n",
            "Enter number of sample= 3\n",
            "[45.15583736742707, 45.02052880116736, 45.29377915466685]\n"
          ]
        }
      ]
    },
    {
      "cell_type": "code",
      "source": [
        "fig,a=plt.subplots(figsize=(10,10))\n",
        "a.hist(mean_sample,bins=50)"
      ],
      "metadata": {
        "colab": {
          "base_uri": "https://localhost:8080/",
          "height": 852
        },
        "id": "0VXTNAswrMBy",
        "outputId": "211fe2f8-46a3-4015-a2bc-0249f6c55365"
      },
      "execution_count": null,
      "outputs": [
        {
          "output_type": "execute_result",
          "data": {
            "text/plain": [
              "(array([1., 0., 0., 0., 0., 0., 0., 0., 0., 0., 0., 0., 0., 0., 0., 0., 0.,\n",
              "        0., 0., 0., 0., 0., 0., 0., 1., 0., 0., 0., 0., 0., 0., 0., 0., 0.,\n",
              "        0., 0., 0., 0., 0., 0., 0., 0., 0., 0., 0., 0., 0., 0., 0., 1.]),\n",
              " array([45.0205288 , 45.02599381, 45.03145882, 45.03692382, 45.04238883,\n",
              "        45.04785384, 45.05331884, 45.05878385, 45.06424886, 45.06971386,\n",
              "        45.07517887, 45.08064388, 45.08610889, 45.09157389, 45.0970389 ,\n",
              "        45.10250391, 45.10796891, 45.11343392, 45.11889893, 45.12436394,\n",
              "        45.12982894, 45.13529395, 45.14075896, 45.14622396, 45.15168897,\n",
              "        45.15715398, 45.16261898, 45.16808399, 45.173549  , 45.17901401,\n",
              "        45.18447901, 45.18994402, 45.19540903, 45.20087403, 45.20633904,\n",
              "        45.21180405, 45.21726906, 45.22273406, 45.22819907, 45.23366408,\n",
              "        45.23912908, 45.24459409, 45.2500591 , 45.25552411, 45.26098911,\n",
              "        45.26645412, 45.27191913, 45.27738413, 45.28284914, 45.28831415,\n",
              "        45.29377915]),\n",
              " <a list of 50 Patch objects>)"
            ]
          },
          "metadata": {},
          "execution_count": 48
        },
        {
          "output_type": "display_data",
          "data": {
            "image/png": "[encoded data removed]",
            "text/plain": [
              "<Figure size 720x720 with 1 Axes>"
            ]
          },
          "metadata": {
            "needs_background": "light"
          }
        }
      ]
    },
    {
      "cell_type": "code",
      "source": [],
      "metadata": {
        "id": "XlFTA-q5rL_L"
      },
      "execution_count": null,
      "outputs": []
    },
    {
      "cell_type": "code",
      "source": [],
      "metadata": {
        "id": "h9z50TRNrL8u"
      },
      "execution_count": null,
      "outputs": []
    },
    {
      "cell_type": "code",
      "source": [],
      "metadata": {
        "id": "3ddP8eG8rL6H"
      },
      "execution_count": null,
      "outputs": []
    },
    {
      "cell_type": "code",
      "source": [],
      "metadata": {
        "id": "aaNlpnzorL3-"
      },
      "execution_count": null,
      "outputs": []
    },
    {
      "cell_type": "code",
      "source": [],
      "metadata": {
        "id": "ChC6JYmDrL1F"
      },
      "execution_count": null,
      "outputs": []
    },
    {
      "cell_type": "code",
      "source": [],
      "metadata": {
        "id": "5_S3h4tsrLy9"
      },
      "execution_count": null,
      "outputs": []
    },
    {
      "cell_type": "code",
      "source": [],
      "metadata": {
        "id": "moqrJwY-rLt9"
      },
      "execution_count": null,
      "outputs": []
    },
    {
      "cell_type": "code",
      "source": [],
      "metadata": {
        "id": "xbJ383k5rLre"
      },
      "execution_count": null,
      "outputs": []
    },
    {
      "cell_type": "code",
      "source": [],
      "metadata": {
        "id": "Z3M3b6G6rLpI"
      },
      "execution_count": null,
      "outputs": []
    },
    {
      "cell_type": "markdown",
      "metadata": {
        "id": "1bLvkHJe4-6z"
      },
      "source": [
        "** Solution 15 **"
      ]
    },
    {
      "cell_type": "code",
      "metadata": {
        "colab": {
          "base_uri": "https://localhost:8080/"
        },
        "id": "qjDnhZDM4heb",
        "outputId": "a84162cb-8d33-4b1a-d413-5bc69d1906d2"
      },
      "source": [
        "mu=int(input(\"Enter mean for normal population: \"))\n",
        "sigma=int(input(\"Enter standard deviation for normal population: \"))"
      ],
      "execution_count": null,
      "outputs": [
        {
          "name": "stdout",
          "output_type": "stream",
          "text": [
            "Enter mean for normal population: 5\n",
            "Enter standard deviation for normal population: 1\n"
          ]
        }
      ]
    },
    {
      "cell_type": "code",
      "metadata": {
        "id": "QRBWrxJe5eIk"
      },
      "source": [
        "population=np.random.normal(mu,sigma,1000)"
      ],
      "execution_count": null,
      "outputs": []
    },
    {
      "cell_type": "code",
      "metadata": {
        "colab": {
          "base_uri": "https://localhost:8080/"
        },
        "id": "iyx_XU4p5eFH",
        "outputId": "df1d9924-a06b-488e-a481-01eb1fe286c3"
      },
      "source": [
        "print(\"Mean of population: \",np.mean(population))\n",
        "print(\"Variance of population: \",np.var(population))"
      ],
      "execution_count": null,
      "outputs": [
        {
          "output_type": "stream",
          "name": "stdout",
          "text": [
            "Mean of population:  4.987557907674934\n",
            "Variance of population:  1.0318490398971432\n"
          ]
        }
      ]
    },
    {
      "cell_type": "code",
      "metadata": {
        "colab": {
          "base_uri": "https://localhost:8080/",
          "height": 1000
        },
        "id": "GNm3IaJn5eCZ",
        "outputId": "34a04910-2262-4c05-840c-3a8860f12316"
      },
      "source": [
        "fig,a=plt.subplots(figsize=(10,10))\n",
        "a.hist(population,bins=500)"
      ],
      "execution_count": null,
      "outputs": [
        {
          "output_type": "execute_result",
          "data": {
            "text/plain": [
              "(array([ 1.,  0.,  0.,  0.,  0.,  0.,  0.,  0.,  0.,  0.,  0.,  0.,  0.,\n",
              "         0.,  0.,  0.,  0.,  0.,  0.,  0.,  0.,  0.,  0.,  0.,  0.,  0.,\n",
              "         0.,  0.,  0.,  0.,  0.,  0.,  0.,  0.,  0.,  0.,  0.,  0.,  0.,\n",
              "         0.,  0.,  0.,  0.,  0.,  0.,  0.,  0.,  1.,  1.,  0.,  0.,  0.,\n",
              "         0.,  1.,  0.,  0.,  1.,  1.,  1.,  1.,  0.,  1.,  0.,  0.,  1.,\n",
              "         1.,  1.,  1.,  0.,  0.,  1.,  0.,  1.,  1.,  0.,  0.,  0.,  1.,\n",
              "         1.,  1.,  2.,  0.,  1.,  0.,  1.,  0.,  0.,  1.,  1.,  1.,  1.,\n",
              "         0.,  1.,  1.,  2.,  0.,  0.,  1.,  2.,  0.,  0.,  2.,  0.,  1.,\n",
              "         1.,  3.,  0.,  1.,  0.,  0.,  0.,  0.,  0.,  1.,  0.,  2.,  1.,\n",
              "         1.,  1.,  1.,  1.,  1.,  3.,  2.,  1.,  2.,  2.,  0.,  0.,  2.,\n",
              "         1.,  3.,  2.,  0.,  0.,  0.,  0.,  1.,  0.,  2.,  2.,  2.,  2.,\n",
              "         3.,  3.,  1.,  1.,  0.,  1.,  2.,  1.,  1.,  2.,  3.,  1.,  4.,\n",
              "         2.,  2.,  7.,  4.,  3.,  3.,  3.,  2.,  0.,  0.,  3.,  3.,  4.,\n",
              "         2.,  0.,  1.,  5.,  2.,  4.,  1.,  2.,  3.,  2.,  2.,  3.,  3.,\n",
              "         1.,  1.,  2.,  5.,  3.,  4.,  5., 10.,  0.,  4.,  5.,  4.,  2.,\n",
              "         3.,  4.,  4.,  2.,  4.,  5.,  1.,  1.,  8.,  4.,  3.,  1.,  4.,\n",
              "         3.,  2.,  4.,  7.,  3.,  6.,  2.,  3.,  2.,  4.,  6.,  5.,  3.,\n",
              "         5.,  4.,  6.,  8.,  4.,  3.,  8.,  3.,  5.,  7.,  1.,  2.,  6.,\n",
              "         5.,  5.,  5.,  4.,  3.,  6.,  6.,  5.,  3.,  5.,  5.,  6.,  4.,\n",
              "         4., 11.,  5.,  7.,  5.,  5.,  2.,  7.,  3.,  9.,  4.,  7.,  7.,\n",
              "         4.,  7.,  8.,  6.,  5.,  4.,  5.,  3.,  5.,  5.,  4.,  6.,  5.,\n",
              "         7.,  3.,  9.,  3.,  3.,  6.,  3.,  5.,  2.,  4.,  5.,  3.,  6.,\n",
              "         2.,  6.,  3., 12.,  1.,  5.,  7.,  5.,  5.,  8.,  3.,  2.,  4.,\n",
              "         4.,  7.,  5.,  8.,  7.,  2.,  4.,  6.,  2.,  9.,  5.,  8.,  4.,\n",
              "         4.,  5.,  3.,  4.,  4.,  4.,  2.,  3.,  0.,  3.,  4.,  4.,  2.,\n",
              "         1.,  2.,  1.,  4.,  0.,  2.,  2.,  3.,  1.,  2.,  1.,  1.,  3.,\n",
              "         3.,  4.,  4.,  5.,  2.,  5.,  6.,  3.,  3.,  4.,  4.,  5.,  3.,\n",
              "         1.,  2.,  2.,  4.,  1.,  3.,  2.,  1.,  0.,  4.,  1.,  4.,  3.,\n",
              "         1.,  2.,  2.,  3.,  1.,  3.,  2.,  3.,  3.,  3.,  4.,  1.,  1.,\n",
              "         0.,  1.,  3.,  3.,  1.,  0.,  0.,  1.,  1.,  2.,  1.,  1.,  2.,\n",
              "         1.,  2.,  1.,  2.,  1.,  0.,  0.,  1.,  1.,  1.,  1.,  0.,  1.,\n",
              "         0.,  1.,  0.,  1.,  2.,  3.,  0.,  1.,  1.,  0.,  0.,  2.,  0.,\n",
              "         1.,  1.,  2.,  1.,  1.,  1.,  0.,  0.,  2.,  1.,  0.,  0.,  0.,\n",
              "         0.,  0.,  1.,  1.,  1.,  0.,  0.,  0.,  0.,  1.,  0.,  0.,  1.,\n",
              "         0.,  0.,  0.,  0.,  0.,  0.,  0.,  0.,  2.,  0.,  0.,  0.,  0.,\n",
              "         0.,  0.,  0.,  0.,  0.,  0.,  1.,  0.,  0.,  0.,  0.,  0.,  0.,\n",
              "         0.,  2.,  0.,  0.,  0.,  0.,  0.,  0.,  0.,  0.,  0.,  0.,  0.,\n",
              "         0.,  0.,  0.,  0.,  0.,  0.,  0.,  0.,  0.,  0.,  0.,  0.,  0.,\n",
              "         0.,  0.,  0.,  0.,  0.,  1.]),\n",
              " array([1.69313915, 1.70593835, 1.71873756, 1.73153676, 1.74433596,\n",
              "        1.75713516, 1.76993437, 1.78273357, 1.79553277, 1.80833198,\n",
              "        1.82113118, 1.83393038, 1.84672959, 1.85952879, 1.87232799,\n",
              "        1.8851272 , 1.8979264 , 1.9107256 , 1.92352481, 1.93632401,\n",
              "        1.94912321, 1.96192242, 1.97472162, 1.98752082, 2.00032003,\n",
              "        2.01311923, 2.02591843, 2.03871763, 2.05151684, 2.06431604,\n",
              "        2.07711524, 2.08991445, 2.10271365, 2.11551285, 2.12831206,\n",
              "        2.14111126, 2.15391046, 2.16670967, 2.17950887, 2.19230807,\n",
              "        2.20510728, 2.21790648, 2.23070568, 2.24350489, 2.25630409,\n",
              "        2.26910329, 2.2819025 , 2.2947017 , 2.3075009 , 2.3203001 ,\n",
              "        2.33309931, 2.34589851, 2.35869771, 2.37149692, 2.38429612,\n",
              "        2.39709532, 2.40989453, 2.42269373, 2.43549293, 2.44829214,\n",
              "        2.46109134, 2.47389054, 2.48668975, 2.49948895, 2.51228815,\n",
              "        2.52508736, 2.53788656, 2.55068576, 2.56348497, 2.57628417,\n",
              "        2.58908337, 2.60188257, 2.61468178, 2.62748098, 2.64028018,\n",
              "        2.65307939, 2.66587859, 2.67867779, 2.691477  , 2.7042762 ,\n",
              "        2.7170754 , 2.72987461, 2.74267381, 2.75547301, 2.76827222,\n",
              "        2.78107142, 2.79387062, 2.80666983, 2.81946903, 2.83226823,\n",
              "        2.84506744, 2.85786664, 2.87066584, 2.88346504, 2.89626425,\n",
              "        2.90906345, 2.92186265, 2.93466186, 2.94746106, 2.96026026,\n",
              "        2.97305947, 2.98585867, 2.99865787, 3.01145708, 3.02425628,\n",
              "        3.03705548, 3.04985469, 3.06265389, 3.07545309, 3.0882523 ,\n",
              "        3.1010515 , 3.1138507 , 3.12664991, 3.13944911, 3.15224831,\n",
              "        3.16504751, 3.17784672, 3.19064592, 3.20344512, 3.21624433,\n",
              "        3.22904353, 3.24184273, 3.25464194, 3.26744114, 3.28024034,\n",
              "        3.29303955, 3.30583875, 3.31863795, 3.33143716, 3.34423636,\n",
              "        3.35703556, 3.36983477, 3.38263397, 3.39543317, 3.40823238,\n",
              "        3.42103158, 3.43383078, 3.44662998, 3.45942919, 3.47222839,\n",
              "        3.48502759, 3.4978268 , 3.510626  , 3.5234252 , 3.53622441,\n",
              "        3.54902361, 3.56182281, 3.57462202, 3.58742122, 3.60022042,\n",
              "        3.61301963, 3.62581883, 3.63861803, 3.65141724, 3.66421644,\n",
              "        3.67701564, 3.68981484, 3.70261405, 3.71541325, 3.72821245,\n",
              "        3.74101166, 3.75381086, 3.76661006, 3.77940927, 3.79220847,\n",
              "        3.80500767, 3.81780688, 3.83060608, 3.84340528, 3.85620449,\n",
              "        3.86900369, 3.88180289, 3.8946021 , 3.9074013 , 3.9202005 ,\n",
              "        3.93299971, 3.94579891, 3.95859811, 3.97139731, 3.98419652,\n",
              "        3.99699572, 4.00979492, 4.02259413, 4.03539333, 4.04819253,\n",
              "        4.06099174, 4.07379094, 4.08659014, 4.09938935, 4.11218855,\n",
              "        4.12498775, 4.13778696, 4.15058616, 4.16338536, 4.17618457,\n",
              "        4.18898377, 4.20178297, 4.21458218, 4.22738138, 4.24018058,\n",
              "        4.25297978, 4.26577899, 4.27857819, 4.29137739, 4.3041766 ,\n",
              "        4.3169758 , 4.329775  , 4.34257421, 4.35537341, 4.36817261,\n",
              "        4.38097182, 4.39377102, 4.40657022, 4.41936943, 4.43216863,\n",
              "        4.44496783, 4.45776704, 4.47056624, 4.48336544, 4.49616465,\n",
              "        4.50896385, 4.52176305, 4.53456225, 4.54736146, 4.56016066,\n",
              "        4.57295986, 4.58575907, 4.59855827, 4.61135747, 4.62415668,\n",
              "        4.63695588, 4.64975508, 4.66255429, 4.67535349, 4.68815269,\n",
              "        4.7009519 , 4.7137511 , 4.7265503 , 4.73934951, 4.75214871,\n",
              "        4.76494791, 4.77774712, 4.79054632, 4.80334552, 4.81614472,\n",
              "        4.82894393, 4.84174313, 4.85454233, 4.86734154, 4.88014074,\n",
              "        4.89293994, 4.90573915, 4.91853835, 4.93133755, 4.94413676,\n",
              "        4.95693596, 4.96973516, 4.98253437, 4.99533357, 5.00813277,\n",
              "        5.02093198, 5.03373118, 5.04653038, 5.05932959, 5.07212879,\n",
              "        5.08492799, 5.09772719, 5.1105264 , 5.1233256 , 5.1361248 ,\n",
              "        5.14892401, 5.16172321, 5.17452241, 5.18732162, 5.20012082,\n",
              "        5.21292002, 5.22571923, 5.23851843, 5.25131763, 5.26411684,\n",
              "        5.27691604, 5.28971524, 5.30251445, 5.31531365, 5.32811285,\n",
              "        5.34091206, 5.35371126, 5.36651046, 5.37930966, 5.39210887,\n",
              "        5.40490807, 5.41770727, 5.43050648, 5.44330568, 5.45610488,\n",
              "        5.46890409, 5.48170329, 5.49450249, 5.5073017 , 5.5201009 ,\n",
              "        5.5329001 , 5.54569931, 5.55849851, 5.57129771, 5.58409692,\n",
              "        5.59689612, 5.60969532, 5.62249453, 5.63529373, 5.64809293,\n",
              "        5.66089213, 5.67369134, 5.68649054, 5.69928974, 5.71208895,\n",
              "        5.72488815, 5.73768735, 5.75048656, 5.76328576, 5.77608496,\n",
              "        5.78888417, 5.80168337, 5.81448257, 5.82728178, 5.84008098,\n",
              "        5.85288018, 5.86567939, 5.87847859, 5.89127779, 5.904077  ,\n",
              "        5.9168762 , 5.9296754 , 5.9424746 , 5.95527381, 5.96807301,\n",
              "        5.98087221, 5.99367142, 6.00647062, 6.01926982, 6.03206903,\n",
              "        6.04486823, 6.05766743, 6.07046664, 6.08326584, 6.09606504,\n",
              "        6.10886425, 6.12166345, 6.13446265, 6.14726186, 6.16006106,\n",
              "        6.17286026, 6.18565947, 6.19845867, 6.21125787, 6.22405707,\n",
              "        6.23685628, 6.24965548, 6.26245468, 6.27525389, 6.28805309,\n",
              "        6.30085229, 6.3136515 , 6.3264507 , 6.3392499 , 6.35204911,\n",
              "        6.36484831, 6.37764751, 6.39044672, 6.40324592, 6.41604512,\n",
              "        6.42884433, 6.44164353, 6.45444273, 6.46724194, 6.48004114,\n",
              "        6.49284034, 6.50563954, 6.51843875, 6.53123795, 6.54403715,\n",
              "        6.55683636, 6.56963556, 6.58243476, 6.59523397, 6.60803317,\n",
              "        6.62083237, 6.63363158, 6.64643078, 6.65922998, 6.67202919,\n",
              "        6.68482839, 6.69762759, 6.7104268 , 6.723226  , 6.7360252 ,\n",
              "        6.74882441, 6.76162361, 6.77442281, 6.78722201, 6.80002122,\n",
              "        6.81282042, 6.82561962, 6.83841883, 6.85121803, 6.86401723,\n",
              "        6.87681644, 6.88961564, 6.90241484, 6.91521405, 6.92801325,\n",
              "        6.94081245, 6.95361166, 6.96641086, 6.97921006, 6.99200927,\n",
              "        7.00480847, 7.01760767, 7.03040688, 7.04320608, 7.05600528,\n",
              "        7.06880448, 7.08160369, 7.09440289, 7.10720209, 7.1200013 ,\n",
              "        7.1328005 , 7.1455997 , 7.15839891, 7.17119811, 7.18399731,\n",
              "        7.19679652, 7.20959572, 7.22239492, 7.23519413, 7.24799333,\n",
              "        7.26079253, 7.27359174, 7.28639094, 7.29919014, 7.31198934,\n",
              "        7.32478855, 7.33758775, 7.35038695, 7.36318616, 7.37598536,\n",
              "        7.38878456, 7.40158377, 7.41438297, 7.42718217, 7.43998138,\n",
              "        7.45278058, 7.46557978, 7.47837899, 7.49117819, 7.50397739,\n",
              "        7.5167766 , 7.5295758 , 7.542375  , 7.55517421, 7.56797341,\n",
              "        7.58077261, 7.59357181, 7.60637102, 7.61917022, 7.63196942,\n",
              "        7.64476863, 7.65756783, 7.67036703, 7.68316624, 7.69596544,\n",
              "        7.70876464, 7.72156385, 7.73436305, 7.74716225, 7.75996146,\n",
              "        7.77276066, 7.78555986, 7.79835907, 7.81115827, 7.82395747,\n",
              "        7.83675668, 7.84955588, 7.86235508, 7.87515428, 7.88795349,\n",
              "        7.90075269, 7.91355189, 7.9263511 , 7.9391503 , 7.9519495 ,\n",
              "        7.96474871, 7.97754791, 7.99034711, 8.00314632, 8.01594552,\n",
              "        8.02874472, 8.04154393, 8.05434313, 8.06714233, 8.07994154,\n",
              "        8.09274074]),\n",
              " <a list of 500 Patch objects>)"
            ]
          },
          "metadata": {},
          "execution_count": 21
        },
        {
          "output_type": "display_data",
          "data": {
            "image/png": "[encoded data removed]",
            "text/plain": [
              "<Figure size 720x720 with 1 Axes>"
            ]
          },
          "metadata": {
            "needs_background": "light"
          }
        }
      ]
    },
    {
      "cell_type": "markdown",
      "metadata": {
        "id": "mhJG81pw6Nt4"
      },
      "source": [
        "** Solution 18 **"
      ]
    },
    {
      "cell_type": "code",
      "metadata": {
        "colab": {
          "base_uri": "https://localhost:8080/"
        },
        "id": "KdKSw2CV5d_s",
        "outputId": "1f6418fd-0938-46b8-907b-3d4fc7aa5630"
      },
      "source": [
        "n=int(input(\"Enter the size of sample you want to draw from the population: \"))\n",
        "sample_data=random.sample(tuple(population),n)"
      ],
      "execution_count": null,
      "outputs": [
        {
          "name": "stdout",
          "output_type": "stream",
          "text": [
            "Enter the size of sample you want to draw from the population: 35\n"
          ]
        }
      ]
    },
    {
      "cell_type": "markdown",
      "metadata": {
        "id": "9UjwBgzy6mNn"
      },
      "source": [
        "** Solution 19 **"
      ]
    },
    {
      "cell_type": "code",
      "metadata": {
        "colab": {
          "base_uri": "https://localhost:8080/"
        },
        "id": "eTlUB6y15d81",
        "outputId": "074c991b-e471-4e7e-8329-d2bf99763407"
      },
      "source": [
        "n=int(input(\"Enter the size of sample you want to draw from the population: \"))\n",
        "m=int(input(\"Enter the number of samples you want to draw from the population: \"))\n",
        "mean_sample=[]\n",
        "for i in range(m):\n",
        "  sample_data=random.sample(tuple(population),n)\n",
        "  mean=np.mean(sample_data)\n",
        "  mean_sample.append(mean)\n",
        "print(mean_sample)\n"
      ],
      "execution_count": null,
      "outputs": [
        {
          "output_type": "stream",
          "name": "stdout",
          "text": [
            "Enter the size of sample you want to draw from the population: 50\n",
            "Enter the number of samples you want to draw from the population: 4\n",
            "[4.988981234492019, 4.998214097780476, 5.046101049913291, 4.882855597882234]\n"
          ]
        }
      ]
    },
    {
      "cell_type": "markdown",
      "metadata": {
        "id": "Vdfij3xT8uAV"
      },
      "source": [
        "** Solution 20 **"
      ]
    },
    {
      "cell_type": "code",
      "metadata": {
        "colab": {
          "base_uri": "https://localhost:8080/",
          "height": 1000
        },
        "id": "uK3sDdsb5d5_",
        "outputId": "d323bcf3-ab8d-4480-a414-a0763b9edbc3"
      },
      "source": [
        "fig,a=plt.subplots(figsize=(10,10))\n",
        "a.hist(population,bins=500)"
      ],
      "execution_count": null,
      "outputs": [
        {
          "output_type": "execute_result",
          "data": {
            "text/plain": [
              "(array([ 1.,  0.,  0.,  0.,  0.,  0.,  0.,  0.,  0.,  0.,  0.,  0.,  0.,\n",
              "         0.,  0.,  0.,  0.,  0.,  0.,  0.,  0.,  0.,  0.,  0.,  0.,  0.,\n",
              "         0.,  0.,  0.,  0.,  0.,  0.,  0.,  0.,  0.,  0.,  0.,  0.,  0.,\n",
              "         0.,  0.,  0.,  0.,  0.,  0.,  0.,  0.,  1.,  1.,  0.,  0.,  0.,\n",
              "         0.,  1.,  0.,  0.,  1.,  1.,  1.,  1.,  0.,  1.,  0.,  0.,  1.,\n",
              "         1.,  1.,  1.,  0.,  0.,  1.,  0.,  1.,  1.,  0.,  0.,  0.,  1.,\n",
              "         1.,  1.,  2.,  0.,  1.,  0.,  1.,  0.,  0.,  1.,  1.,  1.,  1.,\n",
              "         0.,  1.,  1.,  2.,  0.,  0.,  1.,  2.,  0.,  0.,  2.,  0.,  1.,\n",
              "         1.,  3.,  0.,  1.,  0.,  0.,  0.,  0.,  0.,  1.,  0.,  2.,  1.,\n",
              "         1.,  1.,  1.,  1.,  1.,  3.,  2.,  1.,  2.,  2.,  0.,  0.,  2.,\n",
              "         1.,  3.,  2.,  0.,  0.,  0.,  0.,  1.,  0.,  2.,  2.,  2.,  2.,\n",
              "         3.,  3.,  1.,  1.,  0.,  1.,  2.,  1.,  1.,  2.,  3.,  1.,  4.,\n",
              "         2.,  2.,  7.,  4.,  3.,  3.,  3.,  2.,  0.,  0.,  3.,  3.,  4.,\n",
              "         2.,  0.,  1.,  5.,  2.,  4.,  1.,  2.,  3.,  2.,  2.,  3.,  3.,\n",
              "         1.,  1.,  2.,  5.,  3.,  4.,  5., 10.,  0.,  4.,  5.,  4.,  2.,\n",
              "         3.,  4.,  4.,  2.,  4.,  5.,  1.,  1.,  8.,  4.,  3.,  1.,  4.,\n",
              "         3.,  2.,  4.,  7.,  3.,  6.,  2.,  3.,  2.,  4.,  6.,  5.,  3.,\n",
              "         5.,  4.,  6.,  8.,  4.,  3.,  8.,  3.,  5.,  7.,  1.,  2.,  6.,\n",
              "         5.,  5.,  5.,  4.,  3.,  6.,  6.,  5.,  3.,  5.,  5.,  6.,  4.,\n",
              "         4., 11.,  5.,  7.,  5.,  5.,  2.,  7.,  3.,  9.,  4.,  7.,  7.,\n",
              "         4.,  7.,  8.,  6.,  5.,  4.,  5.,  3.,  5.,  5.,  4.,  6.,  5.,\n",
              "         7.,  3.,  9.,  3.,  3.,  6.,  3.,  5.,  2.,  4.,  5.,  3.,  6.,\n",
              "         2.,  6.,  3., 12.,  1.,  5.,  7.,  5.,  5.,  8.,  3.,  2.,  4.,\n",
              "         4.,  7.,  5.,  8.,  7.,  2.,  4.,  6.,  2.,  9.,  5.,  8.,  4.,\n",
              "         4.,  5.,  3.,  4.,  4.,  4.,  2.,  3.,  0.,  3.,  4.,  4.,  2.,\n",
              "         1.,  2.,  1.,  4.,  0.,  2.,  2.,  3.,  1.,  2.,  1.,  1.,  3.,\n",
              "         3.,  4.,  4.,  5.,  2.,  5.,  6.,  3.,  3.,  4.,  4.,  5.,  3.,\n",
              "         1.,  2.,  2.,  4.,  1.,  3.,  2.,  1.,  0.,  4.,  1.,  4.,  3.,\n",
              "         1.,  2.,  2.,  3.,  1.,  3.,  2.,  3.,  3.,  3.,  4.,  1.,  1.,\n",
              "         0.,  1.,  3.,  3.,  1.,  0.,  0.,  1.,  1.,  2.,  1.,  1.,  2.,\n",
              "         1.,  2.,  1.,  2.,  1.,  0.,  0.,  1.,  1.,  1.,  1.,  0.,  1.,\n",
              "         0.,  1.,  0.,  1.,  2.,  3.,  0.,  1.,  1.,  0.,  0.,  2.,  0.,\n",
              "         1.,  1.,  2.,  1.,  1.,  1.,  0.,  0.,  2.,  1.,  0.,  0.,  0.,\n",
              "         0.,  0.,  1.,  1.,  1.,  0.,  0.,  0.,  0.,  1.,  0.,  0.,  1.,\n",
              "         0.,  0.,  0.,  0.,  0.,  0.,  0.,  0.,  2.,  0.,  0.,  0.,  0.,\n",
              "         0.,  0.,  0.,  0.,  0.,  0.,  1.,  0.,  0.,  0.,  0.,  0.,  0.,\n",
              "         0.,  2.,  0.,  0.,  0.,  0.,  0.,  0.,  0.,  0.,  0.,  0.,  0.,\n",
              "         0.,  0.,  0.,  0.,  0.,  0.,  0.,  0.,  0.,  0.,  0.,  0.,  0.,\n",
              "         0.,  0.,  0.,  0.,  0.,  1.]),\n",
              " array([1.69313915, 1.70593835, 1.71873756, 1.73153676, 1.74433596,\n",
              "        1.75713516, 1.76993437, 1.78273357, 1.79553277, 1.80833198,\n",
              "        1.82113118, 1.83393038, 1.84672959, 1.85952879, 1.87232799,\n",
              "        1.8851272 , 1.8979264 , 1.9107256 , 1.92352481, 1.93632401,\n",
              "        1.94912321, 1.96192242, 1.97472162, 1.98752082, 2.00032003,\n",
              "        2.01311923, 2.02591843, 2.03871763, 2.05151684, 2.06431604,\n",
              "        2.07711524, 2.08991445, 2.10271365, 2.11551285, 2.12831206,\n",
              "        2.14111126, 2.15391046, 2.16670967, 2.17950887, 2.19230807,\n",
              "        2.20510728, 2.21790648, 2.23070568, 2.24350489, 2.25630409,\n",
              "        2.26910329, 2.2819025 , 2.2947017 , 2.3075009 , 2.3203001 ,\n",
              "        2.33309931, 2.34589851, 2.35869771, 2.37149692, 2.38429612,\n",
              "        2.39709532, 2.40989453, 2.42269373, 2.43549293, 2.44829214,\n",
              "        2.46109134, 2.47389054, 2.48668975, 2.49948895, 2.51228815,\n",
              "        2.52508736, 2.53788656, 2.55068576, 2.56348497, 2.57628417,\n",
              "        2.58908337, 2.60188257, 2.61468178, 2.62748098, 2.64028018,\n",
              "        2.65307939, 2.66587859, 2.67867779, 2.691477  , 2.7042762 ,\n",
              "        2.7170754 , 2.72987461, 2.74267381, 2.75547301, 2.76827222,\n",
              "        2.78107142, 2.79387062, 2.80666983, 2.81946903, 2.83226823,\n",
              "        2.84506744, 2.85786664, 2.87066584, 2.88346504, 2.89626425,\n",
              "        2.90906345, 2.92186265, 2.93466186, 2.94746106, 2.96026026,\n",
              "        2.97305947, 2.98585867, 2.99865787, 3.01145708, 3.02425628,\n",
              "        3.03705548, 3.04985469, 3.06265389, 3.07545309, 3.0882523 ,\n",
              "        3.1010515 , 3.1138507 , 3.12664991, 3.13944911, 3.15224831,\n",
              "        3.16504751, 3.17784672, 3.19064592, 3.20344512, 3.21624433,\n",
              "        3.22904353, 3.24184273, 3.25464194, 3.26744114, 3.28024034,\n",
              "        3.29303955, 3.30583875, 3.31863795, 3.33143716, 3.34423636,\n",
              "        3.35703556, 3.36983477, 3.38263397, 3.39543317, 3.40823238,\n",
              "        3.42103158, 3.43383078, 3.44662998, 3.45942919, 3.47222839,\n",
              "        3.48502759, 3.4978268 , 3.510626  , 3.5234252 , 3.53622441,\n",
              "        3.54902361, 3.56182281, 3.57462202, 3.58742122, 3.60022042,\n",
              "        3.61301963, 3.62581883, 3.63861803, 3.65141724, 3.66421644,\n",
              "        3.67701564, 3.68981484, 3.70261405, 3.71541325, 3.72821245,\n",
              "        3.74101166, 3.75381086, 3.76661006, 3.77940927, 3.79220847,\n",
              "        3.80500767, 3.81780688, 3.83060608, 3.84340528, 3.85620449,\n",
              "        3.86900369, 3.88180289, 3.8946021 , 3.9074013 , 3.9202005 ,\n",
              "        3.93299971, 3.94579891, 3.95859811, 3.97139731, 3.98419652,\n",
              "        3.99699572, 4.00979492, 4.02259413, 4.03539333, 4.04819253,\n",
              "        4.06099174, 4.07379094, 4.08659014, 4.09938935, 4.11218855,\n",
              "        4.12498775, 4.13778696, 4.15058616, 4.16338536, 4.17618457,\n",
              "        4.18898377, 4.20178297, 4.21458218, 4.22738138, 4.24018058,\n",
              "        4.25297978, 4.26577899, 4.27857819, 4.29137739, 4.3041766 ,\n",
              "        4.3169758 , 4.329775  , 4.34257421, 4.35537341, 4.36817261,\n",
              "        4.38097182, 4.39377102, 4.40657022, 4.41936943, 4.43216863,\n",
              "        4.44496783, 4.45776704, 4.47056624, 4.48336544, 4.49616465,\n",
              "        4.50896385, 4.52176305, 4.53456225, 4.54736146, 4.56016066,\n",
              "        4.57295986, 4.58575907, 4.59855827, 4.61135747, 4.62415668,\n",
              "        4.63695588, 4.64975508, 4.66255429, 4.67535349, 4.68815269,\n",
              "        4.7009519 , 4.7137511 , 4.7265503 , 4.73934951, 4.75214871,\n",
              "        4.76494791, 4.77774712, 4.79054632, 4.80334552, 4.81614472,\n",
              "        4.82894393, 4.84174313, 4.85454233, 4.86734154, 4.88014074,\n",
              "        4.89293994, 4.90573915, 4.91853835, 4.93133755, 4.94413676,\n",
              "        4.95693596, 4.96973516, 4.98253437, 4.99533357, 5.00813277,\n",
              "        5.02093198, 5.03373118, 5.04653038, 5.05932959, 5.07212879,\n",
              "        5.08492799, 5.09772719, 5.1105264 , 5.1233256 , 5.1361248 ,\n",
              "        5.14892401, 5.16172321, 5.17452241, 5.18732162, 5.20012082,\n",
              "        5.21292002, 5.22571923, 5.23851843, 5.25131763, 5.26411684,\n",
              "        5.27691604, 5.28971524, 5.30251445, 5.31531365, 5.32811285,\n",
              "        5.34091206, 5.35371126, 5.36651046, 5.37930966, 5.39210887,\n",
              "        5.40490807, 5.41770727, 5.43050648, 5.44330568, 5.45610488,\n",
              "        5.46890409, 5.48170329, 5.49450249, 5.5073017 , 5.5201009 ,\n",
              "        5.5329001 , 5.54569931, 5.55849851, 5.57129771, 5.58409692,\n",
              "        5.59689612, 5.60969532, 5.62249453, 5.63529373, 5.64809293,\n",
              "        5.66089213, 5.67369134, 5.68649054, 5.69928974, 5.71208895,\n",
              "        5.72488815, 5.73768735, 5.75048656, 5.76328576, 5.77608496,\n",
              "        5.78888417, 5.80168337, 5.81448257, 5.82728178, 5.84008098,\n",
              "        5.85288018, 5.86567939, 5.87847859, 5.89127779, 5.904077  ,\n",
              "        5.9168762 , 5.9296754 , 5.9424746 , 5.95527381, 5.96807301,\n",
              "        5.98087221, 5.99367142, 6.00647062, 6.01926982, 6.03206903,\n",
              "        6.04486823, 6.05766743, 6.07046664, 6.08326584, 6.09606504,\n",
              "        6.10886425, 6.12166345, 6.13446265, 6.14726186, 6.16006106,\n",
              "        6.17286026, 6.18565947, 6.19845867, 6.21125787, 6.22405707,\n",
              "        6.23685628, 6.24965548, 6.26245468, 6.27525389, 6.28805309,\n",
              "        6.30085229, 6.3136515 , 6.3264507 , 6.3392499 , 6.35204911,\n",
              "        6.36484831, 6.37764751, 6.39044672, 6.40324592, 6.41604512,\n",
              "        6.42884433, 6.44164353, 6.45444273, 6.46724194, 6.48004114,\n",
              "        6.49284034, 6.50563954, 6.51843875, 6.53123795, 6.54403715,\n",
              "        6.55683636, 6.56963556, 6.58243476, 6.59523397, 6.60803317,\n",
              "        6.62083237, 6.63363158, 6.64643078, 6.65922998, 6.67202919,\n",
              "        6.68482839, 6.69762759, 6.7104268 , 6.723226  , 6.7360252 ,\n",
              "        6.74882441, 6.76162361, 6.77442281, 6.78722201, 6.80002122,\n",
              "        6.81282042, 6.82561962, 6.83841883, 6.85121803, 6.86401723,\n",
              "        6.87681644, 6.88961564, 6.90241484, 6.91521405, 6.92801325,\n",
              "        6.94081245, 6.95361166, 6.96641086, 6.97921006, 6.99200927,\n",
              "        7.00480847, 7.01760767, 7.03040688, 7.04320608, 7.05600528,\n",
              "        7.06880448, 7.08160369, 7.09440289, 7.10720209, 7.1200013 ,\n",
              "        7.1328005 , 7.1455997 , 7.15839891, 7.17119811, 7.18399731,\n",
              "        7.19679652, 7.20959572, 7.22239492, 7.23519413, 7.24799333,\n",
              "        7.26079253, 7.27359174, 7.28639094, 7.29919014, 7.31198934,\n",
              "        7.32478855, 7.33758775, 7.35038695, 7.36318616, 7.37598536,\n",
              "        7.38878456, 7.40158377, 7.41438297, 7.42718217, 7.43998138,\n",
              "        7.45278058, 7.46557978, 7.47837899, 7.49117819, 7.50397739,\n",
              "        7.5167766 , 7.5295758 , 7.542375  , 7.55517421, 7.56797341,\n",
              "        7.58077261, 7.59357181, 7.60637102, 7.61917022, 7.63196942,\n",
              "        7.64476863, 7.65756783, 7.67036703, 7.68316624, 7.69596544,\n",
              "        7.70876464, 7.72156385, 7.73436305, 7.74716225, 7.75996146,\n",
              "        7.77276066, 7.78555986, 7.79835907, 7.81115827, 7.82395747,\n",
              "        7.83675668, 7.84955588, 7.86235508, 7.87515428, 7.88795349,\n",
              "        7.90075269, 7.91355189, 7.9263511 , 7.9391503 , 7.9519495 ,\n",
              "        7.96474871, 7.97754791, 7.99034711, 8.00314632, 8.01594552,\n",
              "        8.02874472, 8.04154393, 8.05434313, 8.06714233, 8.07994154,\n",
              "        8.09274074]),\n",
              " <a list of 500 Patch objects>)"
            ]
          },
          "metadata": {},
          "execution_count": 24
        },
        {
          "output_type": "display_data",
          "data": {
            "image/png": "[encoded data removed]",
            "text/plain": [
              "<Figure size 720x720 with 1 Axes>"
            ]
          },
          "metadata": {
            "needs_background": "light"
          }
        }
      ]
    },
    {
      "cell_type": "markdown",
      "metadata": {
        "id": "zWwTMGsM8ofg"
      },
      "source": [
        "**Solution 21**"
      ]
    },
    {
      "cell_type": "code",
      "metadata": {
        "id": "8ZJ9gB9W5d3A",
        "colab": {
          "base_uri": "https://localhost:8080/"
        },
        "outputId": "67391505-49c6-4027-9fd7-b19705989aa8"
      },
      "source": [
        "\n",
        "population=np.random.rand(100)\n",
        "print(population)\n",
        "print(np.mean(population))\n",
        "print(np.var(population))"
      ],
      "execution_count": null,
      "outputs": [
        {
          "output_type": "stream",
          "name": "stdout",
          "text": [
            "[0.35884603 0.65375147 0.56659141 0.03410642 0.92069445 0.3800058\n",
            " 0.37940194 0.84635588 0.4842779  0.45106879 0.63985672 0.21177129\n",
            " 0.52830069 0.66856852 0.5387767  0.70876114 0.59853649 0.84140553\n",
            " 0.87917076 0.0978392  0.25859399 0.05465616 0.22889187 0.72091671\n",
            " 0.07854524 0.15511951 0.77076833 0.44432518 0.29012074 0.6439847\n",
            " 0.8869384  0.03760544 0.69309434 0.66855072 0.8680121  0.19637204\n",
            " 0.71279263 0.10390111 0.05662636 0.68079603 0.02263471 0.04429909\n",
            " 0.03695302 0.46541051 0.75786944 0.99219922 0.2266077  0.79238023\n",
            " 0.79524586 0.87224271 0.31425599 0.13292506 0.79670158 0.56746334\n",
            " 0.41465393 0.05864168 0.00655688 0.31602346 0.27145879 0.47572363\n",
            " 0.92361186 0.41668449 0.28788387 0.84524653 0.30694987 0.91558402\n",
            " 0.86341184 0.63881919 0.74767519 0.1573228  0.60287427 0.32703728\n",
            " 0.48867805 0.22538546 0.90195768 0.41153378 0.47673405 0.72140275\n",
            " 0.12219681 0.50306505 0.81314766 0.67734186 0.32165073 0.7106654\n",
            " 0.9344396  0.89477624 0.74223479 0.26610117 0.37248741 0.55841792\n",
            " 0.3810489  0.45574686 0.79352594 0.10394013 0.97299658 0.70461907\n",
            " 0.86472787 0.78168005 0.43218371 0.94251114]\n",
            "0.5130724344989042\n",
            "0.08219362747620382\n"
          ]
        }
      ]
    },
    {
      "cell_type": "code",
      "metadata": {
        "id": "BDrkWtjD5dt9",
        "colab": {
          "base_uri": "https://localhost:8080/"
        },
        "outputId": "aa668515-f83c-46d2-98f7-2d2feff9e055"
      },
      "source": [
        "\n",
        "n=int(input(\"Enter the size of sample you want to draw from the population: \"))\n",
        "m=int(input(\"Enter the number of samples you want to draw from the population: \"))\n",
        "mean_sample=[]\n",
        "for i in range(m):\n",
        "  sample_data=random.sample(tuple(population),n)\n",
        "  mean=np.mean(sample_data)\n",
        "  mean_sample.append(mean)\n",
        "print(np.mean(mean_sample))"
      ],
      "execution_count": null,
      "outputs": [
        {
          "output_type": "stream",
          "name": "stdout",
          "text": [
            "Enter the size of sample you want to draw from the population: 35\n",
            "Enter the number of samples you want to draw from the population: 2\n",
            "0.4983269502605907\n"
          ]
        }
      ]
    },
    {
      "cell_type": "markdown",
      "source": [
        "**Solution 22**"
      ],
      "metadata": {
        "id": "-pFzIaUVfXgq"
      }
    },
    {
      "cell_type": "code",
      "source": [
        "mu=int(input(\"Enter the mean of the normal population: \"))\n",
        "sigma=int(input(\"Enter the standard deviation of the normal population: \"))\n",
        "population=np.random.normal(mu,sigma,1000)"
      ],
      "metadata": {
        "colab": {
          "base_uri": "https://localhost:8080/"
        },
        "id": "gt5NUcS3fXJ7",
        "outputId": "e98f4d70-7c2f-4900-ea04-e902b729c59e"
      },
      "execution_count": null,
      "outputs": [
        {
          "name": "stdout",
          "output_type": "stream",
          "text": [
            "Enter the mean of the normal population: 5\n",
            "Enter the standard deviation of the normal population: 1\n"
          ]
        }
      ]
    },
    {
      "cell_type": "code",
      "source": [
        "n=int(input(\"Enter the size of sample you want to draw from the population: \"))\n",
        "m=int(input(\"Enter the number of samples you want to draw from the population: \"))\n",
        "mean_sample=[]\n",
        "for i in range(m):\n",
        "  sample_data=random.sample(tuple(population),n)\n",
        "  mean=np.mean(sample_data)\n",
        "  mean_sample.append(mean)\n",
        "print(np.mean(mean_sample))"
      ],
      "metadata": {
        "colab": {
          "base_uri": "https://localhost:8080/"
        },
        "id": "7LHMZ-QvfXGW",
        "outputId": "f6d34767-8a7e-4df0-9b95-faaf60e5fabc"
      },
      "execution_count": null,
      "outputs": [
        {
          "output_type": "stream",
          "name": "stdout",
          "text": [
            "Enter the size of sample you want to draw from the population: 35\n",
            "Enter the number of samples you want to draw from the population: 2\n",
            "5.0344201038048855\n"
          ]
        }
      ]
    },
    {
      "cell_type": "code",
      "source": [
        "list_smokers = []\n",
        "list_nonsmokers = []\n",
        "j=0\n",
        "for i in range(0,395):\n",
        "  list_smokers.append(1)\n",
        "for i in range(0,605):\n",
        "  list_nonsmokers.append(0)\n",
        "pop = list_smokers+list_nonsmokers\n",
        "fig,ax = plt.subplots(figsize=(10,7))\n",
        "ax.hist(pop,bins=3)\n",
        "n = int(input(\"Enter size of sample:\"))\n",
        "m = int(input(\"Enter no of sample:\"))\n",
        "sample_prop = []\n",
        "for i in range(m):\n",
        "  sample_data = random.sample(tuple(pop),n)\n",
        "  proportion = sum(sample_data)/n\n",
        "  sample_prop.append(proportion)\n",
        "fig,ax = plt.subplots(figsize=(10,7))\n",
        "ax.hist(sample_prop,bins=3)"
      ],
      "metadata": {
        "colab": {
          "base_uri": "https://localhost:8080/",
          "height": 926
        },
        "id": "zNEwRfDLfXDd",
        "outputId": "c9631c6f-75d3-48c2-dc3c-89f9e01f8399"
      },
      "execution_count": null,
      "outputs": [
        {
          "name": "stdout",
          "output_type": "stream",
          "text": [
            "Enter size of sample:35\n",
            "Enter no of sample:2\n"
          ]
        },
        {
          "output_type": "execute_result",
          "data": {
            "text/plain": [
              "(array([1., 0., 1.]),\n",
              " array([0.37142857, 0.38095238, 0.39047619, 0.4       ]),\n",
              " <a list of 3 Patch objects>)"
            ]
          },
          "metadata": {},
          "execution_count": 50
        },
        {
          "output_type": "display_data",
          "data": {
            "image/png": "[encoded data removed]",
            "text/plain": [
              "<Figure size 720x504 with 1 Axes>"
            ]
          },
          "metadata": {
            "needs_background": "light"
          }
        },
        {
          "output_type": "display_data",
          "data": {
            "image/png": "[encoded data removed]",
            "text/plain": [
              "<Figure size 720x504 with 1 Axes>"
            ]
          },
          "metadata": {
            "needs_background": "light"
          }
        }
      ]
    },
    {
      "cell_type": "code",
      "source": [],
      "metadata": {
        "id": "SB95xXxU0R9u"
      },
      "execution_count": null,
      "outputs": []
    }
  ]
}