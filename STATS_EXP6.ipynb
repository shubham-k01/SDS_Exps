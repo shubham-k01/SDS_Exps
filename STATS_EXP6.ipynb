{
  "nbformat": 4,
  "nbformat_minor": 0,
  "metadata": {
    "colab": {
      "provenance": [],
      "collapsed_sections": [],
      "authorship_tag": "ABX9TyOY4zelA1Ql2r+S0uOsLp5d",
      "include_colab_link": true
    },
    "kernelspec": {
      "name": "python3",
      "display_name": "Python 3"
    },
    "language_info": {
      "name": "python"
    }
  },
  "cells": [
    {
      "cell_type": "markdown",
      "metadata": {
        "id": "view-in-github",
        "colab_type": "text"
      },
      "source": [
        "<a href=\"https://colab.research.google.com/github/shubham-k01/SDS_Exps/blob/main/STATS_EXP6.ipynb\" target=\"_parent\"><img src=\"https://colab.research.google.com/assets/colab-badge.svg\" alt=\"Open In Colab\"/></a>"
      ]
    },
    {
      "cell_type": "markdown",
      "source": [
        "**Question 1: Out of 500 students, 410 students pass the exam. Test the hypothesis that more than 80% of students pass the exam. Level of significance = 5%**"
      ],
      "metadata": {
        "id": "aFbI3gCYLvZ5"
      }
    },
    {
      "cell_type": "code",
      "execution_count": null,
      "metadata": {
        "id": "NvOkDBE3Lre6",
        "colab": {
          "base_uri": "https://localhost:8080/"
        },
        "outputId": "50f59952-381f-4e06-f8f5-7bdb2ab82a69"
      },
      "outputs": [
        {
          "output_type": "stream",
          "name": "stdout",
          "text": [
            "z_stat =  1.1640504929492914 p_value =  0.12220177493249235\n",
            "z_cri =  1.6448536269514722\n"
          ]
        }
      ],
      "source": [
        "# Ho : P=0.8 ,Ha: P>0.8\n",
        "from scipy.stats import norm\n",
        "p_p = 0.8\n",
        "sample_success=410\n",
        "sample_size=500\n",
        "alpha=0.05\n",
        "from statsmodels.stats.proportion import proportions_ztest\n",
        "stat,p_value=proportions_ztest(count=sample_success,nobs=sample_size,value=p_p,alternative=\"larger\")\n",
        "print(\"z_stat = \",stat,\"p_value = \",p_value)\n",
        "z_cri=norm.ppf(0.95)\n",
        "print(\"z_cri = \",z_cri)"
      ]
    },
    {
      "cell_type": "code",
      "source": [
        "import numpy as np\n",
        "s_p=sample_success/sample_size\n",
        "SE=np.sqrt(p_p*(1-p_p)/sample_size)\n",
        "z=(s_p-p_p)/SE\n",
        "print(\"z-stat= \",z)\n",
        "z_cri=norm.ppf(0.95)\n",
        "print(\"z-cri= \",z_cri)\n",
        "p=norm.sf(z)\n",
        "print(\"p-value= \",p)\n",
        "if p>alpha:\n",
        "  print(\"Test is not significant . Fail to reject null hypothesis.\")\n",
        "else:\n",
        "  print(\"Test is significant . Reject null hypothesis.\")\n"
      ],
      "metadata": {
        "id": "SfnHzPa6wfFS",
        "colab": {
          "base_uri": "https://localhost:8080/"
        },
        "outputId": "6d0e5b5f-0b14-4908-a24d-a4c62687f987"
      },
      "execution_count": null,
      "outputs": [
        {
          "output_type": "stream",
          "name": "stdout",
          "text": [
            "z-stat=  1.1180339887498898\n",
            "z-cri=  1.6448536269514722\n",
            "p-value=  0.1317762386414874\n",
            "Test is not significant . Fail to reject null hypothesis.\n"
          ]
        }
      ]
    },
    {
      "cell_type": "markdown",
      "source": [
        "**Question 2: A random sample of 35 individuals selected from a certain population showed that 6 of them are left-handed. Find 95% and 99% confidence limits for the proportions of left-handed person in the population.**"
      ],
      "metadata": {
        "id": "h9qQpkX1OoyA"
      }
    },
    {
      "cell_type": "code",
      "source": [
        "import numpy as np\n",
        "s_p=6/35\n",
        "n=35\n",
        "SE=np.sqrt(s_p*(1-s_p)/n)\n",
        "z=norm.ppf(0.975)\n",
        "L=s_p-z*SE\n",
        "U=s_p+z*SE\n",
        "CI=(L,U)\n",
        "print(\"95% Confidence Interval = \",np.round(CI,4))\n",
        "z=norm.ppf(0.995)\n",
        "L=s_p-z*SE\n",
        "U=s_p+z*SE\n",
        "CI=(L,U)\n",
        "print(\"99% Confidence Interval = \",np.round(CI,4))"
      ],
      "metadata": {
        "colab": {
          "base_uri": "https://localhost:8080/"
        },
        "id": "ud86DuRpOqyK",
        "outputId": "9c38be65-b3b6-4fc9-c23a-9a7bd0879bce"
      },
      "execution_count": null,
      "outputs": [
        {
          "output_type": "stream",
          "name": "stdout",
          "text": [
            "95% Confidence Interval =  [0.0466 0.2963]\n",
            "99% Confidence Interval =  [0.0073 0.3355]\n"
          ]
        }
      ]
    },
    {
      "cell_type": "markdown",
      "source": [
        "**Question 3: The manufacturer of patent medicine claimed that it was 90℅ effective in relieving allergy for a period of 8 hours. In a sample of 200 people who had the allergy, the medicine provided relief for 160 people. Determine whether manufacturer's claim is legitimate.**\n",
        "\n"
      ],
      "metadata": {
        "id": "jPdITGhTxJXH"
      }
    },
    {
      "cell_type": "code",
      "source": [
        "from scipy.stats import norm\n",
        "# Ho: P=0.9 ,Ha: P!=0.9\n",
        "p_p=0.9\n",
        "sample_success=160\n",
        "sample_size=200\n",
        "alpha=0.05\n",
        "s_p=sample_success/sample_size\n",
        "SE=np.sqrt(p_p*(1-p_p)/sample_size)\n",
        "z=(s_p-p_p)/SE\n",
        "print(\"z-stat= \",z)\n",
        "z_cri=norm.ppf(0.025)\n",
        "print(\"z-cri= \",z_cri)\n",
        "p=2*norm.cdf(z)\n",
        "print(\"p-value= \",p)\n",
        "if p>alpha:\n",
        "  print(\"Test is not significant . Fail to reject null hypothesis.\")\n",
        "else:\n",
        "  print(\"Test is significant . Reject null hypothesis.\")"
      ],
      "metadata": {
        "id": "qxi7b3XkP6Hg",
        "colab": {
          "base_uri": "https://localhost:8080/"
        },
        "outputId": "ce1dadd5-2b70-4a34-b35d-eaa9cf1f7912"
      },
      "execution_count": null,
      "outputs": [
        {
          "output_type": "stream",
          "name": "stdout",
          "text": [
            "z-stat=  -4.714045207910316\n",
            "z-cri=  -1.9599639845400545\n",
            "p-value=  2.4284674729758487e-06\n",
            "Test is significant . Reject null hypothesis.\n"
          ]
        }
      ]
    },
    {
      "cell_type": "markdown",
      "source": [
        "**Question 4: From one class of 500 students, 410 students passed. From other class of 400 students, 379 students passed. Test the hypothesis that both samples have same proportions. Level of significance = 0.025**\n",
        "\n"
      ],
      "metadata": {
        "id": "IjJoVuLUzF_K"
      }
    },
    {
      "cell_type": "code",
      "source": [
        "#Ho: P1=P2 Ha: P!=P2\n",
        "alpha=0.025\n",
        "success=np.array([410,379])\n",
        "sample=np.array([500,400])\n",
        "stat,p_value=proportions_ztest(count=success,nobs=sample,alternative='two-sided')\n",
        "print(\"z_stat: %0.3f ,p_value: %0.15f\"%(stat,p_value))\n",
        "if p_value>alpha:\n",
        "  print(\"Test is not significant , fail to reject null hypothesis\")\n",
        "else:\n",
        "  print(\"Test is significant , Reject null hypothesis\")"
      ],
      "metadata": {
        "colab": {
          "base_uri": "https://localhost:8080/"
        },
        "id": "laN-uwcOzFqj",
        "outputId": "524d5264-9759-4791-fbc6-25de3efb5b24"
      },
      "execution_count": null,
      "outputs": [
        {
          "output_type": "stream",
          "name": "stdout",
          "text": [
            "z_stat: -5.780 ,p_value: 0.000000007459074\n",
            "Test is significant , Reject null hypothesis\n"
          ]
        }
      ]
    },
    {
      "cell_type": "markdown",
      "source": [
        "**Question 5: Two groups, A and B, each consists of 100 people who have a disease. A serum is given to group A but not group B; otherwise both the groups are treated identically. It's found that in group A and group B, 75 and 65 people respectively, recover from the disease. Test the hypothesis that serum helps to cure the disease using a level of significance (a) 0.01 (b) 0.1.**"
      ],
      "metadata": {
        "id": "hVepflgi1CHh"
      }
    },
    {
      "cell_type": "code",
      "source": [
        "#Ho: P1=P2 Ha: P1>P2\n",
        "alpha=0.01\n",
        "success=np.array([75,65])\n",
        "sample=np.array([100,100])\n",
        "stat,p_value=proportions_ztest(count=success,nobs=sample,alternative='larger')\n",
        "print(\"z_stat: %0.3f ,p_value: %0.15f\"%(stat,p_value))\n",
        "if p_value>alpha:\n",
        "  print(\"Test is not significant at 0.01 level of significance .Fail to reject null hypothesis\")\n",
        "else:\n",
        "  print(\"Test is significant at 0.01 level of significance .Reject null hypothesis\")"
      ],
      "metadata": {
        "colab": {
          "base_uri": "https://localhost:8080/"
        },
        "id": "JYOPch7SzFnB",
        "outputId": "c621edc1-0029-478e-f4dd-c0ec3ff0aaaf"
      },
      "execution_count": null,
      "outputs": [
        {
          "output_type": "stream",
          "name": "stdout",
          "text": [
            "z_stat: 1.543 ,p_value: 0.061411324050696\n",
            "Test is not significant at 0.01 level of significance .Fail to reject null hypothesis\n"
          ]
        }
      ]
    },
    {
      "cell_type": "code",
      "source": [
        "#Ho: P1=P2 Ha: P1>P2\n",
        "alpha=0.01\n",
        "success=np.array([75,65])\n",
        "sample=np.array([100,100])\n",
        "stat,p_value=proportions_ztest(count=success,nobs=sample,alternative='larger')\n",
        "print(\"z_stat: %0.3f ,p_value: %0.15f\"%(stat,p_value))\n",
        "if p_value>alpha:\n",
        "  print(\"Test is not significant at 0.1 level of significance .Fail to reject null hypothesis\")\n",
        "else:\n",
        "  print(\"Test is significant at 0.1 level of significance .Reject null hypothesis\")"
      ],
      "metadata": {
        "id": "XlGAqdCtzFkr",
        "colab": {
          "base_uri": "https://localhost:8080/"
        },
        "outputId": "95eaf280-5474-42c3-df5f-bca6f34bbb46"
      },
      "execution_count": null,
      "outputs": [
        {
          "output_type": "stream",
          "name": "stdout",
          "text": [
            "z_stat: 1.543 ,p_value: 0.061411324050696\n",
            "Test is not significant at 0.1 level of significance .Fail to reject null hypothesis\n"
          ]
        }
      ]
    },
    {
      "cell_type": "markdown",
      "source": [
        "**Question 6: Check the hypothesis that blood pressure before treatment has a mean value of 156 for the given dataset.**"
      ],
      "metadata": {
        "id": "kWLfvKQxpgx6"
      }
    },
    {
      "cell_type": "code",
      "source": [
        "import pandas as pd\n",
        "df=pd.read_csv(\"/content/blood_pressure.csv\")\n",
        "df.head()"
      ],
      "metadata": {
        "id": "zFzCYEUtzFiJ",
        "colab": {
          "base_uri": "https://localhost:8080/",
          "height": 206
        },
        "outputId": "1cd6fc3c-3a93-4f7a-b9fc-27212899a170"
      },
      "execution_count": null,
      "outputs": [
        {
          "output_type": "execute_result",
          "data": {
            "text/html": [
              "\n",
              "  <div id=\"df-61c70462-6db9-45cd-9432-4dfcca50e913\">\n",
              "    <div class=\"colab-df-container\">\n",
              "      <div>\n",
              "<style scoped>\n",
              "    .dataframe tbody tr th:only-of-type {\n",
              "        vertical-align: middle;\n",
              "    }\n",
              "\n",
              "    .dataframe tbody tr th {\n",
              "        vertical-align: top;\n",
              "    }\n",
              "\n",
              "    .dataframe thead th {\n",
              "        text-align: right;\n",
              "    }\n",
              "</style>\n",
              "<table border=\"1\" class=\"dataframe\">\n",
              "  <thead>\n",
              "    <tr style=\"text-align: right;\">\n",
              "      <th></th>\n",
              "      <th>patient</th>\n",
              "      <th>sex</th>\n",
              "      <th>agegrp</th>\n",
              "      <th>bp_before</th>\n",
              "      <th>bp_after</th>\n",
              "    </tr>\n",
              "  </thead>\n",
              "  <tbody>\n",
              "    <tr>\n",
              "      <th>0</th>\n",
              "      <td>1</td>\n",
              "      <td>Male</td>\n",
              "      <td>30-45</td>\n",
              "      <td>143</td>\n",
              "      <td>153</td>\n",
              "    </tr>\n",
              "    <tr>\n",
              "      <th>1</th>\n",
              "      <td>2</td>\n",
              "      <td>Male</td>\n",
              "      <td>30-45</td>\n",
              "      <td>163</td>\n",
              "      <td>170</td>\n",
              "    </tr>\n",
              "    <tr>\n",
              "      <th>2</th>\n",
              "      <td>3</td>\n",
              "      <td>Male</td>\n",
              "      <td>30-45</td>\n",
              "      <td>153</td>\n",
              "      <td>168</td>\n",
              "    </tr>\n",
              "    <tr>\n",
              "      <th>3</th>\n",
              "      <td>4</td>\n",
              "      <td>Male</td>\n",
              "      <td>30-45</td>\n",
              "      <td>153</td>\n",
              "      <td>142</td>\n",
              "    </tr>\n",
              "    <tr>\n",
              "      <th>4</th>\n",
              "      <td>5</td>\n",
              "      <td>Male</td>\n",
              "      <td>30-45</td>\n",
              "      <td>146</td>\n",
              "      <td>141</td>\n",
              "    </tr>\n",
              "  </tbody>\n",
              "</table>\n",
              "</div>\n",
              "      <button class=\"colab-df-convert\" onclick=\"convertToInteractive('df-61c70462-6db9-45cd-9432-4dfcca50e913')\"\n",
              "              title=\"Convert this dataframe to an interactive table.\"\n",
              "              style=\"display:none;\">\n",
              "        \n",
              "  <svg xmlns=\"http://www.w3.org/2000/svg\" height=\"24px\"viewBox=\"0 0 24 24\"\n",
              "       width=\"24px\">\n",
              "    <path d=\"M0 0h24v24H0V0z\" fill=\"none\"/>\n",
              "    <path d=\"M18.56 5.44l.94 2.06.94-2.06 2.06-.94-2.06-.94-.94-2.06-.94 2.06-2.06.94zm-11 1L8.5 8.5l.94-2.06 2.06-.94-2.06-.94L8.5 2.5l-.94 2.06-2.06.94zm10 10l.94 2.06.94-2.06 2.06-.94-2.06-.94-.94-2.06-.94 2.06-2.06.94z\"/><path d=\"M17.41 7.96l-1.37-1.37c-.4-.4-.92-.59-1.43-.59-.52 0-1.04.2-1.43.59L10.3 9.45l-7.72 7.72c-.78.78-.78 2.05 0 2.83L4 21.41c.39.39.9.59 1.41.59.51 0 1.02-.2 1.41-.59l7.78-7.78 2.81-2.81c.8-.78.8-2.07 0-2.86zM5.41 20L4 18.59l7.72-7.72 1.47 1.35L5.41 20z\"/>\n",
              "  </svg>\n",
              "      </button>\n",
              "      \n",
              "  <style>\n",
              "    .colab-df-container {\n",
              "      display:flex;\n",
              "      flex-wrap:wrap;\n",
              "      gap: 12px;\n",
              "    }\n",
              "\n",
              "    .colab-df-convert {\n",
              "      background-color: #E8F0FE;\n",
              "      border: none;\n",
              "      border-radius: 50%;\n",
              "      cursor: pointer;\n",
              "      display: none;\n",
              "      fill: #1967D2;\n",
              "      height: 32px;\n",
              "      padding: 0 0 0 0;\n",
              "      width: 32px;\n",
              "    }\n",
              "\n",
              "    .colab-df-convert:hover {\n",
              "      background-color: #E2EBFA;\n",
              "      box-shadow: 0px 1px 2px rgba(60, 64, 67, 0.3), 0px 1px 3px 1px rgba(60, 64, 67, 0.15);\n",
              "      fill: #174EA6;\n",
              "    }\n",
              "\n",
              "    [theme=dark] .colab-df-convert {\n",
              "      background-color: #3B4455;\n",
              "      fill: #D2E3FC;\n",
              "    }\n",
              "\n",
              "    [theme=dark] .colab-df-convert:hover {\n",
              "      background-color: #434B5C;\n",
              "      box-shadow: 0px 1px 3px 1px rgba(0, 0, 0, 0.15);\n",
              "      filter: drop-shadow(0px 1px 2px rgba(0, 0, 0, 0.3));\n",
              "      fill: #FFFFFF;\n",
              "    }\n",
              "  </style>\n",
              "\n",
              "      <script>\n",
              "        const buttonEl =\n",
              "          document.querySelector('#df-61c70462-6db9-45cd-9432-4dfcca50e913 button.colab-df-convert');\n",
              "        buttonEl.style.display =\n",
              "          google.colab.kernel.accessAllowed ? 'block' : 'none';\n",
              "\n",
              "        async function convertToInteractive(key) {\n",
              "          const element = document.querySelector('#df-61c70462-6db9-45cd-9432-4dfcca50e913');\n",
              "          const dataTable =\n",
              "            await google.colab.kernel.invokeFunction('convertToInteractive',\n",
              "                                                     [key], {});\n",
              "          if (!dataTable) return;\n",
              "\n",
              "          const docLinkHtml = 'Like what you see? Visit the ' +\n",
              "            '<a target=\"_blank\" href=https://colab.research.google.com/notebooks/data_table.ipynb>data table notebook</a>'\n",
              "            + ' to learn more about interactive tables.';\n",
              "          element.innerHTML = '';\n",
              "          dataTable['output_type'] = 'display_data';\n",
              "          await google.colab.output.renderOutput(dataTable, element);\n",
              "          const docLink = document.createElement('div');\n",
              "          docLink.innerHTML = docLinkHtml;\n",
              "          element.appendChild(docLink);\n",
              "        }\n",
              "      </script>\n",
              "    </div>\n",
              "  </div>\n",
              "  "
            ],
            "text/plain": [
              "   patient   sex agegrp  bp_before  bp_after\n",
              "0        1  Male  30-45        143       153\n",
              "1        2  Male  30-45        163       170\n",
              "2        3  Male  30-45        153       168\n",
              "3        4  Male  30-45        153       142\n",
              "4        5  Male  30-45        146       141"
            ]
          },
          "metadata": {},
          "execution_count": 16
        }
      ]
    },
    {
      "cell_type": "code",
      "source": [
        "df.describe()"
      ],
      "metadata": {
        "id": "dyZB5yyEzFfk",
        "colab": {
          "base_uri": "https://localhost:8080/",
          "height": 300
        },
        "outputId": "104307b6-0d6a-43c8-a50d-2bf7f0f242d0"
      },
      "execution_count": null,
      "outputs": [
        {
          "output_type": "execute_result",
          "data": {
            "text/html": [
              "\n",
              "  <div id=\"df-1b2078c4-8afa-450d-a232-fea30c3fa59d\">\n",
              "    <div class=\"colab-df-container\">\n",
              "      <div>\n",
              "<style scoped>\n",
              "    .dataframe tbody tr th:only-of-type {\n",
              "        vertical-align: middle;\n",
              "    }\n",
              "\n",
              "    .dataframe tbody tr th {\n",
              "        vertical-align: top;\n",
              "    }\n",
              "\n",
              "    .dataframe thead th {\n",
              "        text-align: right;\n",
              "    }\n",
              "</style>\n",
              "<table border=\"1\" class=\"dataframe\">\n",
              "  <thead>\n",
              "    <tr style=\"text-align: right;\">\n",
              "      <th></th>\n",
              "      <th>patient</th>\n",
              "      <th>bp_before</th>\n",
              "      <th>bp_after</th>\n",
              "    </tr>\n",
              "  </thead>\n",
              "  <tbody>\n",
              "    <tr>\n",
              "      <th>count</th>\n",
              "      <td>120.000000</td>\n",
              "      <td>120.000000</td>\n",
              "      <td>120.000000</td>\n",
              "    </tr>\n",
              "    <tr>\n",
              "      <th>mean</th>\n",
              "      <td>60.500000</td>\n",
              "      <td>156.450000</td>\n",
              "      <td>151.358333</td>\n",
              "    </tr>\n",
              "    <tr>\n",
              "      <th>std</th>\n",
              "      <td>34.785054</td>\n",
              "      <td>11.389845</td>\n",
              "      <td>14.177622</td>\n",
              "    </tr>\n",
              "    <tr>\n",
              "      <th>min</th>\n",
              "      <td>1.000000</td>\n",
              "      <td>138.000000</td>\n",
              "      <td>125.000000</td>\n",
              "    </tr>\n",
              "    <tr>\n",
              "      <th>25%</th>\n",
              "      <td>30.750000</td>\n",
              "      <td>147.000000</td>\n",
              "      <td>140.750000</td>\n",
              "    </tr>\n",
              "    <tr>\n",
              "      <th>50%</th>\n",
              "      <td>60.500000</td>\n",
              "      <td>154.500000</td>\n",
              "      <td>149.500000</td>\n",
              "    </tr>\n",
              "    <tr>\n",
              "      <th>75%</th>\n",
              "      <td>90.250000</td>\n",
              "      <td>164.000000</td>\n",
              "      <td>161.000000</td>\n",
              "    </tr>\n",
              "    <tr>\n",
              "      <th>max</th>\n",
              "      <td>120.000000</td>\n",
              "      <td>185.000000</td>\n",
              "      <td>185.000000</td>\n",
              "    </tr>\n",
              "  </tbody>\n",
              "</table>\n",
              "</div>\n",
              "      <button class=\"colab-df-convert\" onclick=\"convertToInteractive('df-1b2078c4-8afa-450d-a232-fea30c3fa59d')\"\n",
              "              title=\"Convert this dataframe to an interactive table.\"\n",
              "              style=\"display:none;\">\n",
              "        \n",
              "  <svg xmlns=\"http://www.w3.org/2000/svg\" height=\"24px\"viewBox=\"0 0 24 24\"\n",
              "       width=\"24px\">\n",
              "    <path d=\"M0 0h24v24H0V0z\" fill=\"none\"/>\n",
              "    <path d=\"M18.56 5.44l.94 2.06.94-2.06 2.06-.94-2.06-.94-.94-2.06-.94 2.06-2.06.94zm-11 1L8.5 8.5l.94-2.06 2.06-.94-2.06-.94L8.5 2.5l-.94 2.06-2.06.94zm10 10l.94 2.06.94-2.06 2.06-.94-2.06-.94-.94-2.06-.94 2.06-2.06.94z\"/><path d=\"M17.41 7.96l-1.37-1.37c-.4-.4-.92-.59-1.43-.59-.52 0-1.04.2-1.43.59L10.3 9.45l-7.72 7.72c-.78.78-.78 2.05 0 2.83L4 21.41c.39.39.9.59 1.41.59.51 0 1.02-.2 1.41-.59l7.78-7.78 2.81-2.81c.8-.78.8-2.07 0-2.86zM5.41 20L4 18.59l7.72-7.72 1.47 1.35L5.41 20z\"/>\n",
              "  </svg>\n",
              "      </button>\n",
              "      \n",
              "  <style>\n",
              "    .colab-df-container {\n",
              "      display:flex;\n",
              "      flex-wrap:wrap;\n",
              "      gap: 12px;\n",
              "    }\n",
              "\n",
              "    .colab-df-convert {\n",
              "      background-color: #E8F0FE;\n",
              "      border: none;\n",
              "      border-radius: 50%;\n",
              "      cursor: pointer;\n",
              "      display: none;\n",
              "      fill: #1967D2;\n",
              "      height: 32px;\n",
              "      padding: 0 0 0 0;\n",
              "      width: 32px;\n",
              "    }\n",
              "\n",
              "    .colab-df-convert:hover {\n",
              "      background-color: #E2EBFA;\n",
              "      box-shadow: 0px 1px 2px rgba(60, 64, 67, 0.3), 0px 1px 3px 1px rgba(60, 64, 67, 0.15);\n",
              "      fill: #174EA6;\n",
              "    }\n",
              "\n",
              "    [theme=dark] .colab-df-convert {\n",
              "      background-color: #3B4455;\n",
              "      fill: #D2E3FC;\n",
              "    }\n",
              "\n",
              "    [theme=dark] .colab-df-convert:hover {\n",
              "      background-color: #434B5C;\n",
              "      box-shadow: 0px 1px 3px 1px rgba(0, 0, 0, 0.15);\n",
              "      filter: drop-shadow(0px 1px 2px rgba(0, 0, 0, 0.3));\n",
              "      fill: #FFFFFF;\n",
              "    }\n",
              "  </style>\n",
              "\n",
              "      <script>\n",
              "        const buttonEl =\n",
              "          document.querySelector('#df-1b2078c4-8afa-450d-a232-fea30c3fa59d button.colab-df-convert');\n",
              "        buttonEl.style.display =\n",
              "          google.colab.kernel.accessAllowed ? 'block' : 'none';\n",
              "\n",
              "        async function convertToInteractive(key) {\n",
              "          const element = document.querySelector('#df-1b2078c4-8afa-450d-a232-fea30c3fa59d');\n",
              "          const dataTable =\n",
              "            await google.colab.kernel.invokeFunction('convertToInteractive',\n",
              "                                                     [key], {});\n",
              "          if (!dataTable) return;\n",
              "\n",
              "          const docLinkHtml = 'Like what you see? Visit the ' +\n",
              "            '<a target=\"_blank\" href=https://colab.research.google.com/notebooks/data_table.ipynb>data table notebook</a>'\n",
              "            + ' to learn more about interactive tables.';\n",
              "          element.innerHTML = '';\n",
              "          dataTable['output_type'] = 'display_data';\n",
              "          await google.colab.output.renderOutput(dataTable, element);\n",
              "          const docLink = document.createElement('div');\n",
              "          docLink.innerHTML = docLinkHtml;\n",
              "          element.appendChild(docLink);\n",
              "        }\n",
              "      </script>\n",
              "    </div>\n",
              "  </div>\n",
              "  "
            ],
            "text/plain": [
              "          patient   bp_before    bp_after\n",
              "count  120.000000  120.000000  120.000000\n",
              "mean    60.500000  156.450000  151.358333\n",
              "std     34.785054   11.389845   14.177622\n",
              "min      1.000000  138.000000  125.000000\n",
              "25%     30.750000  147.000000  140.750000\n",
              "50%     60.500000  154.500000  149.500000\n",
              "75%     90.250000  164.000000  161.000000\n",
              "max    120.000000  185.000000  185.000000"
            ]
          },
          "metadata": {},
          "execution_count": 17
        }
      ]
    },
    {
      "cell_type": "code",
      "source": [
        "#Ho: Populaton mean for BP =156 ,Ha: Population mean for BP !=156\n",
        "alpha=0.05\n",
        "from statsmodels.stats import weightstats as stests\n",
        "z_stats, p_val= stests.ztest(df['bp_before'],x2=None,value=156,alternative='two-sided')\n",
        "print(\"z_statistic = \",z_stats,\"p value= \",p_val)\n",
        "print(\"z_critical = \", norm.ppf(0.975))\n",
        "if p_value>alpha:\n",
        "  print(\"Test is not significant at 0.05 level of significance .Fail to reject null hypothesis\")\n",
        "else:\n",
        "  print(\"Test is significant at 0.05 level of significance .Reject null hypothesis\")\n"
      ],
      "metadata": {
        "id": "0Z-GlkE1zFdA",
        "colab": {
          "base_uri": "https://localhost:8080/"
        },
        "outputId": "7a7dc3bf-cb74-4ad9-9a6d-ec7ed0e8d670"
      },
      "execution_count": null,
      "outputs": [
        {
          "output_type": "stream",
          "name": "stdout",
          "text": [
            "z_statistic =  0.432798073526164 p value=  0.6651614730255063\n",
            "z_critical =  1.959963984540054\n",
            "Test is not significant at 0.05 level of significance .Fail to reject null hypothesis\n"
          ]
        }
      ]
    },
    {
      "cell_type": "markdown",
      "source": [
        "**Question 7: Can we say that the systolic blood pressure measured on arm has mean value of 125 mmHg from the given dataset?**"
      ],
      "metadata": {
        "id": "46hZx76wsf6-"
      }
    },
    {
      "cell_type": "code",
      "source": [
        "  df=pd.read_csv('/content/systolic blood pressure.csv')\n",
        "  df.head()"
      ],
      "metadata": {
        "id": "Bdj3MhJ3zFaT",
        "colab": {
          "base_uri": "https://localhost:8080/",
          "height": 206
        },
        "outputId": "9fd003fc-4e80-4e76-be88-1ef7cd174668"
      },
      "execution_count": null,
      "outputs": [
        {
          "output_type": "execute_result",
          "data": {
            "text/html": [
              "\n",
              "  <div id=\"df-1e2c093a-24c5-4c94-938b-f4750d03b55f\">\n",
              "    <div class=\"colab-df-container\">\n",
              "      <div>\n",
              "<style scoped>\n",
              "    .dataframe tbody tr th:only-of-type {\n",
              "        vertical-align: middle;\n",
              "    }\n",
              "\n",
              "    .dataframe tbody tr th {\n",
              "        vertical-align: top;\n",
              "    }\n",
              "\n",
              "    .dataframe thead th {\n",
              "        text-align: right;\n",
              "    }\n",
              "</style>\n",
              "<table border=\"1\" class=\"dataframe\">\n",
              "  <thead>\n",
              "    <tr style=\"text-align: right;\">\n",
              "      <th></th>\n",
              "      <th>armsys</th>\n",
              "      <th>fingsys</th>\n",
              "    </tr>\n",
              "  </thead>\n",
              "  <tbody>\n",
              "    <tr>\n",
              "      <th>0</th>\n",
              "      <td>140</td>\n",
              "      <td>154</td>\n",
              "    </tr>\n",
              "    <tr>\n",
              "      <th>1</th>\n",
              "      <td>110</td>\n",
              "      <td>112</td>\n",
              "    </tr>\n",
              "    <tr>\n",
              "      <th>2</th>\n",
              "      <td>138</td>\n",
              "      <td>156</td>\n",
              "    </tr>\n",
              "    <tr>\n",
              "      <th>3</th>\n",
              "      <td>124</td>\n",
              "      <td>152</td>\n",
              "    </tr>\n",
              "    <tr>\n",
              "      <th>4</th>\n",
              "      <td>142</td>\n",
              "      <td>142</td>\n",
              "    </tr>\n",
              "  </tbody>\n",
              "</table>\n",
              "</div>\n",
              "      <button class=\"colab-df-convert\" onclick=\"convertToInteractive('df-1e2c093a-24c5-4c94-938b-f4750d03b55f')\"\n",
              "              title=\"Convert this dataframe to an interactive table.\"\n",
              "              style=\"display:none;\">\n",
              "        \n",
              "  <svg xmlns=\"http://www.w3.org/2000/svg\" height=\"24px\"viewBox=\"0 0 24 24\"\n",
              "       width=\"24px\">\n",
              "    <path d=\"M0 0h24v24H0V0z\" fill=\"none\"/>\n",
              "    <path d=\"M18.56 5.44l.94 2.06.94-2.06 2.06-.94-2.06-.94-.94-2.06-.94 2.06-2.06.94zm-11 1L8.5 8.5l.94-2.06 2.06-.94-2.06-.94L8.5 2.5l-.94 2.06-2.06.94zm10 10l.94 2.06.94-2.06 2.06-.94-2.06-.94-.94-2.06-.94 2.06-2.06.94z\"/><path d=\"M17.41 7.96l-1.37-1.37c-.4-.4-.92-.59-1.43-.59-.52 0-1.04.2-1.43.59L10.3 9.45l-7.72 7.72c-.78.78-.78 2.05 0 2.83L4 21.41c.39.39.9.59 1.41.59.51 0 1.02-.2 1.41-.59l7.78-7.78 2.81-2.81c.8-.78.8-2.07 0-2.86zM5.41 20L4 18.59l7.72-7.72 1.47 1.35L5.41 20z\"/>\n",
              "  </svg>\n",
              "      </button>\n",
              "      \n",
              "  <style>\n",
              "    .colab-df-container {\n",
              "      display:flex;\n",
              "      flex-wrap:wrap;\n",
              "      gap: 12px;\n",
              "    }\n",
              "\n",
              "    .colab-df-convert {\n",
              "      background-color: #E8F0FE;\n",
              "      border: none;\n",
              "      border-radius: 50%;\n",
              "      cursor: pointer;\n",
              "      display: none;\n",
              "      fill: #1967D2;\n",
              "      height: 32px;\n",
              "      padding: 0 0 0 0;\n",
              "      width: 32px;\n",
              "    }\n",
              "\n",
              "    .colab-df-convert:hover {\n",
              "      background-color: #E2EBFA;\n",
              "      box-shadow: 0px 1px 2px rgba(60, 64, 67, 0.3), 0px 1px 3px 1px rgba(60, 64, 67, 0.15);\n",
              "      fill: #174EA6;\n",
              "    }\n",
              "\n",
              "    [theme=dark] .colab-df-convert {\n",
              "      background-color: #3B4455;\n",
              "      fill: #D2E3FC;\n",
              "    }\n",
              "\n",
              "    [theme=dark] .colab-df-convert:hover {\n",
              "      background-color: #434B5C;\n",
              "      box-shadow: 0px 1px 3px 1px rgba(0, 0, 0, 0.15);\n",
              "      filter: drop-shadow(0px 1px 2px rgba(0, 0, 0, 0.3));\n",
              "      fill: #FFFFFF;\n",
              "    }\n",
              "  </style>\n",
              "\n",
              "      <script>\n",
              "        const buttonEl =\n",
              "          document.querySelector('#df-1e2c093a-24c5-4c94-938b-f4750d03b55f button.colab-df-convert');\n",
              "        buttonEl.style.display =\n",
              "          google.colab.kernel.accessAllowed ? 'block' : 'none';\n",
              "\n",
              "        async function convertToInteractive(key) {\n",
              "          const element = document.querySelector('#df-1e2c093a-24c5-4c94-938b-f4750d03b55f');\n",
              "          const dataTable =\n",
              "            await google.colab.kernel.invokeFunction('convertToInteractive',\n",
              "                                                     [key], {});\n",
              "          if (!dataTable) return;\n",
              "\n",
              "          const docLinkHtml = 'Like what you see? Visit the ' +\n",
              "            '<a target=\"_blank\" href=https://colab.research.google.com/notebooks/data_table.ipynb>data table notebook</a>'\n",
              "            + ' to learn more about interactive tables.';\n",
              "          element.innerHTML = '';\n",
              "          dataTable['output_type'] = 'display_data';\n",
              "          await google.colab.output.renderOutput(dataTable, element);\n",
              "          const docLink = document.createElement('div');\n",
              "          docLink.innerHTML = docLinkHtml;\n",
              "          element.appendChild(docLink);\n",
              "        }\n",
              "      </script>\n",
              "    </div>\n",
              "  </div>\n",
              "  "
            ],
            "text/plain": [
              "   armsys  fingsys\n",
              "0     140      154\n",
              "1     110      112\n",
              "2     138      156\n",
              "3     124      152\n",
              "4     142      142"
            ]
          },
          "metadata": {},
          "execution_count": 26
        }
      ]
    },
    {
      "cell_type": "code",
      "source": [
        "df.describe()"
      ],
      "metadata": {
        "colab": {
          "base_uri": "https://localhost:8080/",
          "height": 300
        },
        "id": "dsgaV4FAtuJ5",
        "outputId": "d4b88fc1-ef9d-43be-964b-9bcf7665f510"
      },
      "execution_count": null,
      "outputs": [
        {
          "output_type": "execute_result",
          "data": {
            "text/html": [
              "\n",
              "  <div id=\"df-684b60d2-a7be-489e-b5cc-e6eec1e2c3cc\">\n",
              "    <div class=\"colab-df-container\">\n",
              "      <div>\n",
              "<style scoped>\n",
              "    .dataframe tbody tr th:only-of-type {\n",
              "        vertical-align: middle;\n",
              "    }\n",
              "\n",
              "    .dataframe tbody tr th {\n",
              "        vertical-align: top;\n",
              "    }\n",
              "\n",
              "    .dataframe thead th {\n",
              "        text-align: right;\n",
              "    }\n",
              "</style>\n",
              "<table border=\"1\" class=\"dataframe\">\n",
              "  <thead>\n",
              "    <tr style=\"text-align: right;\">\n",
              "      <th></th>\n",
              "      <th>armsys</th>\n",
              "      <th>fingsys</th>\n",
              "    </tr>\n",
              "  </thead>\n",
              "  <tbody>\n",
              "    <tr>\n",
              "      <th>count</th>\n",
              "      <td>200.000000</td>\n",
              "      <td>200.000000</td>\n",
              "    </tr>\n",
              "    <tr>\n",
              "      <th>mean</th>\n",
              "      <td>128.520000</td>\n",
              "      <td>132.815000</td>\n",
              "    </tr>\n",
              "    <tr>\n",
              "      <th>std</th>\n",
              "      <td>23.287575</td>\n",
              "      <td>25.648195</td>\n",
              "    </tr>\n",
              "    <tr>\n",
              "      <th>min</th>\n",
              "      <td>79.000000</td>\n",
              "      <td>60.000000</td>\n",
              "    </tr>\n",
              "    <tr>\n",
              "      <th>25%</th>\n",
              "      <td>111.500000</td>\n",
              "      <td>118.000000</td>\n",
              "    </tr>\n",
              "    <tr>\n",
              "      <th>50%</th>\n",
              "      <td>125.000000</td>\n",
              "      <td>130.000000</td>\n",
              "    </tr>\n",
              "    <tr>\n",
              "      <th>75%</th>\n",
              "      <td>140.000000</td>\n",
              "      <td>146.500000</td>\n",
              "    </tr>\n",
              "    <tr>\n",
              "      <th>max</th>\n",
              "      <td>220.000000</td>\n",
              "      <td>228.000000</td>\n",
              "    </tr>\n",
              "  </tbody>\n",
              "</table>\n",
              "</div>\n",
              "      <button class=\"colab-df-convert\" onclick=\"convertToInteractive('df-684b60d2-a7be-489e-b5cc-e6eec1e2c3cc')\"\n",
              "              title=\"Convert this dataframe to an interactive table.\"\n",
              "              style=\"display:none;\">\n",
              "        \n",
              "  <svg xmlns=\"http://www.w3.org/2000/svg\" height=\"24px\"viewBox=\"0 0 24 24\"\n",
              "       width=\"24px\">\n",
              "    <path d=\"M0 0h24v24H0V0z\" fill=\"none\"/>\n",
              "    <path d=\"M18.56 5.44l.94 2.06.94-2.06 2.06-.94-2.06-.94-.94-2.06-.94 2.06-2.06.94zm-11 1L8.5 8.5l.94-2.06 2.06-.94-2.06-.94L8.5 2.5l-.94 2.06-2.06.94zm10 10l.94 2.06.94-2.06 2.06-.94-2.06-.94-.94-2.06-.94 2.06-2.06.94z\"/><path d=\"M17.41 7.96l-1.37-1.37c-.4-.4-.92-.59-1.43-.59-.52 0-1.04.2-1.43.59L10.3 9.45l-7.72 7.72c-.78.78-.78 2.05 0 2.83L4 21.41c.39.39.9.59 1.41.59.51 0 1.02-.2 1.41-.59l7.78-7.78 2.81-2.81c.8-.78.8-2.07 0-2.86zM5.41 20L4 18.59l7.72-7.72 1.47 1.35L5.41 20z\"/>\n",
              "  </svg>\n",
              "      </button>\n",
              "      \n",
              "  <style>\n",
              "    .colab-df-container {\n",
              "      display:flex;\n",
              "      flex-wrap:wrap;\n",
              "      gap: 12px;\n",
              "    }\n",
              "\n",
              "    .colab-df-convert {\n",
              "      background-color: #E8F0FE;\n",
              "      border: none;\n",
              "      border-radius: 50%;\n",
              "      cursor: pointer;\n",
              "      display: none;\n",
              "      fill: #1967D2;\n",
              "      height: 32px;\n",
              "      padding: 0 0 0 0;\n",
              "      width: 32px;\n",
              "    }\n",
              "\n",
              "    .colab-df-convert:hover {\n",
              "      background-color: #E2EBFA;\n",
              "      box-shadow: 0px 1px 2px rgba(60, 64, 67, 0.3), 0px 1px 3px 1px rgba(60, 64, 67, 0.15);\n",
              "      fill: #174EA6;\n",
              "    }\n",
              "\n",
              "    [theme=dark] .colab-df-convert {\n",
              "      background-color: #3B4455;\n",
              "      fill: #D2E3FC;\n",
              "    }\n",
              "\n",
              "    [theme=dark] .colab-df-convert:hover {\n",
              "      background-color: #434B5C;\n",
              "      box-shadow: 0px 1px 3px 1px rgba(0, 0, 0, 0.15);\n",
              "      filter: drop-shadow(0px 1px 2px rgba(0, 0, 0, 0.3));\n",
              "      fill: #FFFFFF;\n",
              "    }\n",
              "  </style>\n",
              "\n",
              "      <script>\n",
              "        const buttonEl =\n",
              "          document.querySelector('#df-684b60d2-a7be-489e-b5cc-e6eec1e2c3cc button.colab-df-convert');\n",
              "        buttonEl.style.display =\n",
              "          google.colab.kernel.accessAllowed ? 'block' : 'none';\n",
              "\n",
              "        async function convertToInteractive(key) {\n",
              "          const element = document.querySelector('#df-684b60d2-a7be-489e-b5cc-e6eec1e2c3cc');\n",
              "          const dataTable =\n",
              "            await google.colab.kernel.invokeFunction('convertToInteractive',\n",
              "                                                     [key], {});\n",
              "          if (!dataTable) return;\n",
              "\n",
              "          const docLinkHtml = 'Like what you see? Visit the ' +\n",
              "            '<a target=\"_blank\" href=https://colab.research.google.com/notebooks/data_table.ipynb>data table notebook</a>'\n",
              "            + ' to learn more about interactive tables.';\n",
              "          element.innerHTML = '';\n",
              "          dataTable['output_type'] = 'display_data';\n",
              "          await google.colab.output.renderOutput(dataTable, element);\n",
              "          const docLink = document.createElement('div');\n",
              "          docLink.innerHTML = docLinkHtml;\n",
              "          element.appendChild(docLink);\n",
              "        }\n",
              "      </script>\n",
              "    </div>\n",
              "  </div>\n",
              "  "
            ],
            "text/plain": [
              "           armsys     fingsys\n",
              "count  200.000000  200.000000\n",
              "mean   128.520000  132.815000\n",
              "std     23.287575   25.648195\n",
              "min     79.000000   60.000000\n",
              "25%    111.500000  118.000000\n",
              "50%    125.000000  130.000000\n",
              "75%    140.000000  146.500000\n",
              "max    220.000000  228.000000"
            ]
          },
          "metadata": {},
          "execution_count": 28
        }
      ]
    },
    {
      "cell_type": "code",
      "source": [
        "#Ho: Populaton mean for systolic BP =125 ,Ha: Population mean for systolic BP !=125\n",
        "alpha=0.05\n",
        "from statsmodels.stats import weightstats as stests\n",
        "z_stats, p_val= stests.ztest(df['armsys'],x2=None,value=125,alternative='two-sided')\n",
        "print(\"z_statistic = \",z_stats,\"p value= \",p_val)\n",
        "print(\"z_critical = \", norm.ppf(0.975))\n",
        "if p_value>alpha:\n",
        "  print(\"Test is not significant at 0.05 level of significance .Fail to reject null hypothesis\")\n",
        "else:\n",
        "  print(\"Test is significant at 0.05 level of significance .Reject null hypothesis\")\n"
      ],
      "metadata": {
        "id": "_vWWL0qKzFX8",
        "colab": {
          "base_uri": "https://localhost:8080/"
        },
        "outputId": "684ceb7d-44c5-4b6f-ad0f-e181e12a8bd1"
      },
      "execution_count": null,
      "outputs": [
        {
          "output_type": "stream",
          "name": "stdout",
          "text": [
            "z_statistic =  2.1376342148925 p value=  0.032546442541153964\n",
            "z_critical =  1.959963984540054\n",
            "Test is not significant at 0.05 level of significance .Fail to reject null hypothesis\n"
          ]
        }
      ]
    },
    {
      "cell_type": "markdown",
      "source": [
        "**Question 8: A sample of 50 pieces of certain type of string was tested. The mean breaking strength turned out to be 14.5 pounds. Test whether the sample is from a batch of string having mean breaking strength of 15.6 pounds and standard deviation of 2.2 pounds.**"
      ],
      "metadata": {
        "id": "t2chyDcPt7fL"
      }
    },
    {
      "cell_type": "code",
      "source": [
        " #Ho: Pop mean=15.6 , Ha: Pop mean !=15.6\n",
        "alpha=0.05\n",
        "x_bar=14.5\n",
        "mean=15.6\n",
        "sigma=2.2\n",
        "n=50\n",
        "SE=sigma/np.sqrt(n)\n",
        "z=(x_bar-mean)/SE\n",
        "print(\"Z_stats = \",z)\n",
        "print(\"Z_critical = \",norm.ppf(0.025))\n",
        "p_val=2*norm.cdf(z)\n",
        "print(\"p-value = \",p_val)\n",
        "if p_val>alpha:\n",
        "  print(\"Test is not significant at 0.05 level of significance .Fail to reject null hypothesis\")\n",
        "else:\n",
        "  print(\"Test is significant at 0.05 level of significance .Reject null hypothesis\")"
      ],
      "metadata": {
        "id": "nx7iYP6QzFVX",
        "colab": {
          "base_uri": "https://localhost:8080/"
        },
        "outputId": "30e3aca9-479d-4ef2-cf51-b310bf2e9047"
      },
      "execution_count": null,
      "outputs": [
        {
          "output_type": "stream",
          "name": "stdout",
          "text": [
            "Z_stats =  -3.5355339059327364\n",
            "Z_critical =  -1.9599639845400545\n",
            "p-value =  0.0004069520174449609\n",
            "Test is significant at 0.05 level of significance .Reject null hypothesis\n"
          ]
        }
      ]
    },
    {
      "cell_type": "markdown",
      "source": [
        "**Question 9: Check the hypothesis that mean value of systolic blood pressure measured on arm and finger are the same.**"
      ],
      "metadata": {
        "id": "CZTq3oDVvlVn"
      }
    },
    {
      "cell_type": "code",
      "source": [
        "df=pd.read_csv('/content/systolic blood pressure.csv')\n",
        "df.head()"
      ],
      "metadata": {
        "id": "KB8I_QHhzFSk",
        "colab": {
          "base_uri": "https://localhost:8080/",
          "height": 206
        },
        "outputId": "abf3bb65-77f8-4d1b-c682-ea5a4ddc087d"
      },
      "execution_count": null,
      "outputs": [
        {
          "output_type": "execute_result",
          "data": {
            "text/html": [
              "\n",
              "  <div id=\"df-33c5d1b0-2d80-4a1c-9d84-2fad4ea6d62f\">\n",
              "    <div class=\"colab-df-container\">\n",
              "      <div>\n",
              "<style scoped>\n",
              "    .dataframe tbody tr th:only-of-type {\n",
              "        vertical-align: middle;\n",
              "    }\n",
              "\n",
              "    .dataframe tbody tr th {\n",
              "        vertical-align: top;\n",
              "    }\n",
              "\n",
              "    .dataframe thead th {\n",
              "        text-align: right;\n",
              "    }\n",
              "</style>\n",
              "<table border=\"1\" class=\"dataframe\">\n",
              "  <thead>\n",
              "    <tr style=\"text-align: right;\">\n",
              "      <th></th>\n",
              "      <th>armsys</th>\n",
              "      <th>fingsys</th>\n",
              "    </tr>\n",
              "  </thead>\n",
              "  <tbody>\n",
              "    <tr>\n",
              "      <th>0</th>\n",
              "      <td>140</td>\n",
              "      <td>154</td>\n",
              "    </tr>\n",
              "    <tr>\n",
              "      <th>1</th>\n",
              "      <td>110</td>\n",
              "      <td>112</td>\n",
              "    </tr>\n",
              "    <tr>\n",
              "      <th>2</th>\n",
              "      <td>138</td>\n",
              "      <td>156</td>\n",
              "    </tr>\n",
              "    <tr>\n",
              "      <th>3</th>\n",
              "      <td>124</td>\n",
              "      <td>152</td>\n",
              "    </tr>\n",
              "    <tr>\n",
              "      <th>4</th>\n",
              "      <td>142</td>\n",
              "      <td>142</td>\n",
              "    </tr>\n",
              "  </tbody>\n",
              "</table>\n",
              "</div>\n",
              "      <button class=\"colab-df-convert\" onclick=\"convertToInteractive('df-33c5d1b0-2d80-4a1c-9d84-2fad4ea6d62f')\"\n",
              "              title=\"Convert this dataframe to an interactive table.\"\n",
              "              style=\"display:none;\">\n",
              "        \n",
              "  <svg xmlns=\"http://www.w3.org/2000/svg\" height=\"24px\"viewBox=\"0 0 24 24\"\n",
              "       width=\"24px\">\n",
              "    <path d=\"M0 0h24v24H0V0z\" fill=\"none\"/>\n",
              "    <path d=\"M18.56 5.44l.94 2.06.94-2.06 2.06-.94-2.06-.94-.94-2.06-.94 2.06-2.06.94zm-11 1L8.5 8.5l.94-2.06 2.06-.94-2.06-.94L8.5 2.5l-.94 2.06-2.06.94zm10 10l.94 2.06.94-2.06 2.06-.94-2.06-.94-.94-2.06-.94 2.06-2.06.94z\"/><path d=\"M17.41 7.96l-1.37-1.37c-.4-.4-.92-.59-1.43-.59-.52 0-1.04.2-1.43.59L10.3 9.45l-7.72 7.72c-.78.78-.78 2.05 0 2.83L4 21.41c.39.39.9.59 1.41.59.51 0 1.02-.2 1.41-.59l7.78-7.78 2.81-2.81c.8-.78.8-2.07 0-2.86zM5.41 20L4 18.59l7.72-7.72 1.47 1.35L5.41 20z\"/>\n",
              "  </svg>\n",
              "      </button>\n",
              "      \n",
              "  <style>\n",
              "    .colab-df-container {\n",
              "      display:flex;\n",
              "      flex-wrap:wrap;\n",
              "      gap: 12px;\n",
              "    }\n",
              "\n",
              "    .colab-df-convert {\n",
              "      background-color: #E8F0FE;\n",
              "      border: none;\n",
              "      border-radius: 50%;\n",
              "      cursor: pointer;\n",
              "      display: none;\n",
              "      fill: #1967D2;\n",
              "      height: 32px;\n",
              "      padding: 0 0 0 0;\n",
              "      width: 32px;\n",
              "    }\n",
              "\n",
              "    .colab-df-convert:hover {\n",
              "      background-color: #E2EBFA;\n",
              "      box-shadow: 0px 1px 2px rgba(60, 64, 67, 0.3), 0px 1px 3px 1px rgba(60, 64, 67, 0.15);\n",
              "      fill: #174EA6;\n",
              "    }\n",
              "\n",
              "    [theme=dark] .colab-df-convert {\n",
              "      background-color: #3B4455;\n",
              "      fill: #D2E3FC;\n",
              "    }\n",
              "\n",
              "    [theme=dark] .colab-df-convert:hover {\n",
              "      background-color: #434B5C;\n",
              "      box-shadow: 0px 1px 3px 1px rgba(0, 0, 0, 0.15);\n",
              "      filter: drop-shadow(0px 1px 2px rgba(0, 0, 0, 0.3));\n",
              "      fill: #FFFFFF;\n",
              "    }\n",
              "  </style>\n",
              "\n",
              "      <script>\n",
              "        const buttonEl =\n",
              "          document.querySelector('#df-33c5d1b0-2d80-4a1c-9d84-2fad4ea6d62f button.colab-df-convert');\n",
              "        buttonEl.style.display =\n",
              "          google.colab.kernel.accessAllowed ? 'block' : 'none';\n",
              "\n",
              "        async function convertToInteractive(key) {\n",
              "          const element = document.querySelector('#df-33c5d1b0-2d80-4a1c-9d84-2fad4ea6d62f');\n",
              "          const dataTable =\n",
              "            await google.colab.kernel.invokeFunction('convertToInteractive',\n",
              "                                                     [key], {});\n",
              "          if (!dataTable) return;\n",
              "\n",
              "          const docLinkHtml = 'Like what you see? Visit the ' +\n",
              "            '<a target=\"_blank\" href=https://colab.research.google.com/notebooks/data_table.ipynb>data table notebook</a>'\n",
              "            + ' to learn more about interactive tables.';\n",
              "          element.innerHTML = '';\n",
              "          dataTable['output_type'] = 'display_data';\n",
              "          await google.colab.output.renderOutput(dataTable, element);\n",
              "          const docLink = document.createElement('div');\n",
              "          docLink.innerHTML = docLinkHtml;\n",
              "          element.appendChild(docLink);\n",
              "        }\n",
              "      </script>\n",
              "    </div>\n",
              "  </div>\n",
              "  "
            ],
            "text/plain": [
              "   armsys  fingsys\n",
              "0     140      154\n",
              "1     110      112\n",
              "2     138      156\n",
              "3     124      152\n",
              "4     142      142"
            ]
          },
          "metadata": {},
          "execution_count": 34
        }
      ]
    },
    {
      "cell_type": "code",
      "source": [
        " df.describe()"
      ],
      "metadata": {
        "id": "qMTJ15XGzFPq",
        "colab": {
          "base_uri": "https://localhost:8080/",
          "height": 300
        },
        "outputId": "30269991-0e1b-4ca9-e523-89e8b44eee44"
      },
      "execution_count": null,
      "outputs": [
        {
          "output_type": "execute_result",
          "data": {
            "text/html": [
              "\n",
              "  <div id=\"df-933381e8-3497-4373-97e3-7685ff6159a0\">\n",
              "    <div class=\"colab-df-container\">\n",
              "      <div>\n",
              "<style scoped>\n",
              "    .dataframe tbody tr th:only-of-type {\n",
              "        vertical-align: middle;\n",
              "    }\n",
              "\n",
              "    .dataframe tbody tr th {\n",
              "        vertical-align: top;\n",
              "    }\n",
              "\n",
              "    .dataframe thead th {\n",
              "        text-align: right;\n",
              "    }\n",
              "</style>\n",
              "<table border=\"1\" class=\"dataframe\">\n",
              "  <thead>\n",
              "    <tr style=\"text-align: right;\">\n",
              "      <th></th>\n",
              "      <th>armsys</th>\n",
              "      <th>fingsys</th>\n",
              "    </tr>\n",
              "  </thead>\n",
              "  <tbody>\n",
              "    <tr>\n",
              "      <th>count</th>\n",
              "      <td>200.000000</td>\n",
              "      <td>200.000000</td>\n",
              "    </tr>\n",
              "    <tr>\n",
              "      <th>mean</th>\n",
              "      <td>128.520000</td>\n",
              "      <td>132.815000</td>\n",
              "    </tr>\n",
              "    <tr>\n",
              "      <th>std</th>\n",
              "      <td>23.287575</td>\n",
              "      <td>25.648195</td>\n",
              "    </tr>\n",
              "    <tr>\n",
              "      <th>min</th>\n",
              "      <td>79.000000</td>\n",
              "      <td>60.000000</td>\n",
              "    </tr>\n",
              "    <tr>\n",
              "      <th>25%</th>\n",
              "      <td>111.500000</td>\n",
              "      <td>118.000000</td>\n",
              "    </tr>\n",
              "    <tr>\n",
              "      <th>50%</th>\n",
              "      <td>125.000000</td>\n",
              "      <td>130.000000</td>\n",
              "    </tr>\n",
              "    <tr>\n",
              "      <th>75%</th>\n",
              "      <td>140.000000</td>\n",
              "      <td>146.500000</td>\n",
              "    </tr>\n",
              "    <tr>\n",
              "      <th>max</th>\n",
              "      <td>220.000000</td>\n",
              "      <td>228.000000</td>\n",
              "    </tr>\n",
              "  </tbody>\n",
              "</table>\n",
              "</div>\n",
              "      <button class=\"colab-df-convert\" onclick=\"convertToInteractive('df-933381e8-3497-4373-97e3-7685ff6159a0')\"\n",
              "              title=\"Convert this dataframe to an interactive table.\"\n",
              "              style=\"display:none;\">\n",
              "        \n",
              "  <svg xmlns=\"http://www.w3.org/2000/svg\" height=\"24px\"viewBox=\"0 0 24 24\"\n",
              "       width=\"24px\">\n",
              "    <path d=\"M0 0h24v24H0V0z\" fill=\"none\"/>\n",
              "    <path d=\"M18.56 5.44l.94 2.06.94-2.06 2.06-.94-2.06-.94-.94-2.06-.94 2.06-2.06.94zm-11 1L8.5 8.5l.94-2.06 2.06-.94-2.06-.94L8.5 2.5l-.94 2.06-2.06.94zm10 10l.94 2.06.94-2.06 2.06-.94-2.06-.94-.94-2.06-.94 2.06-2.06.94z\"/><path d=\"M17.41 7.96l-1.37-1.37c-.4-.4-.92-.59-1.43-.59-.52 0-1.04.2-1.43.59L10.3 9.45l-7.72 7.72c-.78.78-.78 2.05 0 2.83L4 21.41c.39.39.9.59 1.41.59.51 0 1.02-.2 1.41-.59l7.78-7.78 2.81-2.81c.8-.78.8-2.07 0-2.86zM5.41 20L4 18.59l7.72-7.72 1.47 1.35L5.41 20z\"/>\n",
              "  </svg>\n",
              "      </button>\n",
              "      \n",
              "  <style>\n",
              "    .colab-df-container {\n",
              "      display:flex;\n",
              "      flex-wrap:wrap;\n",
              "      gap: 12px;\n",
              "    }\n",
              "\n",
              "    .colab-df-convert {\n",
              "      background-color: #E8F0FE;\n",
              "      border: none;\n",
              "      border-radius: 50%;\n",
              "      cursor: pointer;\n",
              "      display: none;\n",
              "      fill: #1967D2;\n",
              "      height: 32px;\n",
              "      padding: 0 0 0 0;\n",
              "      width: 32px;\n",
              "    }\n",
              "\n",
              "    .colab-df-convert:hover {\n",
              "      background-color: #E2EBFA;\n",
              "      box-shadow: 0px 1px 2px rgba(60, 64, 67, 0.3), 0px 1px 3px 1px rgba(60, 64, 67, 0.15);\n",
              "      fill: #174EA6;\n",
              "    }\n",
              "\n",
              "    [theme=dark] .colab-df-convert {\n",
              "      background-color: #3B4455;\n",
              "      fill: #D2E3FC;\n",
              "    }\n",
              "\n",
              "    [theme=dark] .colab-df-convert:hover {\n",
              "      background-color: #434B5C;\n",
              "      box-shadow: 0px 1px 3px 1px rgba(0, 0, 0, 0.15);\n",
              "      filter: drop-shadow(0px 1px 2px rgba(0, 0, 0, 0.3));\n",
              "      fill: #FFFFFF;\n",
              "    }\n",
              "  </style>\n",
              "\n",
              "      <script>\n",
              "        const buttonEl =\n",
              "          document.querySelector('#df-933381e8-3497-4373-97e3-7685ff6159a0 button.colab-df-convert');\n",
              "        buttonEl.style.display =\n",
              "          google.colab.kernel.accessAllowed ? 'block' : 'none';\n",
              "\n",
              "        async function convertToInteractive(key) {\n",
              "          const element = document.querySelector('#df-933381e8-3497-4373-97e3-7685ff6159a0');\n",
              "          const dataTable =\n",
              "            await google.colab.kernel.invokeFunction('convertToInteractive',\n",
              "                                                     [key], {});\n",
              "          if (!dataTable) return;\n",
              "\n",
              "          const docLinkHtml = 'Like what you see? Visit the ' +\n",
              "            '<a target=\"_blank\" href=https://colab.research.google.com/notebooks/data_table.ipynb>data table notebook</a>'\n",
              "            + ' to learn more about interactive tables.';\n",
              "          element.innerHTML = '';\n",
              "          dataTable['output_type'] = 'display_data';\n",
              "          await google.colab.output.renderOutput(dataTable, element);\n",
              "          const docLink = document.createElement('div');\n",
              "          docLink.innerHTML = docLinkHtml;\n",
              "          element.appendChild(docLink);\n",
              "        }\n",
              "      </script>\n",
              "    </div>\n",
              "  </div>\n",
              "  "
            ],
            "text/plain": [
              "           armsys     fingsys\n",
              "count  200.000000  200.000000\n",
              "mean   128.520000  132.815000\n",
              "std     23.287575   25.648195\n",
              "min     79.000000   60.000000\n",
              "25%    111.500000  118.000000\n",
              "50%    125.000000  130.000000\n",
              "75%    140.000000  146.500000\n",
              "max    220.000000  228.000000"
            ]
          },
          "metadata": {},
          "execution_count": 35
        }
      ]
    },
    {
      "cell_type": "code",
      "source": [
        "#Ho: Populaton mean 1= Population mean 2 ,Ha: Populaton mean 1 != Population mean 2\n",
        "alpha=0.05\n",
        "from statsmodels.stats import weightstats as stests\n",
        "z_stats, p_val= stests.ztest(df['armsys'],x2=df['fingsys'],value=0,alternative='two-sided')\n",
        "print(\"z_statistic = \",z_stats,\"p value= \",p_val)\n",
        "print(\"z_critical = \", norm.ppf(0.975))\n",
        "if p_value>alpha:\n",
        "  print(\"Test is not significant at 0.05 level of significance .Fail to reject null hypothesis\")\n",
        "else:\n",
        "  print(\"Test is significant at 0.05 level of significance .Reject null hypothesis\")\n"
      ],
      "metadata": {
        "id": "IzyWgNx-zFM2",
        "colab": {
          "base_uri": "https://localhost:8080/"
        },
        "outputId": "5b60462c-7e22-4dca-9d88-7569d2fa152e"
      },
      "execution_count": null,
      "outputs": [
        {
          "output_type": "stream",
          "name": "stdout",
          "text": [
            "z_statistic =  -1.7533233440871472 p value=  0.07954652069053099\n",
            "z_critical =  1.959963984540054\n",
            "Test is not significant at 0.05 level of significance .Fail to reject null hypothesis\n"
          ]
        }
      ]
    },
    {
      "cell_type": "markdown",
      "source": [
        "**Question 10: A common perception about COVID-19 is that warm climate is more resistant to the corona outbreak. Verify this using hypothesis testing.**"
      ],
      "metadata": {
        "id": "PlwjQOKW4Onu"
      }
    },
    {
      "cell_type": "code",
      "source": [
        "corona=pd.read_csv('/content/Corona_Updated.csv')\n",
        "corona.head()"
      ],
      "metadata": {
        "id": "rxO1Rl4CzFKJ",
        "colab": {
          "base_uri": "https://localhost:8080/",
          "height": 374
        },
        "outputId": "138a17e6-cf35-46bb-a5d3-2610be890b38"
      },
      "execution_count": null,
      "outputs": [
        {
          "output_type": "execute_result",
          "data": {
            "text/html": [
              "\n",
              "  <div id=\"df-4594755f-715e-4930-bae8-88916e964944\">\n",
              "    <div class=\"colab-df-container\">\n",
              "      <div>\n",
              "<style scoped>\n",
              "    .dataframe tbody tr th:only-of-type {\n",
              "        vertical-align: middle;\n",
              "    }\n",
              "\n",
              "    .dataframe tbody tr th {\n",
              "        vertical-align: top;\n",
              "    }\n",
              "\n",
              "    .dataframe thead th {\n",
              "        text-align: right;\n",
              "    }\n",
              "</style>\n",
              "<table border=\"1\" class=\"dataframe\">\n",
              "  <thead>\n",
              "    <tr style=\"text-align: right;\">\n",
              "      <th></th>\n",
              "      <th>Province/State</th>\n",
              "      <th>Country/Region</th>\n",
              "      <th>Last Update</th>\n",
              "      <th>Confirmed</th>\n",
              "      <th>Deaths</th>\n",
              "      <th>Recovered</th>\n",
              "      <th>Latitude</th>\n",
              "      <th>Longitude</th>\n",
              "      <th>Temprature</th>\n",
              "      <th>Humidity</th>\n",
              "      <th>Temp_Cat</th>\n",
              "      <th>Humid_Cat</th>\n",
              "    </tr>\n",
              "  </thead>\n",
              "  <tbody>\n",
              "    <tr>\n",
              "      <th>0</th>\n",
              "      <td>Hubei</td>\n",
              "      <td>Mainland China</td>\n",
              "      <td>2020-03-10T15:13:05</td>\n",
              "      <td>67760</td>\n",
              "      <td>3024</td>\n",
              "      <td>47743</td>\n",
              "      <td>30.9756</td>\n",
              "      <td>112.2707</td>\n",
              "      <td>12.5</td>\n",
              "      <td>86</td>\n",
              "      <td>1</td>\n",
              "      <td>1</td>\n",
              "    </tr>\n",
              "    <tr>\n",
              "      <th>1</th>\n",
              "      <td>NaN</td>\n",
              "      <td>Italy</td>\n",
              "      <td>2020-03-10T17:53:02</td>\n",
              "      <td>10149</td>\n",
              "      <td>631</td>\n",
              "      <td>724</td>\n",
              "      <td>43.0000</td>\n",
              "      <td>12.0000</td>\n",
              "      <td>12.9</td>\n",
              "      <td>64</td>\n",
              "      <td>1</td>\n",
              "      <td>1</td>\n",
              "    </tr>\n",
              "    <tr>\n",
              "      <th>2</th>\n",
              "      <td>NaN</td>\n",
              "      <td>Iran (Islamic Republic of)</td>\n",
              "      <td>2020-03-10T19:13:20</td>\n",
              "      <td>8042</td>\n",
              "      <td>291</td>\n",
              "      <td>2731</td>\n",
              "      <td>32.0000</td>\n",
              "      <td>53.0000</td>\n",
              "      <td>11.9</td>\n",
              "      <td>9</td>\n",
              "      <td>0</td>\n",
              "      <td>0</td>\n",
              "    </tr>\n",
              "    <tr>\n",
              "      <th>3</th>\n",
              "      <td>NaN</td>\n",
              "      <td>Republic of Korea</td>\n",
              "      <td>2020-03-10T19:13:20</td>\n",
              "      <td>7513</td>\n",
              "      <td>54</td>\n",
              "      <td>247</td>\n",
              "      <td>36.0000</td>\n",
              "      <td>128.0000</td>\n",
              "      <td>4.9</td>\n",
              "      <td>41</td>\n",
              "      <td>0</td>\n",
              "      <td>0</td>\n",
              "    </tr>\n",
              "    <tr>\n",
              "      <th>4</th>\n",
              "      <td>NaN</td>\n",
              "      <td>France</td>\n",
              "      <td>2020-03-10T18:53:02</td>\n",
              "      <td>1784</td>\n",
              "      <td>33</td>\n",
              "      <td>12</td>\n",
              "      <td>47.0000</td>\n",
              "      <td>2.0000</td>\n",
              "      <td>11.9</td>\n",
              "      <td>93</td>\n",
              "      <td>0</td>\n",
              "      <td>0</td>\n",
              "    </tr>\n",
              "  </tbody>\n",
              "</table>\n",
              "</div>\n",
              "      <button class=\"colab-df-convert\" onclick=\"convertToInteractive('df-4594755f-715e-4930-bae8-88916e964944')\"\n",
              "              title=\"Convert this dataframe to an interactive table.\"\n",
              "              style=\"display:none;\">\n",
              "        \n",
              "  <svg xmlns=\"http://www.w3.org/2000/svg\" height=\"24px\"viewBox=\"0 0 24 24\"\n",
              "       width=\"24px\">\n",
              "    <path d=\"M0 0h24v24H0V0z\" fill=\"none\"/>\n",
              "    <path d=\"M18.56 5.44l.94 2.06.94-2.06 2.06-.94-2.06-.94-.94-2.06-.94 2.06-2.06.94zm-11 1L8.5 8.5l.94-2.06 2.06-.94-2.06-.94L8.5 2.5l-.94 2.06-2.06.94zm10 10l.94 2.06.94-2.06 2.06-.94-2.06-.94-.94-2.06-.94 2.06-2.06.94z\"/><path d=\"M17.41 7.96l-1.37-1.37c-.4-.4-.92-.59-1.43-.59-.52 0-1.04.2-1.43.59L10.3 9.45l-7.72 7.72c-.78.78-.78 2.05 0 2.83L4 21.41c.39.39.9.59 1.41.59.51 0 1.02-.2 1.41-.59l7.78-7.78 2.81-2.81c.8-.78.8-2.07 0-2.86zM5.41 20L4 18.59l7.72-7.72 1.47 1.35L5.41 20z\"/>\n",
              "  </svg>\n",
              "      </button>\n",
              "      \n",
              "  <style>\n",
              "    .colab-df-container {\n",
              "      display:flex;\n",
              "      flex-wrap:wrap;\n",
              "      gap: 12px;\n",
              "    }\n",
              "\n",
              "    .colab-df-convert {\n",
              "      background-color: #E8F0FE;\n",
              "      border: none;\n",
              "      border-radius: 50%;\n",
              "      cursor: pointer;\n",
              "      display: none;\n",
              "      fill: #1967D2;\n",
              "      height: 32px;\n",
              "      padding: 0 0 0 0;\n",
              "      width: 32px;\n",
              "    }\n",
              "\n",
              "    .colab-df-convert:hover {\n",
              "      background-color: #E2EBFA;\n",
              "      box-shadow: 0px 1px 2px rgba(60, 64, 67, 0.3), 0px 1px 3px 1px rgba(60, 64, 67, 0.15);\n",
              "      fill: #174EA6;\n",
              "    }\n",
              "\n",
              "    [theme=dark] .colab-df-convert {\n",
              "      background-color: #3B4455;\n",
              "      fill: #D2E3FC;\n",
              "    }\n",
              "\n",
              "    [theme=dark] .colab-df-convert:hover {\n",
              "      background-color: #434B5C;\n",
              "      box-shadow: 0px 1px 3px 1px rgba(0, 0, 0, 0.15);\n",
              "      filter: drop-shadow(0px 1px 2px rgba(0, 0, 0, 0.3));\n",
              "      fill: #FFFFFF;\n",
              "    }\n",
              "  </style>\n",
              "\n",
              "      <script>\n",
              "        const buttonEl =\n",
              "          document.querySelector('#df-4594755f-715e-4930-bae8-88916e964944 button.colab-df-convert');\n",
              "        buttonEl.style.display =\n",
              "          google.colab.kernel.accessAllowed ? 'block' : 'none';\n",
              "\n",
              "        async function convertToInteractive(key) {\n",
              "          const element = document.querySelector('#df-4594755f-715e-4930-bae8-88916e964944');\n",
              "          const dataTable =\n",
              "            await google.colab.kernel.invokeFunction('convertToInteractive',\n",
              "                                                     [key], {});\n",
              "          if (!dataTable) return;\n",
              "\n",
              "          const docLinkHtml = 'Like what you see? Visit the ' +\n",
              "            '<a target=\"_blank\" href=https://colab.research.google.com/notebooks/data_table.ipynb>data table notebook</a>'\n",
              "            + ' to learn more about interactive tables.';\n",
              "          element.innerHTML = '';\n",
              "          dataTable['output_type'] = 'display_data';\n",
              "          await google.colab.output.renderOutput(dataTable, element);\n",
              "          const docLink = document.createElement('div');\n",
              "          docLink.innerHTML = docLinkHtml;\n",
              "          element.appendChild(docLink);\n",
              "        }\n",
              "      </script>\n",
              "    </div>\n",
              "  </div>\n",
              "  "
            ],
            "text/plain": [
              "  Province/State              Country/Region  ... Temp_Cat  Humid_Cat\n",
              "0          Hubei              Mainland China  ...        1          1\n",
              "1            NaN                       Italy  ...        1          1\n",
              "2            NaN  Iran (Islamic Republic of)  ...        0          0\n",
              "3            NaN           Republic of Korea  ...        0          0\n",
              "4            NaN                      France  ...        0          0\n",
              "\n",
              "[5 rows x 12 columns]"
            ]
          },
          "metadata": {},
          "execution_count": 37
        }
      ]
    },
    {
      "cell_type": "code",
      "source": [
        "corona.describe()"
      ],
      "metadata": {
        "id": "7qvoD-GazFHW",
        "colab": {
          "base_uri": "https://localhost:8080/",
          "height": 364
        },
        "outputId": "d3d9ec79-db25-4a02-faeb-46a567e4c3ae"
      },
      "execution_count": null,
      "outputs": [
        {
          "output_type": "execute_result",
          "data": {
            "text/html": [
              "\n",
              "  <div id=\"df-c0e22710-6d4d-4865-b5a0-b8c3eba9e2f3\">\n",
              "    <div class=\"colab-df-container\">\n",
              "      <div>\n",
              "<style scoped>\n",
              "    .dataframe tbody tr th:only-of-type {\n",
              "        vertical-align: middle;\n",
              "    }\n",
              "\n",
              "    .dataframe tbody tr th {\n",
              "        vertical-align: top;\n",
              "    }\n",
              "\n",
              "    .dataframe thead th {\n",
              "        text-align: right;\n",
              "    }\n",
              "</style>\n",
              "<table border=\"1\" class=\"dataframe\">\n",
              "  <thead>\n",
              "    <tr style=\"text-align: right;\">\n",
              "      <th></th>\n",
              "      <th>Confirmed</th>\n",
              "      <th>Deaths</th>\n",
              "      <th>Recovered</th>\n",
              "      <th>Latitude</th>\n",
              "      <th>Longitude</th>\n",
              "      <th>Temprature</th>\n",
              "      <th>Humidity</th>\n",
              "      <th>Temp_Cat</th>\n",
              "      <th>Humid_Cat</th>\n",
              "    </tr>\n",
              "  </thead>\n",
              "  <tbody>\n",
              "    <tr>\n",
              "      <th>count</th>\n",
              "      <td>206.000000</td>\n",
              "      <td>206.000000</td>\n",
              "      <td>206.000000</td>\n",
              "      <td>206.000000</td>\n",
              "      <td>206.000000</td>\n",
              "      <td>206.000000</td>\n",
              "      <td>206.000000</td>\n",
              "      <td>206.000000</td>\n",
              "      <td>206.000000</td>\n",
              "    </tr>\n",
              "    <tr>\n",
              "      <th>mean</th>\n",
              "      <td>575.640777</td>\n",
              "      <td>20.689320</td>\n",
              "      <td>312.640777</td>\n",
              "      <td>31.184989</td>\n",
              "      <td>11.752030</td>\n",
              "      <td>12.161165</td>\n",
              "      <td>67.728155</td>\n",
              "      <td>0.470874</td>\n",
              "      <td>0.470874</td>\n",
              "    </tr>\n",
              "    <tr>\n",
              "      <th>std</th>\n",
              "      <td>4822.697784</td>\n",
              "      <td>215.794845</td>\n",
              "      <td>3332.764713</td>\n",
              "      <td>21.305149</td>\n",
              "      <td>84.576291</td>\n",
              "      <td>10.229763</td>\n",
              "      <td>21.780588</td>\n",
              "      <td>0.500367</td>\n",
              "      <td>0.500367</td>\n",
              "    </tr>\n",
              "    <tr>\n",
              "      <th>min</th>\n",
              "      <td>0.000000</td>\n",
              "      <td>0.000000</td>\n",
              "      <td>0.000000</td>\n",
              "      <td>-41.454500</td>\n",
              "      <td>-157.498300</td>\n",
              "      <td>-21.900000</td>\n",
              "      <td>6.000000</td>\n",
              "      <td>0.000000</td>\n",
              "      <td>0.000000</td>\n",
              "    </tr>\n",
              "    <tr>\n",
              "      <th>25%</th>\n",
              "      <td>3.000000</td>\n",
              "      <td>0.000000</td>\n",
              "      <td>0.000000</td>\n",
              "      <td>25.069200</td>\n",
              "      <td>-74.841325</td>\n",
              "      <td>6.100000</td>\n",
              "      <td>55.000000</td>\n",
              "      <td>0.000000</td>\n",
              "      <td>0.000000</td>\n",
              "    </tr>\n",
              "    <tr>\n",
              "      <th>50%</th>\n",
              "      <td>12.000000</td>\n",
              "      <td>0.000000</td>\n",
              "      <td>0.000000</td>\n",
              "      <td>36.030550</td>\n",
              "      <td>15.234250</td>\n",
              "      <td>11.750000</td>\n",
              "      <td>73.000000</td>\n",
              "      <td>0.000000</td>\n",
              "      <td>0.000000</td>\n",
              "    </tr>\n",
              "    <tr>\n",
              "      <th>75%</th>\n",
              "      <td>75.750000</td>\n",
              "      <td>1.000000</td>\n",
              "      <td>4.000000</td>\n",
              "      <td>43.870250</td>\n",
              "      <td>101.363375</td>\n",
              "      <td>20.375000</td>\n",
              "      <td>84.000000</td>\n",
              "      <td>1.000000</td>\n",
              "      <td>1.000000</td>\n",
              "    </tr>\n",
              "    <tr>\n",
              "      <th>max</th>\n",
              "      <td>67760.000000</td>\n",
              "      <td>3024.000000</td>\n",
              "      <td>47743.000000</td>\n",
              "      <td>64.963100</td>\n",
              "      <td>174.886000</td>\n",
              "      <td>33.100000</td>\n",
              "      <td>98.000000</td>\n",
              "      <td>1.000000</td>\n",
              "      <td>1.000000</td>\n",
              "    </tr>\n",
              "  </tbody>\n",
              "</table>\n",
              "</div>\n",
              "      <button class=\"colab-df-convert\" onclick=\"convertToInteractive('df-c0e22710-6d4d-4865-b5a0-b8c3eba9e2f3')\"\n",
              "              title=\"Convert this dataframe to an interactive table.\"\n",
              "              style=\"display:none;\">\n",
              "        \n",
              "  <svg xmlns=\"http://www.w3.org/2000/svg\" height=\"24px\"viewBox=\"0 0 24 24\"\n",
              "       width=\"24px\">\n",
              "    <path d=\"M0 0h24v24H0V0z\" fill=\"none\"/>\n",
              "    <path d=\"M18.56 5.44l.94 2.06.94-2.06 2.06-.94-2.06-.94-.94-2.06-.94 2.06-2.06.94zm-11 1L8.5 8.5l.94-2.06 2.06-.94-2.06-.94L8.5 2.5l-.94 2.06-2.06.94zm10 10l.94 2.06.94-2.06 2.06-.94-2.06-.94-.94-2.06-.94 2.06-2.06.94z\"/><path d=\"M17.41 7.96l-1.37-1.37c-.4-.4-.92-.59-1.43-.59-.52 0-1.04.2-1.43.59L10.3 9.45l-7.72 7.72c-.78.78-.78 2.05 0 2.83L4 21.41c.39.39.9.59 1.41.59.51 0 1.02-.2 1.41-.59l7.78-7.78 2.81-2.81c.8-.78.8-2.07 0-2.86zM5.41 20L4 18.59l7.72-7.72 1.47 1.35L5.41 20z\"/>\n",
              "  </svg>\n",
              "      </button>\n",
              "      \n",
              "  <style>\n",
              "    .colab-df-container {\n",
              "      display:flex;\n",
              "      flex-wrap:wrap;\n",
              "      gap: 12px;\n",
              "    }\n",
              "\n",
              "    .colab-df-convert {\n",
              "      background-color: #E8F0FE;\n",
              "      border: none;\n",
              "      border-radius: 50%;\n",
              "      cursor: pointer;\n",
              "      display: none;\n",
              "      fill: #1967D2;\n",
              "      height: 32px;\n",
              "      padding: 0 0 0 0;\n",
              "      width: 32px;\n",
              "    }\n",
              "\n",
              "    .colab-df-convert:hover {\n",
              "      background-color: #E2EBFA;\n",
              "      box-shadow: 0px 1px 2px rgba(60, 64, 67, 0.3), 0px 1px 3px 1px rgba(60, 64, 67, 0.15);\n",
              "      fill: #174EA6;\n",
              "    }\n",
              "\n",
              "    [theme=dark] .colab-df-convert {\n",
              "      background-color: #3B4455;\n",
              "      fill: #D2E3FC;\n",
              "    }\n",
              "\n",
              "    [theme=dark] .colab-df-convert:hover {\n",
              "      background-color: #434B5C;\n",
              "      box-shadow: 0px 1px 3px 1px rgba(0, 0, 0, 0.15);\n",
              "      filter: drop-shadow(0px 1px 2px rgba(0, 0, 0, 0.3));\n",
              "      fill: #FFFFFF;\n",
              "    }\n",
              "  </style>\n",
              "\n",
              "      <script>\n",
              "        const buttonEl =\n",
              "          document.querySelector('#df-c0e22710-6d4d-4865-b5a0-b8c3eba9e2f3 button.colab-df-convert');\n",
              "        buttonEl.style.display =\n",
              "          google.colab.kernel.accessAllowed ? 'block' : 'none';\n",
              "\n",
              "        async function convertToInteractive(key) {\n",
              "          const element = document.querySelector('#df-c0e22710-6d4d-4865-b5a0-b8c3eba9e2f3');\n",
              "          const dataTable =\n",
              "            await google.colab.kernel.invokeFunction('convertToInteractive',\n",
              "                                                     [key], {});\n",
              "          if (!dataTable) return;\n",
              "\n",
              "          const docLinkHtml = 'Like what you see? Visit the ' +\n",
              "            '<a target=\"_blank\" href=https://colab.research.google.com/notebooks/data_table.ipynb>data table notebook</a>'\n",
              "            + ' to learn more about interactive tables.';\n",
              "          element.innerHTML = '';\n",
              "          dataTable['output_type'] = 'display_data';\n",
              "          await google.colab.output.renderOutput(dataTable, element);\n",
              "          const docLink = document.createElement('div');\n",
              "          docLink.innerHTML = docLinkHtml;\n",
              "          element.appendChild(docLink);\n",
              "        }\n",
              "      </script>\n",
              "    </div>\n",
              "  </div>\n",
              "  "
            ],
            "text/plain": [
              "          Confirmed       Deaths  ...    Temp_Cat   Humid_Cat\n",
              "count    206.000000   206.000000  ...  206.000000  206.000000\n",
              "mean     575.640777    20.689320  ...    0.470874    0.470874\n",
              "std     4822.697784   215.794845  ...    0.500367    0.500367\n",
              "min        0.000000     0.000000  ...    0.000000    0.000000\n",
              "25%        3.000000     0.000000  ...    0.000000    0.000000\n",
              "50%       12.000000     0.000000  ...    0.000000    0.000000\n",
              "75%       75.750000     1.000000  ...    1.000000    1.000000\n",
              "max    67760.000000  3024.000000  ...    1.000000    1.000000\n",
              "\n",
              "[8 rows x 9 columns]"
            ]
          },
          "metadata": {},
          "execution_count": 38
        }
      ]
    },
    {
      "cell_type": "code",
      "source": [
        "corona['Temp_Cat']=corona['Temprature'].apply(lambda x:0 if x<24 else 1)\n",
        "corona_t=corona[['Confirmed','Temp_Cat']]\n",
        "corona_t.head()\n",
        "d1=corona_t[(corona_t['Temp_Cat']==1)]['Confirmed']\n",
        "d2=corona_t[(corona_t['Temp_Cat']==0)]['Confirmed']\n",
        "m1=d1.mean()\n",
        "m2=d2.mean()\n",
        "s1=d1.std()\n",
        "s2=d2.std()\n",
        "n1=d1.shape[0]\n",
        "n2=d2.shape[0]\n",
        "print(\"Mean confirmed cases for warm climate = \",m1 ,\"Mean confirmed cases for not warm climate = \", m2)\n",
        "print(s1,s2,n1,n2)"
      ],
      "metadata": {
        "id": "XpPYDKehzFEn",
        "colab": {
          "base_uri": "https://localhost:8080/"
        },
        "outputId": "56d2ed80-0134-41d4-a268-cd34feb4c4a6"
      },
      "execution_count": null,
      "outputs": [
        {
          "output_type": "stream",
          "name": "stdout",
          "text": [
            "Mean confirmed cases for warm climate =  26.548387096774192 Mean confirmed cases for not warm climate =  672.9085714285715\n",
            "45.93969867095882 5228.628797929274 31 175\n"
          ]
        }
      ]
    },
    {
      "cell_type": "markdown",
      "source": [
        "* Ho: Mean value of confirmed cases with warm climate =Mean value of confirmed cases with not warm climate\n",
        "* Ha: Mean value of confirmed cases with warm climate < Mean value of confirmed cases with not warm climate "
      ],
      "metadata": {
        "id": "HFjT9OcP7lwd"
      }
    },
    {
      "cell_type": "code",
      "source": [
        "SE =np.sqrt(s1**2/n1 + s2**2/n2)\n",
        "z=(m1-m2)/SE\n",
        "p_val=norm.cdf(z)\n",
        "print(\"Z statistic =\",z,\"p-value= \",p_val) \n",
        "if (p_val<0.05):\n",
        "  print(\"Test is significant at 0.05 LOS, Reject null hypothesis\")\n",
        "else:\n",
        "  print(\"Test is not significant at 0.05 LOS . Fail to reject null hypothesis\")\n"
      ],
      "metadata": {
        "id": "l4RNQ5KWzFBT",
        "colab": {
          "base_uri": "https://localhost:8080/"
        },
        "outputId": "d784f7c7-8986-42ac-92b5-bc67d02e4ccc"
      },
      "execution_count": null,
      "outputs": [
        {
          "output_type": "stream",
          "name": "stdout",
          "text": [
            "Z statistic = -1.6349753148440753 p-value=  0.05102711125709931\n",
            "Test is not significant at 0.05 LOS . Fail to reject null hypothesis\n"
          ]
        }
      ]
    },
    {
      "cell_type": "code",
      "source": [
        "SE =np.sqrt(s1**2/n1 + s2**2/n2)\n",
        "z=(m1-m2)/SE\n",
        "p_val=norm.cdf(z)\n",
        "print(\"Z statistic =\",z,\"p-value= \",p_val) \n",
        "if (p_val<0.1):\n",
        "  print(\"Test is significant at 0.1 LOS, Reject null hypothesis\")\n",
        "else:\n",
        "  print(\"Test is not significant at 0.1 LOS . Fail to reject null hypothesis\")\n"
      ],
      "metadata": {
        "id": "Q2SUvSwXzE-J",
        "colab": {
          "base_uri": "https://localhost:8080/"
        },
        "outputId": "5b7c814a-0855-491f-ac10-b6a8a415c769"
      },
      "execution_count": null,
      "outputs": [
        {
          "output_type": "stream",
          "name": "stdout",
          "text": [
            "Z statistic = -1.6349753148440753 p-value=  0.05102711125709931\n",
            "Test is significant at 0.1 LOS, Reject null hypothesis\n"
          ]
        }
      ]
    },
    {
      "cell_type": "markdown",
      "source": [
        "**Question 11: The mean consumption of food grains among 400 samples middle class consumers is 380 grams per day per person with a standard deviation of 120 grams. A similar sample survey of 600 working class consumers gave a mean of 410 grams with standard deviation of 80 grams. Are we justified in saying that the difference between the averages of the two classes is 40? Use 5℅ level of significance.**"
      ],
      "metadata": {
        "id": "lWjihhOU-FvM"
      }
    },
    {
      "cell_type": "code",
      "source": [
        "#Ho: |Mean 1- Mean 2|=40 , Ha: |Mean 1- Mean 2|!=40 \n",
        "n1,n2,m1,m2,s1,s2=400,600,380,410,120,80\n",
        "SE =np.sqrt(s1**2/n1 + s2**2/n2)\n",
        "z=(abs(m1-m2)-40)/SE\n",
        "p_val=2*norm.cdf(z)\n",
        "print(\"Z statistic =\",z,\"p-value= \",p_val) \n",
        "if (p_val<0.05):\n",
        "  print(\"Test is significant at 0.05 LOS, Reject null hypothesis\")\n",
        "else:\n",
        "  print(\"Test is not significant at 0.05 LOS . Fail to reject null hypothesis\")\n"
      ],
      "metadata": {
        "id": "H_BYQHmSzEuM",
        "colab": {
          "base_uri": "https://localhost:8080/"
        },
        "outputId": "086c9e01-0ab4-42f7-dbec-8fe421b6d91d"
      },
      "execution_count": null,
      "outputs": [
        {
          "output_type": "stream",
          "name": "stdout",
          "text": [
            "Z statistic = -1.4638501094227998 p-value=  0.14323490752466972\n",
            "Test is not significant at 0.05 LOS . Fail to reject null hypothesis\n"
          ]
        }
      ]
    },
    {
      "cell_type": "markdown",
      "source": [
        "**Question 12: Two populations have same mean but the standard deviation of one is twice that of the other. Show that in samples, each of size 500, drawn under simple random conditions, the difference of the means will not exceed 0.3 σ, where σ is the smaller standard deviation.**"
      ],
      "metadata": {
        "id": "s86PQsqnDXao"
      }
    },
    {
      "cell_type": "code",
      "source": [
        "# m1=m2 , s2 = 2 s1 ,n1=n2=500\n",
        "#Z=(X1-X2)/sqrt((s1^2/n1) + (s2^2/n2))\n",
        "#Z=(X1-X2)/sqrt((s^2/500) + (4s^2/n2))\n",
        "#Z=(X1-X2)/(s/10)\n",
        "#(X1-X2) < = 0.3s\n",
        "#(X1-X2) /(s/10) < =0.3s/(s/10)\n",
        "#(X1-X2) /(s/10) < =3\n",
        "#z <=3\n",
        "#Prob (Z=3) \n",
        "print(norm.cdf(3))\n",
        "print(\"For standard normal variable z=3 , 99.86 % area lies under the curve so the difference of the means will not exceed 0.3 σ \")"
      ],
      "metadata": {
        "colab": {
          "base_uri": "https://localhost:8080/"
        },
        "id": "UZNdM281-l42",
        "outputId": "794ec6fe-05dd-4ea2-e4f8-b8cdc178cba3"
      },
      "execution_count": null,
      "outputs": [
        {
          "output_type": "stream",
          "name": "stdout",
          "text": [
            "0.9986501019683699\n",
            "For standard normal variable z=3 , 99.86 % area lies under the curve so the difference of the means will not exceed 0.3 σ \n"
          ]
        }
      ]
    },
    {
      "cell_type": "code",
      "source": [],
      "metadata": {
        "id": "DBPCv5v-Ediq"
      },
      "execution_count": null,
      "outputs": []
    }
  ]
}